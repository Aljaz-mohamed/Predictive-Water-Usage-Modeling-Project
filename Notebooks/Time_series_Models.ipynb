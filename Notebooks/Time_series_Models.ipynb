{
  "nbformat": 4,
  "nbformat_minor": 0,
  "metadata": {
    "colab": {
      "provenance": []
    },
    "kernelspec": {
      "name": "python3",
      "display_name": "Python 3"
    },
    "language_info": {
      "name": "python"
    }
  },
  "cells": [
    {
      "cell_type": "markdown",
      "source": [
        "# **Monthly and hourly prediction of water flow:**\n",
        "1. Machine Learning model\n",
        "2. Deep Learning model"
      ],
      "metadata": {
        "id": "P3GbMfYrQSec"
      }
    },
    {
      "cell_type": "markdown",
      "source": [
        "#Flow Forecasting Model\n",
        "\n",
        "---\n",
        "\n"
      ],
      "metadata": {
        "id": "CQ2GWwE7GIBG"
      }
    },
    {
      "cell_type": "code",
      "execution_count": null,
      "metadata": {
        "colab": {
          "base_uri": "https://localhost:8080/"
        },
        "id": "5HeQymHkClp4",
        "outputId": "0003d2e5-a897-4459-a0d3-79d72778b55c"
      },
      "outputs": [
        {
          "output_type": "stream",
          "name": "stdout",
          "text": [
            "Mounted at /content/drive\n"
          ]
        }
      ],
      "source": [
        "# mounting drive\n",
        "from google.colab import drive\n",
        "drive.mount('/content/drive')"
      ]
    },
    {
      "cell_type": "markdown",
      "source": [
        "##Hourly"
      ],
      "metadata": {
        "id": "cOBqDcCVxs_c"
      }
    },
    {
      "cell_type": "code",
      "source": [
        "from sklearn.preprocessing import MinMaxScaler\n",
        "import pandas as pd\n",
        "from sklearn.model_selection import train_test_split\n",
        "from xgboost import XGBRegressor\n",
        "from sklearn.metrics import mean_absolute_error\n",
        "\n",
        "# Load dataset\n",
        "df = pd.read_csv('/content/drive/MyDrive/aggregatedWholeHouse.csv')\n",
        "\n",
        "# Convert the 'unix' timestamp to datetime\n",
        "df['datetime'] = pd.to_datetime(df['unix'], unit='s')\n",
        "\n",
        "# Aggregate data to hourly totals\n",
        "hourly_data = df.resample('H', on='datetime').sum()\n",
        "\n",
        "# Initialize the Min-Max Scaler\n",
        "scaler = MinMaxScaler()\n",
        "\n",
        "# Scale the 'flow' column\n",
        "hourly_data['flow_scaled'] = scaler.fit_transform(hourly_data[['flow']])\n",
        "\n",
        "# Calculate rolling features on the scaled 'flow'\n",
        "hourly_data['rolling_mean'] = hourly_data['flow_scaled'].rolling(window=3).mean()\n",
        "hourly_data['rolling_std'] = hourly_data['flow_scaled'].rolling(window=3).std()\n",
        "\n",
        "# Lagged features on the scaled 'flow'\n",
        "for lag in range(1, 3):\n",
        "    hourly_data[f'lag_{lag}'] = hourly_data['flow_scaled'].shift(lag)\n",
        "\n",
        "# Extract datetime features\n",
        "hourly_data['hour_of_day'] = hourly_data.index.hour\n",
        "hourly_data['day_of_week'] = hourly_data.index.dayofweek\n",
        "hourly_data['week_of_month'] = (hourly_data.index.day - 1) // 7 + 1\n",
        "hourly_data['month'] = hourly_data.index.month\n",
        "hourly_data['year'] = hourly_data.index.year\n",
        "\n",
        "# Drop the initial rows with NaN values due to rolling and lagging\n",
        "hourly_data.dropna(inplace=True)\n",
        "\n",
        "# Dataset for training\n",
        "X_hourly = hourly_data[['rolling_mean', 'rolling_std', 'lag_1', 'lag_2', 'hour_of_day', 'day_of_week', 'week_of_month', 'month', 'year']]\n",
        "y_hourly = hourly_data['flow_scaled']  # Using the scaled flow as the target variable\n",
        "\n",
        "# Split into training and testing sets\n",
        "X_train_hourly, X_test_hourly, y_train_hourly, y_test_hourly = train_test_split(\n",
        "    X_hourly, y_hourly, test_size=0.2, random_state=42)\n",
        "\n",
        "# Train the XGBoost model\n",
        "model_hourly = XGBRegressor(n_estimators=100, learning_rate=0.1, max_depth=5, random_state=42)\n",
        "model_hourly.fit(X_train_hourly, y_train_hourly)\n",
        "\n",
        "# Make predictions\n",
        "predictions_hourly = model_hourly.predict(X_test_hourly)\n",
        "\n",
        "# Evaluate the model\n",
        "mae_hourly = mean_absolute_error(y_test_hourly, predictions_hourly)\n",
        "print(f'Mean Absolute Error: {mae_hourly}')\n"
      ],
      "metadata": {
        "colab": {
          "base_uri": "https://localhost:8080/"
        },
        "id": "e2kywnvzT3eG",
        "outputId": "6de5fe4d-2878-4c9b-f9fe-321545933d2f"
      },
      "execution_count": null,
      "outputs": [
        {
          "output_type": "stream",
          "name": "stdout",
          "text": [
            "Mean Absolute Error: 0.001962513866500794\n"
          ]
        }
      ]
    },
    {
      "cell_type": "code",
      "source": [
        "data_description = hourly_data['flow_scaled'].describe()\n",
        "print(data_description)"
      ],
      "metadata": {
        "colab": {
          "base_uri": "https://localhost:8080/"
        },
        "id": "TvRwOIg-ywkC",
        "outputId": "ff213623-9457-488a-8a1b-40592bf92e51"
      },
      "execution_count": null,
      "outputs": [
        {
          "output_type": "stream",
          "name": "stdout",
          "text": [
            "count    15104.000000\n",
            "mean         0.014233\n",
            "std          0.056690\n",
            "min          0.000000\n",
            "25%          0.000000\n",
            "50%          0.000000\n",
            "75%          0.000000\n",
            "max          1.000000\n",
            "Name: flow_scaled, dtype: float64\n"
          ]
        }
      ]
    },
    {
      "cell_type": "code",
      "source": [
        "# Compute metrics\n",
        "from sklearn.metrics import mean_absolute_error, mean_squared_error, r2_score\n",
        "import numpy as np\n",
        "\n",
        "mae = mean_absolute_error(y_test_hourly, predictions_hourly)\n",
        "mse = mean_squared_error(y_test_hourly, predictions_hourly)\n",
        "rmse = np.sqrt(mse)\n",
        "r2 = r2_score(y_test_hourly, predictions_hourly)\n",
        "\n",
        "print(\"Mean Absolute Error:\", mae)\n",
        "print(\"Mean Squared Error:\", mse)\n",
        "print(\"Root Mean Squared Error:\", rmse)\n",
        "print(\"R-squared:\", r2)"
      ],
      "metadata": {
        "colab": {
          "base_uri": "https://localhost:8080/"
        },
        "id": "53Yv-rzmURXJ",
        "outputId": "924c9c58-636e-443d-f67d-71853024ffd0"
      },
      "execution_count": null,
      "outputs": [
        {
          "output_type": "stream",
          "name": "stdout",
          "text": [
            "Mean Absolute Error: 0.001962513866500794\n",
            "Mean Squared Error: 0.00010680311431692054\n",
            "Root Mean Squared Error: 0.01033455922218846\n",
            "R-squared: 0.9691279492308575\n"
          ]
        }
      ]
    },
    {
      "cell_type": "markdown",
      "source": [
        "Mean Absolute Error (MAE) of 0.0019625: This is a very low error, indicating that on average, the absolute difference between the predicted and actual values is very small. Given that the mean of your data is about 0.0142, this error is significantly lower, signifying high accuracy.\n",
        "\n",
        "Mean Squared Error (MSE) of 0.0001068 and Root Mean Squared Error (RMSE) of 0.010335: Both of these metrics further affirm the low error of the model. The RMSE, being close to the MAE, also suggests that there are not many large errors skewing the data, which is a good sign.\n",
        "\n",
        "R-squared of 0.9691: This value is very close to 1, indicating that your model explains approximately 96.91% of the variance in the target variable. This is an excellent result, showing that the model predictions are very close to the actual data points."
      ],
      "metadata": {
        "id": "-zzOlThZzo_j"
      }
    },
    {
      "cell_type": "code",
      "source": [
        "import matplotlib.pyplot as plt\n",
        "\n",
        "actual_values = y_test_hourly.to_numpy()\n",
        "\n",
        "plt.figure(figsize=(22, 6))\n",
        "plt.plot(actual_values, label='Actual Flow', marker='o', color='blue')\n",
        "plt.plot(predictions_hourly, label='Predicted Flow', marker='x', color='red')\n",
        "\n",
        "plt.title('Comparison of Actual and Predicted Water Flow')\n",
        "plt.xlabel('Hour Number')  # Updated label for clarity\n",
        "plt.ylabel('Flow')\n",
        "plt.legend()\n",
        "plt.show()"
      ],
      "metadata": {
        "colab": {
          "base_uri": "https://localhost:8080/",
          "height": 505
        },
        "id": "IE2pjyEgUnHb",
        "outputId": "763a031d-a051-4438-85bc-1676701cea89"
      },
      "execution_count": null,
      "outputs": [
        {
          "output_type": "display_data",
          "data": {
            "text/plain": [
              "<Figure size 2200x600 with 1 Axes>"
            ],
            "image/png": "[encoded data removed]"
          },
          "metadata": {}
        }
      ]
    },
    {
      "cell_type": "code",
      "source": [
        "# Sample input features\n",
        "sample_input = {\n",
        "    'rolling_mean': 1124.666667,    # Replace with an appropriate value\n",
        "    'rolling_std': \t1756.730012,      # Replace with an appropriate value\n",
        "    'lag_1': 3149.0,           # Flow from 1 hour ago\n",
        "    'lag_2': 225.0,           # Flow from 2 hours ago\n",
        "    'hour_of_day': 17,      # Hour of the day (0-23)\n",
        "    'day_of_week': 1,       # Day of the week (0=Monday, 6=Sunday)\n",
        "    'week_of_month': 3,     # Week of the month\n",
        "    'month': 9,             # Month (1-12)\n",
        "    'year': 2019            # Year\n",
        "}\n",
        "\n",
        "# Convert the sample input into a DataFrame\n",
        "sample_input_df = pd.DataFrame([sample_input])\n",
        "\n",
        "# Use the model to make a prediction\n",
        "predicted_flow = model_hourly.predict(sample_input_df)\n",
        "\n",
        "# Display the predicted flow\n",
        "print(\"Predicted Hourly Flow:\", predicted_flow[0],\"mL\")\n"
      ],
      "metadata": {
        "colab": {
          "base_uri": "https://localhost:8080/"
        },
        "id": "9jgyLzJLZEbu",
        "outputId": "9d91cd9a-4b12-44b0-a9a2-4ac7d62d68d0"
      },
      "execution_count": null,
      "outputs": [
        {
          "output_type": "stream",
          "name": "stdout",
          "text": [
            "Predicted Hourly Flow: 202.7071 mL\n"
          ]
        }
      ]
    },
    {
      "cell_type": "markdown",
      "source": [
        "This sample prediction demonstrates the model's capability to assist users in forecasting hourly water usage. It offers a practical tool for anticipating consumption for a specified hour, enhancing resource planning and management."
      ],
      "metadata": {
        "id": "jIptCHADz57z"
      }
    },
    {
      "cell_type": "markdown",
      "source": [
        "# Deep Learning:"
      ],
      "metadata": {
        "id": "3zYj2X_lXCIX"
      }
    },
    {
      "cell_type": "markdown",
      "source": [
        "Loading the data:"
      ],
      "metadata": {
        "id": "O5D_2bgaomA4"
      }
    },
    {
      "cell_type": "code",
      "source": [
        "import pandas as pd\n",
        "\n",
        "# Load your dataset\n",
        "# Replace 'your_data.csv' with the path to your data file\n",
        "aggregated_data = pd.read_csv('/content/drive/MyDrive/Deep_Learning/Water_Whole_House/aggregatedWholeHouse.csv')\n",
        "\n",
        "# Convert your datetime column to pandas datetime object\n",
        "# Replace 'datetime_column' with your actual datetime column name\n",
        "# aggregated_data['datetime'] = pd.to_datetime(aggregated_data['unix'])\n",
        "aggregated_data.shape"
      ],
      "metadata": {
        "colab": {
          "base_uri": "https://localhost:8080/"
        },
        "id": "s3dVqOBVXBG1",
        "outputId": "95a8c18d-0eed-4e87-f807-db5c976b91ba"
      },
      "execution_count": null,
      "outputs": [
        {
          "output_type": "execute_result",
          "data": {
            "text/plain": [
              "(166082, 2)"
            ]
          },
          "metadata": {},
          "execution_count": 70
        }
      ]
    },
    {
      "cell_type": "markdown",
      "source": [
        "Data description:"
      ],
      "metadata": {
        "id": "weMuompCoqTd"
      }
    },
    {
      "cell_type": "code",
      "source": [
        "# Convert Unix timestamps to datetime\n",
        "aggregated_data['datetime'] = pd.to_datetime(aggregated_data['unix'], unit='s')\n",
        "\n",
        "# Drop the original 'unix' column as it's no longer needed\n",
        "aggregated_data.drop(columns='unix', inplace=True)\n",
        "\n",
        "# Move 'datetime' column to the first position\n",
        "aggregated_data = aggregated_data[['datetime', 'flow']]\n",
        "\n",
        "# Inspect the updated dataset and basic statistics of the 'flow' column\n",
        "updated_aggregated_data_head = aggregated_data.head()\n",
        "flow_statistics = aggregated_data['flow'].describe()\n",
        "\n",
        "(updated_aggregated_data_head, flow_statistics)\n"
      ],
      "metadata": {
        "colab": {
          "base_uri": "https://localhost:8080/"
        },
        "id": "r9xvKzz828Z3",
        "outputId": "00ad3a6d-3804-442d-ae16-83084b622757"
      },
      "execution_count": null,
      "outputs": [
        {
          "output_type": "execute_result",
          "data": {
            "text/plain": [
              "(             datetime   flow\n",
              " 0 2019-02-13 08:57:09    0.0\n",
              " 1 2019-02-13 08:59:32  177.0\n",
              " 2 2019-02-13 09:03:32    0.0\n",
              " 3 2019-02-13 09:08:32    0.0\n",
              " 4 2019-02-13 09:13:32    0.0,\n",
              " count    166082.000000\n",
              " mean        138.141072\n",
              " std         656.585100\n",
              " min           0.000000\n",
              " 25%           0.000000\n",
              " 50%           0.000000\n",
              " 75%           0.000000\n",
              " max       20052.000000\n",
              " Name: flow, dtype: float64)"
            ]
          },
          "metadata": {},
          "execution_count": 71
        }
      ]
    },
    {
      "cell_type": "markdown",
      "source": [
        "Plotting outliers:"
      ],
      "metadata": {
        "id": "gFcSMBEZozZ6"
      }
    },
    {
      "cell_type": "code",
      "source": [
        "import matplotlib.pyplot as plt\n",
        "import seaborn as sns\n",
        "\n",
        "# Visualizing the distribution of 'flow' values to identify outliers\n",
        "plt.figure(figsize=(10, 6))\n",
        "sns.boxplot(aggregated_data['flow'])\n",
        "plt.title('Box Plot of Water Flow Values')\n",
        "plt.xlabel('Water Flow')\n",
        "plt.show()\n",
        "\n"
      ],
      "metadata": {
        "colab": {
          "base_uri": "https://localhost:8080/",
          "height": 550
        },
        "id": "BGkoS2u04rZi",
        "outputId": "e8a07d2a-54de-48da-8675-c38227740aa8"
      },
      "execution_count": null,
      "outputs": [
        {
          "output_type": "display_data",
          "data": {
            "text/plain": [
              "<Figure size 1000x600 with 1 Axes>"
            ],
            "image/png": "[encoded data removed]"
          },
          "metadata": {}
        }
      ]
    },
    {
      "cell_type": "markdown",
      "source": [
        "Splitting the dataset on a date:"
      ],
      "metadata": {
        "id": "_uUdEeDnuzvC"
      }
    },
    {
      "cell_type": "code",
      "source": [
        "def split_time_series_data(df, split_date):\n",
        "\n",
        "    train = df.loc[df.index <split_date]\n",
        "    test = df.loc[df.index >= split_date]\n",
        "\n",
        "    return train, test"
      ],
      "metadata": {
        "id": "DUnOOCKguy1w"
      },
      "execution_count": null,
      "outputs": []
    },
    {
      "cell_type": "code",
      "source": [
        "# Aggregating data on a daily basis\n",
        "daily_aggregated_data = aggregated_data.resample('H', on='datetime').sum().reset_index()\n",
        "\n",
        "# Display the first few rows of the daily aggregated data\n",
        "print(daily_aggregated_data.shape)\n",
        "\n",
        "print(daily_aggregated_data['datetime'].min())\n",
        "print(daily_aggregated_data['datetime'].max())"
      ],
      "metadata": {
        "colab": {
          "base_uri": "https://localhost:8080/"
        },
        "id": "6MZIiTK_vgav",
        "outputId": "712b72ea-daf8-4d7c-fbaa-991c30eebb1d"
      },
      "execution_count": null,
      "outputs": [
        {
          "output_type": "stream",
          "name": "stdout",
          "text": [
            "(15106, 2)\n",
            "2019-02-13 08:00:00\n",
            "2020-11-03 17:00:00\n"
          ]
        }
      ]
    },
    {
      "cell_type": "code",
      "source": [
        "daily_aggregated_data.head()"
      ],
      "metadata": {
        "colab": {
          "base_uri": "https://localhost:8080/",
          "height": 206
        },
        "id": "Zo5Su4rHBXqz",
        "outputId": "879bc9ef-6554-496b-907e-0136bd357844"
      },
      "execution_count": null,
      "outputs": [
        {
          "output_type": "execute_result",
          "data": {
            "text/plain": [
              "             datetime   flow\n",
              "0 2019-02-13 08:00:00  177.0\n",
              "1 2019-02-13 09:00:00    0.0\n",
              "2 2019-02-13 10:00:00    0.0\n",
              "3 2019-02-13 11:00:00  402.0\n",
              "4 2019-02-13 12:00:00    0.0"
            ],
            "text/html": [
              "\n",
              "  <div id=\"df-b3e737f2-0f80-4b4a-9874-15654bc9f80b\" class=\"colab-df-container\">\n",
              "    <div>\n",
              "<style scoped>\n",
              "    .dataframe tbody tr th:only-of-type {\n",
              "        vertical-align: middle;\n",
              "    }\n",
              "\n",
              "    .dataframe tbody tr th {\n",
              "        vertical-align: top;\n",
              "    }\n",
              "\n",
              "    .dataframe thead th {\n",
              "        text-align: right;\n",
              "    }\n",
              "</style>\n",
              "<table border=\"1\" class=\"dataframe\">\n",
              "  <thead>\n",
              "    <tr style=\"text-align: right;\">\n",
              "      <th></th>\n",
              "      <th>datetime</th>\n",
              "      <th>flow</th>\n",
              "    </tr>\n",
              "  </thead>\n",
              "  <tbody>\n",
              "    <tr>\n",
              "      <th>0</th>\n",
              "      <td>2019-02-13 08:00:00</td>\n",
              "      <td>177.0</td>\n",
              "    </tr>\n",
              "    <tr>\n",
              "      <th>1</th>\n",
              "      <td>2019-02-13 09:00:00</td>\n",
              "      <td>0.0</td>\n",
              "    </tr>\n",
              "    <tr>\n",
              "      <th>2</th>\n",
              "      <td>2019-02-13 10:00:00</td>\n",
              "      <td>0.0</td>\n",
              "    </tr>\n",
              "    <tr>\n",
              "      <th>3</th>\n",
              "      <td>2019-02-13 11:00:00</td>\n",
              "      <td>402.0</td>\n",
              "    </tr>\n",
              "    <tr>\n",
              "      <th>4</th>\n",
              "      <td>2019-02-13 12:00:00</td>\n",
              "      <td>0.0</td>\n",
              "    </tr>\n",
              "  </tbody>\n",
              "</table>\n",
              "</div>\n",
              "    <div class=\"colab-df-buttons\">\n",
              "\n",
              "  <div class=\"colab-df-container\">\n",
              "    <button class=\"colab-df-convert\" onclick=\"convertToInteractive('df-b3e737f2-0f80-4b4a-9874-15654bc9f80b')\"\n",
              "            title=\"Convert this dataframe to an interactive table.\"\n",
              "            style=\"display:none;\">\n",
              "\n",
              "  <svg xmlns=\"http://www.w3.org/2000/svg\" height=\"24px\" viewBox=\"0 -960 960 960\">\n",
              "    <path d=\"M120-120v-720h720v720H120Zm60-500h600v-160H180v160Zm220 220h160v-160H400v160Zm0 220h160v-160H400v160ZM180-400h160v-160H180v160Zm440 0h160v-160H620v160ZM180-180h160v-160H180v160Zm440 0h160v-160H620v160Z\"/>\n",
              "  </svg>\n",
              "    </button>\n",
              "\n",
              "  <style>\n",
              "    .colab-df-container {\n",
              "      display:flex;\n",
              "      gap: 12px;\n",
              "    }\n",
              "\n",
              "    .colab-df-convert {\n",
              "      background-color: #E8F0FE;\n",
              "      border: none;\n",
              "      border-radius: 50%;\n",
              "      cursor: pointer;\n",
              "      display: none;\n",
              "      fill: #1967D2;\n",
              "      height: 32px;\n",
              "      padding: 0 0 0 0;\n",
              "      width: 32px;\n",
              "    }\n",
              "\n",
              "    .colab-df-convert:hover {\n",
              "      background-color: #E2EBFA;\n",
              "      box-shadow: 0px 1px 2px rgba(60, 64, 67, 0.3), 0px 1px 3px 1px rgba(60, 64, 67, 0.15);\n",
              "      fill: #174EA6;\n",
              "    }\n",
              "\n",
              "    .colab-df-buttons div {\n",
              "      margin-bottom: 4px;\n",
              "    }\n",
              "\n",
              "    [theme=dark] .colab-df-convert {\n",
              "      background-color: #3B4455;\n",
              "      fill: #D2E3FC;\n",
              "    }\n",
              "\n",
              "    [theme=dark] .colab-df-convert:hover {\n",
              "      background-color: #434B5C;\n",
              "      box-shadow: 0px 1px 3px 1px rgba(0, 0, 0, 0.15);\n",
              "      filter: drop-shadow(0px 1px 2px rgba(0, 0, 0, 0.3));\n",
              "      fill: #FFFFFF;\n",
              "    }\n",
              "  </style>\n",
              "\n",
              "    <script>\n",
              "      const buttonEl =\n",
              "        document.querySelector('#df-b3e737f2-0f80-4b4a-9874-15654bc9f80b button.colab-df-convert');\n",
              "      buttonEl.style.display =\n",
              "        google.colab.kernel.accessAllowed ? 'block' : 'none';\n",
              "\n",
              "      async function convertToInteractive(key) {\n",
              "        const element = document.querySelector('#df-b3e737f2-0f80-4b4a-9874-15654bc9f80b');\n",
              "        const dataTable =\n",
              "          await google.colab.kernel.invokeFunction('convertToInteractive',\n",
              "                                                    [key], {});\n",
              "        if (!dataTable) return;\n",
              "\n",
              "        const docLinkHtml = 'Like what you see? Visit the ' +\n",
              "          '<a target=\"_blank\" href=https://colab.research.google.com/notebooks/data_table.ipynb>data table notebook</a>'\n",
              "          + ' to learn more about interactive tables.';\n",
              "        element.innerHTML = '';\n",
              "        dataTable['output_type'] = 'display_data';\n",
              "        await google.colab.output.renderOutput(dataTable, element);\n",
              "        const docLink = document.createElement('div');\n",
              "        docLink.innerHTML = docLinkHtml;\n",
              "        element.appendChild(docLink);\n",
              "      }\n",
              "    </script>\n",
              "  </div>\n",
              "\n",
              "\n",
              "<div id=\"df-2b418e7c-7a39-4574-8e2f-3a75006c67bc\">\n",
              "  <button class=\"colab-df-quickchart\" onclick=\"quickchart('df-2b418e7c-7a39-4574-8e2f-3a75006c67bc')\"\n",
              "            title=\"Suggest charts\"\n",
              "            style=\"display:none;\">\n",
              "\n",
              "<svg xmlns=\"http://www.w3.org/2000/svg\" height=\"24px\"viewBox=\"0 0 24 24\"\n",
              "     width=\"24px\">\n",
              "    <g>\n",
              "        <path d=\"M19 3H5c-1.1 0-2 .9-2 2v14c0 1.1.9 2 2 2h14c1.1 0 2-.9 2-2V5c0-1.1-.9-2-2-2zM9 17H7v-7h2v7zm4 0h-2V7h2v10zm4 0h-2v-4h2v4z\"/>\n",
              "    </g>\n",
              "</svg>\n",
              "  </button>\n",
              "\n",
              "<style>\n",
              "  .colab-df-quickchart {\n",
              "      --bg-color: #E8F0FE;\n",
              "      --fill-color: #1967D2;\n",
              "      --hover-bg-color: #E2EBFA;\n",
              "      --hover-fill-color: #174EA6;\n",
              "      --disabled-fill-color: #AAA;\n",
              "      --disabled-bg-color: #DDD;\n",
              "  }\n",
              "\n",
              "  [theme=dark] .colab-df-quickchart {\n",
              "      --bg-color: #3B4455;\n",
              "      --fill-color: #D2E3FC;\n",
              "      --hover-bg-color: #434B5C;\n",
              "      --hover-fill-color: #FFFFFF;\n",
              "      --disabled-bg-color: #3B4455;\n",
              "      --disabled-fill-color: #666;\n",
              "  }\n",
              "\n",
              "  .colab-df-quickchart {\n",
              "    background-color: var(--bg-color);\n",
              "    border: none;\n",
              "    border-radius: 50%;\n",
              "    cursor: pointer;\n",
              "    display: none;\n",
              "    fill: var(--fill-color);\n",
              "    height: 32px;\n",
              "    padding: 0;\n",
              "    width: 32px;\n",
              "  }\n",
              "\n",
              "  .colab-df-quickchart:hover {\n",
              "    background-color: var(--hover-bg-color);\n",
              "    box-shadow: 0 1px 2px rgba(60, 64, 67, 0.3), 0 1px 3px 1px rgba(60, 64, 67, 0.15);\n",
              "    fill: var(--button-hover-fill-color);\n",
              "  }\n",
              "\n",
              "  .colab-df-quickchart-complete:disabled,\n",
              "  .colab-df-quickchart-complete:disabled:hover {\n",
              "    background-color: var(--disabled-bg-color);\n",
              "    fill: var(--disabled-fill-color);\n",
              "    box-shadow: none;\n",
              "  }\n",
              "\n",
              "  .colab-df-spinner {\n",
              "    border: 2px solid var(--fill-color);\n",
              "    border-color: transparent;\n",
              "    border-bottom-color: var(--fill-color);\n",
              "    animation:\n",
              "      spin 1s steps(1) infinite;\n",
              "  }\n",
              "\n",
              "  @keyframes spin {\n",
              "    0% {\n",
              "      border-color: transparent;\n",
              "      border-bottom-color: var(--fill-color);\n",
              "      border-left-color: var(--fill-color);\n",
              "    }\n",
              "    20% {\n",
              "      border-color: transparent;\n",
              "      border-left-color: var(--fill-color);\n",
              "      border-top-color: var(--fill-color);\n",
              "    }\n",
              "    30% {\n",
              "      border-color: transparent;\n",
              "      border-left-color: var(--fill-color);\n",
              "      border-top-color: var(--fill-color);\n",
              "      border-right-color: var(--fill-color);\n",
              "    }\n",
              "    40% {\n",
              "      border-color: transparent;\n",
              "      border-right-color: var(--fill-color);\n",
              "      border-top-color: var(--fill-color);\n",
              "    }\n",
              "    60% {\n",
              "      border-color: transparent;\n",
              "      border-right-color: var(--fill-color);\n",
              "    }\n",
              "    80% {\n",
              "      border-color: transparent;\n",
              "      border-right-color: var(--fill-color);\n",
              "      border-bottom-color: var(--fill-color);\n",
              "    }\n",
              "    90% {\n",
              "      border-color: transparent;\n",
              "      border-bottom-color: var(--fill-color);\n",
              "    }\n",
              "  }\n",
              "</style>\n",
              "\n",
              "  <script>\n",
              "    async function quickchart(key) {\n",
              "      const quickchartButtonEl =\n",
              "        document.querySelector('#' + key + ' button');\n",
              "      quickchartButtonEl.disabled = true;  // To prevent multiple clicks.\n",
              "      quickchartButtonEl.classList.add('colab-df-spinner');\n",
              "      try {\n",
              "        const charts = await google.colab.kernel.invokeFunction(\n",
              "            'suggestCharts', [key], {});\n",
              "      } catch (error) {\n",
              "        console.error('Error during call to suggestCharts:', error);\n",
              "      }\n",
              "      quickchartButtonEl.classList.remove('colab-df-spinner');\n",
              "      quickchartButtonEl.classList.add('colab-df-quickchart-complete');\n",
              "    }\n",
              "    (() => {\n",
              "      let quickchartButtonEl =\n",
              "        document.querySelector('#df-2b418e7c-7a39-4574-8e2f-3a75006c67bc button');\n",
              "      quickchartButtonEl.style.display =\n",
              "        google.colab.kernel.accessAllowed ? 'block' : 'none';\n",
              "    })();\n",
              "  </script>\n",
              "</div>\n",
              "    </div>\n",
              "  </div>\n"
            ],
            "application/vnd.google.colaboratory.intrinsic+json": {
              "type": "dataframe",
              "variable_name": "daily_aggregated_data",
              "summary": "{\n  \"name\": \"daily_aggregated_data\",\n  \"rows\": 15106,\n  \"fields\": [\n    {\n      \"column\": \"datetime\",\n      \"properties\": {\n        \"dtype\": \"date\",\n        \"min\": \"2019-02-13 08:00:00\",\n        \"max\": \"2020-11-03 17:00:00\",\n        \"num_unique_values\": 15106,\n        \"samples\": [\n          \"2019-05-27 14:00:00\",\n          \"2020-06-26 12:00:00\",\n          \"2019-05-04 09:00:00\"\n        ],\n        \"semantic_type\": \"\",\n        \"description\": \"\"\n      }\n    },\n    {\n      \"column\": \"flow\",\n      \"properties\": {\n        \"dtype\": \"number\",\n        \"std\": 6049.6400579080255,\n        \"min\": 0.0,\n        \"max\": 106721.5,\n        \"num_unique_values\": 2464,\n        \"samples\": [\n          2196.0,\n          60421.5,\n          8.0\n        ],\n        \"semantic_type\": \"\",\n        \"description\": \"\"\n      }\n    }\n  ]\n}"
            }
          },
          "metadata": {},
          "execution_count": 54
        }
      ]
    },
    {
      "cell_type": "markdown",
      "source": [
        "Feature Engineering:"
      ],
      "metadata": {
        "id": "ybBqaZtjzPzW"
      }
    },
    {
      "cell_type": "code",
      "source": [
        "# Feature Engineering\n",
        "# Time-based features\n",
        "daily_aggregated_data['hr_of_day'] = daily_aggregated_data['datetime'].dt.hour\n",
        "daily_aggregated_data['day_of_week'] = daily_aggregated_data['datetime'].dt.dayofweek\n",
        "daily_aggregated_data['weekend'] = daily_aggregated_data['day_of_week'].apply(lambda x: 1 if x > 4 else 0)\n",
        "daily_aggregated_data['month'] = daily_aggregated_data['datetime'].dt.month\n",
        "daily_aggregated_data['year'] = daily_aggregated_data['datetime'].dt.year\n",
        "\n",
        "# Rolling window features (adjust the window size as needed)\n",
        "daily_aggregated_data['rolling_mean'] = daily_aggregated_data['flow'].rolling(window=3).mean()\n",
        "daily_aggregated_data['rolling_std'] = daily_aggregated_data['flow'].rolling(window=3).std()\n",
        "daily_aggregated_data.dropna(inplace=True)"
      ],
      "metadata": {
        "id": "fq7kcn4XvSGk"
      },
      "execution_count": null,
      "outputs": []
    },
    {
      "cell_type": "markdown",
      "source": [
        "Lags:"
      ],
      "metadata": {
        "id": "xxAo18ErwVul"
      }
    },
    {
      "cell_type": "code",
      "source": [
        "\n",
        "# test_data.reset_index(inplace=True)\n",
        "def create_lags(data,lags=4):\n",
        "    df_copy = data.copy()\n",
        "    for i in range(1,lags):\n",
        "\n",
        "      df_copy[f'lag_{i}'] = df_copy['flow'].shift(i)\n",
        "      df_copy.dropna(inplace=True)\n",
        "    return df_copy\n",
        "\n",
        "daily_aggregated_data = create_lags(daily_aggregated_data)\n",
        "# test_data_lag = create_lags(test_data)"
      ],
      "metadata": {
        "id": "7zLMc6_BwU2F"
      },
      "execution_count": null,
      "outputs": []
    },
    {
      "cell_type": "code",
      "source": [
        "daily_aggregated_data.shape"
      ],
      "metadata": {
        "colab": {
          "base_uri": "https://localhost:8080/"
        },
        "id": "oApCvQxMvgEB",
        "outputId": "408ca57a-a73d-4d86-d6a9-a00db9c9d3f6"
      },
      "execution_count": null,
      "outputs": [
        {
          "output_type": "execute_result",
          "data": {
            "text/plain": [
              "(15098, 12)"
            ]
          },
          "metadata": {},
          "execution_count": 76
        }
      ]
    },
    {
      "cell_type": "code",
      "source": [
        "daily_aggregated_data"
      ],
      "metadata": {
        "colab": {
          "base_uri": "https://localhost:8080/",
          "height": 597
        },
        "id": "wQUFpcR7Rx42",
        "outputId": "2efdf5af-c1d0-4ef8-90b6-10346e8c5d58"
      },
      "execution_count": null,
      "outputs": [
        {
          "output_type": "execute_result",
          "data": {
            "text/plain": [
              "                 datetime    flow  hr_of_day  day_of_week  weekend  month  \\\n",
              "8     2019-02-13 16:00:00     0.0         16            2        0      2   \n",
              "9     2019-02-13 17:00:00     0.0         17            2        0      2   \n",
              "10    2019-02-13 18:00:00     0.0         18            2        0      2   \n",
              "11    2019-02-13 19:00:00     0.0         19            2        0      2   \n",
              "12    2019-02-13 20:00:00     0.0         20            2        0      2   \n",
              "...                   ...     ...        ...          ...      ...    ...   \n",
              "15101 2020-11-03 13:00:00     0.0         13            1        0     11   \n",
              "15102 2020-11-03 14:00:00     0.0         14            1        0     11   \n",
              "15103 2020-11-03 15:00:00     0.0         15            1        0     11   \n",
              "15104 2020-11-03 16:00:00     6.0         16            1        0     11   \n",
              "15105 2020-11-03 17:00:00  7369.5         17            1        0     11   \n",
              "\n",
              "       year  rolling_mean  rolling_std  lag_1  lag_2  lag_3  \n",
              "8      2019           0.0     0.000000    0.0    0.0    0.0  \n",
              "9      2019           0.0     0.000000    0.0    0.0    0.0  \n",
              "10     2019           0.0     0.000000    0.0    0.0    0.0  \n",
              "11     2019           0.0     0.000000    0.0    0.0    0.0  \n",
              "12     2019           0.0     0.000000    0.0    0.0    0.0  \n",
              "...     ...           ...          ...    ...    ...    ...  \n",
              "15101  2020           0.0     0.000000    0.0    0.0    0.0  \n",
              "15102  2020           0.0     0.000000    0.0    0.0    0.0  \n",
              "15103  2020           0.0     0.000000    0.0    0.0    0.0  \n",
              "15104  2020           2.0     3.464102    0.0    0.0    0.0  \n",
              "15105  2020        2458.5  4253.051816    6.0    0.0    0.0  \n",
              "\n",
              "[15098 rows x 12 columns]"
            ],
            "text/html": [
              "\n",
              "  <div id=\"df-72d79dcc-3f43-491f-afaa-759bec009c08\" class=\"colab-df-container\">\n",
              "    <div>\n",
              "<style scoped>\n",
              "    .dataframe tbody tr th:only-of-type {\n",
              "        vertical-align: middle;\n",
              "    }\n",
              "\n",
              "    .dataframe tbody tr th {\n",
              "        vertical-align: top;\n",
              "    }\n",
              "\n",
              "    .dataframe thead th {\n",
              "        text-align: right;\n",
              "    }\n",
              "</style>\n",
              "<table border=\"1\" class=\"dataframe\">\n",
              "  <thead>\n",
              "    <tr style=\"text-align: right;\">\n",
              "      <th></th>\n",
              "      <th>datetime</th>\n",
              "      <th>flow</th>\n",
              "      <th>hr_of_day</th>\n",
              "      <th>day_of_week</th>\n",
              "      <th>weekend</th>\n",
              "      <th>month</th>\n",
              "      <th>year</th>\n",
              "      <th>rolling_mean</th>\n",
              "      <th>rolling_std</th>\n",
              "      <th>lag_1</th>\n",
              "      <th>lag_2</th>\n",
              "      <th>lag_3</th>\n",
              "    </tr>\n",
              "  </thead>\n",
              "  <tbody>\n",
              "    <tr>\n",
              "      <th>8</th>\n",
              "      <td>2019-02-13 16:00:00</td>\n",
              "      <td>0.0</td>\n",
              "      <td>16</td>\n",
              "      <td>2</td>\n",
              "      <td>0</td>\n",
              "      <td>2</td>\n",
              "      <td>2019</td>\n",
              "      <td>0.0</td>\n",
              "      <td>0.000000</td>\n",
              "      <td>0.0</td>\n",
              "      <td>0.0</td>\n",
              "      <td>0.0</td>\n",
              "    </tr>\n",
              "    <tr>\n",
              "      <th>9</th>\n",
              "      <td>2019-02-13 17:00:00</td>\n",
              "      <td>0.0</td>\n",
              "      <td>17</td>\n",
              "      <td>2</td>\n",
              "      <td>0</td>\n",
              "      <td>2</td>\n",
              "      <td>2019</td>\n",
              "      <td>0.0</td>\n",
              "      <td>0.000000</td>\n",
              "      <td>0.0</td>\n",
              "      <td>0.0</td>\n",
              "      <td>0.0</td>\n",
              "    </tr>\n",
              "    <tr>\n",
              "      <th>10</th>\n",
              "      <td>2019-02-13 18:00:00</td>\n",
              "      <td>0.0</td>\n",
              "      <td>18</td>\n",
              "      <td>2</td>\n",
              "      <td>0</td>\n",
              "      <td>2</td>\n",
              "      <td>2019</td>\n",
              "      <td>0.0</td>\n",
              "      <td>0.000000</td>\n",
              "      <td>0.0</td>\n",
              "      <td>0.0</td>\n",
              "      <td>0.0</td>\n",
              "    </tr>\n",
              "    <tr>\n",
              "      <th>11</th>\n",
              "      <td>2019-02-13 19:00:00</td>\n",
              "      <td>0.0</td>\n",
              "      <td>19</td>\n",
              "      <td>2</td>\n",
              "      <td>0</td>\n",
              "      <td>2</td>\n",
              "      <td>2019</td>\n",
              "      <td>0.0</td>\n",
              "      <td>0.000000</td>\n",
              "      <td>0.0</td>\n",
              "      <td>0.0</td>\n",
              "      <td>0.0</td>\n",
              "    </tr>\n",
              "    <tr>\n",
              "      <th>12</th>\n",
              "      <td>2019-02-13 20:00:00</td>\n",
              "      <td>0.0</td>\n",
              "      <td>20</td>\n",
              "      <td>2</td>\n",
              "      <td>0</td>\n",
              "      <td>2</td>\n",
              "      <td>2019</td>\n",
              "      <td>0.0</td>\n",
              "      <td>0.000000</td>\n",
              "      <td>0.0</td>\n",
              "      <td>0.0</td>\n",
              "      <td>0.0</td>\n",
              "    </tr>\n",
              "    <tr>\n",
              "      <th>...</th>\n",
              "      <td>...</td>\n",
              "      <td>...</td>\n",
              "      <td>...</td>\n",
              "      <td>...</td>\n",
              "      <td>...</td>\n",
              "      <td>...</td>\n",
              "      <td>...</td>\n",
              "      <td>...</td>\n",
              "      <td>...</td>\n",
              "      <td>...</td>\n",
              "      <td>...</td>\n",
              "      <td>...</td>\n",
              "    </tr>\n",
              "    <tr>\n",
              "      <th>15101</th>\n",
              "      <td>2020-11-03 13:00:00</td>\n",
              "      <td>0.0</td>\n",
              "      <td>13</td>\n",
              "      <td>1</td>\n",
              "      <td>0</td>\n",
              "      <td>11</td>\n",
              "      <td>2020</td>\n",
              "      <td>0.0</td>\n",
              "      <td>0.000000</td>\n",
              "      <td>0.0</td>\n",
              "      <td>0.0</td>\n",
              "      <td>0.0</td>\n",
              "    </tr>\n",
              "    <tr>\n",
              "      <th>15102</th>\n",
              "      <td>2020-11-03 14:00:00</td>\n",
              "      <td>0.0</td>\n",
              "      <td>14</td>\n",
              "      <td>1</td>\n",
              "      <td>0</td>\n",
              "      <td>11</td>\n",
              "      <td>2020</td>\n",
              "      <td>0.0</td>\n",
              "      <td>0.000000</td>\n",
              "      <td>0.0</td>\n",
              "      <td>0.0</td>\n",
              "      <td>0.0</td>\n",
              "    </tr>\n",
              "    <tr>\n",
              "      <th>15103</th>\n",
              "      <td>2020-11-03 15:00:00</td>\n",
              "      <td>0.0</td>\n",
              "      <td>15</td>\n",
              "      <td>1</td>\n",
              "      <td>0</td>\n",
              "      <td>11</td>\n",
              "      <td>2020</td>\n",
              "      <td>0.0</td>\n",
              "      <td>0.000000</td>\n",
              "      <td>0.0</td>\n",
              "      <td>0.0</td>\n",
              "      <td>0.0</td>\n",
              "    </tr>\n",
              "    <tr>\n",
              "      <th>15104</th>\n",
              "      <td>2020-11-03 16:00:00</td>\n",
              "      <td>6.0</td>\n",
              "      <td>16</td>\n",
              "      <td>1</td>\n",
              "      <td>0</td>\n",
              "      <td>11</td>\n",
              "      <td>2020</td>\n",
              "      <td>2.0</td>\n",
              "      <td>3.464102</td>\n",
              "      <td>0.0</td>\n",
              "      <td>0.0</td>\n",
              "      <td>0.0</td>\n",
              "    </tr>\n",
              "    <tr>\n",
              "      <th>15105</th>\n",
              "      <td>2020-11-03 17:00:00</td>\n",
              "      <td>7369.5</td>\n",
              "      <td>17</td>\n",
              "      <td>1</td>\n",
              "      <td>0</td>\n",
              "      <td>11</td>\n",
              "      <td>2020</td>\n",
              "      <td>2458.5</td>\n",
              "      <td>4253.051816</td>\n",
              "      <td>6.0</td>\n",
              "      <td>0.0</td>\n",
              "      <td>0.0</td>\n",
              "    </tr>\n",
              "  </tbody>\n",
              "</table>\n",
              "<p>15098 rows × 12 columns</p>\n",
              "</div>\n",
              "    <div class=\"colab-df-buttons\">\n",
              "\n",
              "  <div class=\"colab-df-container\">\n",
              "    <button class=\"colab-df-convert\" onclick=\"convertToInteractive('df-72d79dcc-3f43-491f-afaa-759bec009c08')\"\n",
              "            title=\"Convert this dataframe to an interactive table.\"\n",
              "            style=\"display:none;\">\n",
              "\n",
              "  <svg xmlns=\"http://www.w3.org/2000/svg\" height=\"24px\" viewBox=\"0 -960 960 960\">\n",
              "    <path d=\"M120-120v-720h720v720H120Zm60-500h600v-160H180v160Zm220 220h160v-160H400v160Zm0 220h160v-160H400v160ZM180-400h160v-160H180v160Zm440 0h160v-160H620v160ZM180-180h160v-160H180v160Zm440 0h160v-160H620v160Z\"/>\n",
              "  </svg>\n",
              "    </button>\n",
              "\n",
              "  <style>\n",
              "    .colab-df-container {\n",
              "      display:flex;\n",
              "      gap: 12px;\n",
              "    }\n",
              "\n",
              "    .colab-df-convert {\n",
              "      background-color: #E8F0FE;\n",
              "      border: none;\n",
              "      border-radius: 50%;\n",
              "      cursor: pointer;\n",
              "      display: none;\n",
              "      fill: #1967D2;\n",
              "      height: 32px;\n",
              "      padding: 0 0 0 0;\n",
              "      width: 32px;\n",
              "    }\n",
              "\n",
              "    .colab-df-convert:hover {\n",
              "      background-color: #E2EBFA;\n",
              "      box-shadow: 0px 1px 2px rgba(60, 64, 67, 0.3), 0px 1px 3px 1px rgba(60, 64, 67, 0.15);\n",
              "      fill: #174EA6;\n",
              "    }\n",
              "\n",
              "    .colab-df-buttons div {\n",
              "      margin-bottom: 4px;\n",
              "    }\n",
              "\n",
              "    [theme=dark] .colab-df-convert {\n",
              "      background-color: #3B4455;\n",
              "      fill: #D2E3FC;\n",
              "    }\n",
              "\n",
              "    [theme=dark] .colab-df-convert:hover {\n",
              "      background-color: #434B5C;\n",
              "      box-shadow: 0px 1px 3px 1px rgba(0, 0, 0, 0.15);\n",
              "      filter: drop-shadow(0px 1px 2px rgba(0, 0, 0, 0.3));\n",
              "      fill: #FFFFFF;\n",
              "    }\n",
              "  </style>\n",
              "\n",
              "    <script>\n",
              "      const buttonEl =\n",
              "        document.querySelector('#df-72d79dcc-3f43-491f-afaa-759bec009c08 button.colab-df-convert');\n",
              "      buttonEl.style.display =\n",
              "        google.colab.kernel.accessAllowed ? 'block' : 'none';\n",
              "\n",
              "      async function convertToInteractive(key) {\n",
              "        const element = document.querySelector('#df-72d79dcc-3f43-491f-afaa-759bec009c08');\n",
              "        const dataTable =\n",
              "          await google.colab.kernel.invokeFunction('convertToInteractive',\n",
              "                                                    [key], {});\n",
              "        if (!dataTable) return;\n",
              "\n",
              "        const docLinkHtml = 'Like what you see? Visit the ' +\n",
              "          '<a target=\"_blank\" href=https://colab.research.google.com/notebooks/data_table.ipynb>data table notebook</a>'\n",
              "          + ' to learn more about interactive tables.';\n",
              "        element.innerHTML = '';\n",
              "        dataTable['output_type'] = 'display_data';\n",
              "        await google.colab.output.renderOutput(dataTable, element);\n",
              "        const docLink = document.createElement('div');\n",
              "        docLink.innerHTML = docLinkHtml;\n",
              "        element.appendChild(docLink);\n",
              "      }\n",
              "    </script>\n",
              "  </div>\n",
              "\n",
              "\n",
              "<div id=\"df-7b865f30-6aff-4200-9d2a-a381078d7970\">\n",
              "  <button class=\"colab-df-quickchart\" onclick=\"quickchart('df-7b865f30-6aff-4200-9d2a-a381078d7970')\"\n",
              "            title=\"Suggest charts\"\n",
              "            style=\"display:none;\">\n",
              "\n",
              "<svg xmlns=\"http://www.w3.org/2000/svg\" height=\"24px\"viewBox=\"0 0 24 24\"\n",
              "     width=\"24px\">\n",
              "    <g>\n",
              "        <path d=\"M19 3H5c-1.1 0-2 .9-2 2v14c0 1.1.9 2 2 2h14c1.1 0 2-.9 2-2V5c0-1.1-.9-2-2-2zM9 17H7v-7h2v7zm4 0h-2V7h2v10zm4 0h-2v-4h2v4z\"/>\n",
              "    </g>\n",
              "</svg>\n",
              "  </button>\n",
              "\n",
              "<style>\n",
              "  .colab-df-quickchart {\n",
              "      --bg-color: #E8F0FE;\n",
              "      --fill-color: #1967D2;\n",
              "      --hover-bg-color: #E2EBFA;\n",
              "      --hover-fill-color: #174EA6;\n",
              "      --disabled-fill-color: #AAA;\n",
              "      --disabled-bg-color: #DDD;\n",
              "  }\n",
              "\n",
              "  [theme=dark] .colab-df-quickchart {\n",
              "      --bg-color: #3B4455;\n",
              "      --fill-color: #D2E3FC;\n",
              "      --hover-bg-color: #434B5C;\n",
              "      --hover-fill-color: #FFFFFF;\n",
              "      --disabled-bg-color: #3B4455;\n",
              "      --disabled-fill-color: #666;\n",
              "  }\n",
              "\n",
              "  .colab-df-quickchart {\n",
              "    background-color: var(--bg-color);\n",
              "    border: none;\n",
              "    border-radius: 50%;\n",
              "    cursor: pointer;\n",
              "    display: none;\n",
              "    fill: var(--fill-color);\n",
              "    height: 32px;\n",
              "    padding: 0;\n",
              "    width: 32px;\n",
              "  }\n",
              "\n",
              "  .colab-df-quickchart:hover {\n",
              "    background-color: var(--hover-bg-color);\n",
              "    box-shadow: 0 1px 2px rgba(60, 64, 67, 0.3), 0 1px 3px 1px rgba(60, 64, 67, 0.15);\n",
              "    fill: var(--button-hover-fill-color);\n",
              "  }\n",
              "\n",
              "  .colab-df-quickchart-complete:disabled,\n",
              "  .colab-df-quickchart-complete:disabled:hover {\n",
              "    background-color: var(--disabled-bg-color);\n",
              "    fill: var(--disabled-fill-color);\n",
              "    box-shadow: none;\n",
              "  }\n",
              "\n",
              "  .colab-df-spinner {\n",
              "    border: 2px solid var(--fill-color);\n",
              "    border-color: transparent;\n",
              "    border-bottom-color: var(--fill-color);\n",
              "    animation:\n",
              "      spin 1s steps(1) infinite;\n",
              "  }\n",
              "\n",
              "  @keyframes spin {\n",
              "    0% {\n",
              "      border-color: transparent;\n",
              "      border-bottom-color: var(--fill-color);\n",
              "      border-left-color: var(--fill-color);\n",
              "    }\n",
              "    20% {\n",
              "      border-color: transparent;\n",
              "      border-left-color: var(--fill-color);\n",
              "      border-top-color: var(--fill-color);\n",
              "    }\n",
              "    30% {\n",
              "      border-color: transparent;\n",
              "      border-left-color: var(--fill-color);\n",
              "      border-top-color: var(--fill-color);\n",
              "      border-right-color: var(--fill-color);\n",
              "    }\n",
              "    40% {\n",
              "      border-color: transparent;\n",
              "      border-right-color: var(--fill-color);\n",
              "      border-top-color: var(--fill-color);\n",
              "    }\n",
              "    60% {\n",
              "      border-color: transparent;\n",
              "      border-right-color: var(--fill-color);\n",
              "    }\n",
              "    80% {\n",
              "      border-color: transparent;\n",
              "      border-right-color: var(--fill-color);\n",
              "      border-bottom-color: var(--fill-color);\n",
              "    }\n",
              "    90% {\n",
              "      border-color: transparent;\n",
              "      border-bottom-color: var(--fill-color);\n",
              "    }\n",
              "  }\n",
              "</style>\n",
              "\n",
              "  <script>\n",
              "    async function quickchart(key) {\n",
              "      const quickchartButtonEl =\n",
              "        document.querySelector('#' + key + ' button');\n",
              "      quickchartButtonEl.disabled = true;  // To prevent multiple clicks.\n",
              "      quickchartButtonEl.classList.add('colab-df-spinner');\n",
              "      try {\n",
              "        const charts = await google.colab.kernel.invokeFunction(\n",
              "            'suggestCharts', [key], {});\n",
              "      } catch (error) {\n",
              "        console.error('Error during call to suggestCharts:', error);\n",
              "      }\n",
              "      quickchartButtonEl.classList.remove('colab-df-spinner');\n",
              "      quickchartButtonEl.classList.add('colab-df-quickchart-complete');\n",
              "    }\n",
              "    (() => {\n",
              "      let quickchartButtonEl =\n",
              "        document.querySelector('#df-7b865f30-6aff-4200-9d2a-a381078d7970 button');\n",
              "      quickchartButtonEl.style.display =\n",
              "        google.colab.kernel.accessAllowed ? 'block' : 'none';\n",
              "    })();\n",
              "  </script>\n",
              "</div>\n",
              "    </div>\n",
              "  </div>\n"
            ],
            "application/vnd.google.colaboratory.intrinsic+json": {
              "type": "dataframe",
              "variable_name": "daily_aggregated_data",
              "summary": "{\n  \"name\": \"daily_aggregated_data\",\n  \"rows\": 15098,\n  \"fields\": [\n    {\n      \"column\": \"datetime\",\n      \"properties\": {\n        \"dtype\": \"date\",\n        \"min\": \"2019-02-13 16:00:00\",\n        \"max\": \"2020-11-03 17:00:00\",\n        \"num_unique_values\": 15098,\n        \"samples\": [\n          \"2020-07-20 04:00:00\",\n          \"2019-10-04 08:00:00\",\n          \"2019-05-15 09:00:00\"\n        ],\n        \"semantic_type\": \"\",\n        \"description\": \"\"\n      }\n    },\n    {\n      \"column\": \"flow\",\n      \"properties\": {\n        \"dtype\": \"number\",\n        \"std\": 6051.150239509215,\n        \"min\": 0.0,\n        \"max\": 106721.5,\n        \"num_unique_values\": 2463,\n        \"samples\": [\n          52443.0,\n          1070.0,\n          8666.0\n        ],\n        \"semantic_type\": \"\",\n        \"description\": \"\"\n      }\n    },\n    {\n      \"column\": \"hr_of_day\",\n      \"properties\": {\n        \"dtype\": \"number\",\n        \"std\": 6,\n        \"min\": 0,\n        \"max\": 23,\n        \"num_unique_values\": 24,\n        \"samples\": [\n          0,\n          8,\n          16\n        ],\n        \"semantic_type\": \"\",\n        \"description\": \"\"\n      }\n    },\n    {\n      \"column\": \"day_of_week\",\n      \"properties\": {\n        \"dtype\": \"number\",\n        \"std\": 2,\n        \"min\": 0,\n        \"max\": 6,\n        \"num_unique_values\": 7,\n        \"samples\": [\n          2,\n          3,\n          0\n        ],\n        \"semantic_type\": \"\",\n        \"description\": \"\"\n      }\n    },\n    {\n      \"column\": \"weekend\",\n      \"properties\": {\n        \"dtype\": \"number\",\n        \"std\": 0,\n        \"min\": 0,\n        \"max\": 1,\n        \"num_unique_values\": 2,\n        \"samples\": [\n          1,\n          0\n        ],\n        \"semantic_type\": \"\",\n        \"description\": \"\"\n      }\n    },\n    {\n      \"column\": \"month\",\n      \"properties\": {\n        \"dtype\": \"number\",\n        \"std\": 3,\n        \"min\": 1,\n        \"max\": 12,\n        \"num_unique_values\": 12,\n        \"samples\": [\n          12,\n          11\n        ],\n        \"semantic_type\": \"\",\n        \"description\": \"\"\n      }\n    },\n    {\n      \"column\": \"year\",\n      \"properties\": {\n        \"dtype\": \"number\",\n        \"std\": 0,\n        \"min\": 2019,\n        \"max\": 2020,\n        \"num_unique_values\": 2,\n        \"samples\": [\n          2020,\n          2019\n        ],\n        \"semantic_type\": \"\",\n        \"description\": \"\"\n      }\n    },\n    {\n      \"column\": \"rolling_mean\",\n      \"properties\": {\n        \"dtype\": \"number\",\n        \"std\": 4069.9399685031503,\n        \"min\": 0.0,\n        \"max\": 50625.666666666664,\n        \"num_unique_values\": 3674,\n        \"samples\": [\n          2672.0,\n          5323.666666666667\n        ],\n        \"semantic_type\": \"\",\n        \"description\": \"\"\n      }\n    },\n    {\n      \"column\": \"rolling_std\",\n      \"properties\": {\n        \"dtype\": \"number\",\n        \"std\": 5148.466511154501,\n        \"min\": 0.0,\n        \"max\": 61324.78146380411,\n        \"num_unique_values\": 4222,\n        \"samples\": [\n          118.35680518945068,\n          13611.10725045306\n        ],\n        \"semantic_type\": \"\",\n        \"description\": \"\"\n      }\n    },\n    {\n      \"column\": \"lag_1\",\n      \"properties\": {\n        \"dtype\": \"number\",\n        \"std\": 6050.975551675119,\n        \"min\": 0.0,\n        \"max\": 106721.5,\n        \"num_unique_values\": 2462,\n        \"samples\": [\n          819.0,\n          1254.0\n        ],\n        \"semantic_type\": \"\",\n        \"description\": \"\"\n      }\n    },\n    {\n      \"column\": \"lag_2\",\n      \"properties\": {\n        \"dtype\": \"number\",\n        \"std\": 6050.975651250525,\n        \"min\": 0.0,\n        \"max\": 106721.5,\n        \"num_unique_values\": 2462,\n        \"samples\": [\n          819.0,\n          1254.0\n        ],\n        \"semantic_type\": \"\",\n        \"description\": \"\"\n      }\n    },\n    {\n      \"column\": \"lag_3\",\n      \"properties\": {\n        \"dtype\": \"number\",\n        \"std\": 6050.975651250525,\n        \"min\": 0.0,\n        \"max\": 106721.5,\n        \"num_unique_values\": 2462,\n        \"samples\": [\n          819.0,\n          1254.0\n        ],\n        \"semantic_type\": \"\",\n        \"description\": \"\"\n      }\n    }\n  ]\n}"
            }
          },
          "metadata": {},
          "execution_count": 58
        }
      ]
    },
    {
      "cell_type": "code",
      "source": [
        "daily_aggregated_data_with_lags = daily_aggregated_data.set_index('datetime')\n",
        "\n",
        "# Specify the split date\n",
        "split_date = pd.Timestamp('2020-06-01')\n",
        "\n",
        "# Split the data\n",
        "train_data, test_data = split_time_series_data(daily_aggregated_data_with_lags, split_date)\n",
        "\n",
        "print(\"Training Data:\")\n",
        "print(train_data.head())\n",
        "print(\"\\nTesting Data:\")\n",
        "print(test_data.head())\n"
      ],
      "metadata": {
        "colab": {
          "base_uri": "https://localhost:8080/"
        },
        "id": "XdKJ_bn1vN3M",
        "outputId": "425a1540-5f53-42ce-93b9-f57c1b5617cd"
      },
      "execution_count": null,
      "outputs": [
        {
          "output_type": "stream",
          "name": "stdout",
          "text": [
            "Training Data:\n",
            "                     flow  hr_of_day  day_of_week  weekend  month  year  \\\n",
            "datetime                                                                  \n",
            "2019-02-13 16:00:00   0.0         16            2        0      2  2019   \n",
            "2019-02-13 17:00:00   0.0         17            2        0      2  2019   \n",
            "2019-02-13 18:00:00   0.0         18            2        0      2  2019   \n",
            "2019-02-13 19:00:00   0.0         19            2        0      2  2019   \n",
            "2019-02-13 20:00:00   0.0         20            2        0      2  2019   \n",
            "\n",
            "                     rolling_mean  rolling_std  lag_1  lag_2  lag_3  \n",
            "datetime                                                             \n",
            "2019-02-13 16:00:00           0.0          0.0    0.0    0.0    0.0  \n",
            "2019-02-13 17:00:00           0.0          0.0    0.0    0.0    0.0  \n",
            "2019-02-13 18:00:00           0.0          0.0    0.0    0.0    0.0  \n",
            "2019-02-13 19:00:00           0.0          0.0    0.0    0.0    0.0  \n",
            "2019-02-13 20:00:00           0.0          0.0    0.0    0.0    0.0  \n",
            "\n",
            "Testing Data:\n",
            "                     flow  hr_of_day  day_of_week  weekend  month  year  \\\n",
            "datetime                                                                  \n",
            "2020-06-01 00:00:00   0.0          0            0        0      6  2020   \n",
            "2020-06-01 01:00:00   0.0          1            0        0      6  2020   \n",
            "2020-06-01 02:00:00   0.0          2            0        0      6  2020   \n",
            "2020-06-01 03:00:00   0.0          3            0        0      6  2020   \n",
            "2020-06-01 04:00:00   0.0          4            0        0      6  2020   \n",
            "\n",
            "                     rolling_mean  rolling_std  lag_1  lag_2  lag_3  \n",
            "datetime                                                             \n",
            "2020-06-01 00:00:00           0.0          0.0    0.0    0.0    0.0  \n",
            "2020-06-01 01:00:00           0.0          0.0    0.0    0.0    0.0  \n",
            "2020-06-01 02:00:00           0.0          0.0    0.0    0.0    0.0  \n",
            "2020-06-01 03:00:00           0.0          0.0    0.0    0.0    0.0  \n",
            "2020-06-01 04:00:00           0.0          0.0    0.0    0.0    0.0  \n"
          ]
        }
      ]
    },
    {
      "cell_type": "code",
      "source": [
        "print(train_data.shape)\n",
        "print(test_data.shape)"
      ],
      "metadata": {
        "colab": {
          "base_uri": "https://localhost:8080/"
        },
        "id": "DepKRMOpyr7r",
        "outputId": "cf8a5a8c-0c49-4448-ee06-257d35cadf97"
      },
      "execution_count": null,
      "outputs": [
        {
          "output_type": "stream",
          "name": "stdout",
          "text": [
            "(11360, 11)\n",
            "(3738, 11)\n"
          ]
        }
      ]
    },
    {
      "cell_type": "code",
      "source": [
        "from sklearn.preprocessing import MinMaxScaler\n",
        "from tensorflow.keras.models import Sequential\n",
        "from tensorflow.keras.layers import LSTM, Dense\n",
        "from tensorflow.keras.callbacks import EarlyStopping\n",
        "import numpy as np\n",
        "\n",
        "X_train= pd.DataFrame(train_data.drop(columns=['flow']))\n",
        "y_train=train_data[['flow']]\n",
        "\n",
        "X_test=test_data.drop(columns=['flow'])\n",
        "y_test=test_data[['flow']]\n",
        "\n"
      ],
      "metadata": {
        "id": "CnfEdxAd6Wwy"
      },
      "execution_count": null,
      "outputs": []
    },
    {
      "cell_type": "code",
      "source": [
        "X_train=X_train.reset_index()\n",
        "X_test=X_test.reset_index()\n"
      ],
      "metadata": {
        "id": "BJz9t0P4O7fB"
      },
      "execution_count": null,
      "outputs": []
    },
    {
      "cell_type": "code",
      "source": [
        "X_train=X_train.drop(columns=['datetime'], axis=1)\n",
        "X_test=X_test.drop(columns=['datetime'], axis=1)"
      ],
      "metadata": {
        "id": "nVVgxjCqQiB9"
      },
      "execution_count": null,
      "outputs": []
    },
    {
      "cell_type": "code",
      "source": [
        "X_train"
      ],
      "metadata": {
        "colab": {
          "base_uri": "https://localhost:8080/",
          "height": 424
        },
        "id": "YqGJ0ZAqQ_Vx",
        "outputId": "44d31f9a-7eed-417a-abde-ea3bd66b799a"
      },
      "execution_count": null,
      "outputs": [
        {
          "output_type": "execute_result",
          "data": {
            "text/plain": [
              "       hr_of_day  day_of_week  weekend  month  year  rolling_mean  \\\n",
              "0             16            2        0      2  2019           0.0   \n",
              "1             17            2        0      2  2019           0.0   \n",
              "2             18            2        0      2  2019           0.0   \n",
              "3             19            2        0      2  2019           0.0   \n",
              "4             20            2        0      2  2019           0.0   \n",
              "...          ...          ...      ...    ...   ...           ...   \n",
              "11355         19            6        1      5  2020           0.0   \n",
              "11356         20            6        1      5  2020           0.0   \n",
              "11357         21            6        1      5  2020           0.0   \n",
              "11358         22            6        1      5  2020           0.0   \n",
              "11359         23            6        1      5  2020           0.0   \n",
              "\n",
              "       rolling_std  lag_1  lag_2  lag_3  \n",
              "0              0.0    0.0    0.0    0.0  \n",
              "1              0.0    0.0    0.0    0.0  \n",
              "2              0.0    0.0    0.0    0.0  \n",
              "3              0.0    0.0    0.0    0.0  \n",
              "4              0.0    0.0    0.0    0.0  \n",
              "...            ...    ...    ...    ...  \n",
              "11355          0.0    0.0    0.0    0.0  \n",
              "11356          0.0    0.0    0.0    0.0  \n",
              "11357          0.0    0.0    0.0    0.0  \n",
              "11358          0.0    0.0    0.0    0.0  \n",
              "11359          0.0    0.0    0.0    0.0  \n",
              "\n",
              "[11360 rows x 10 columns]"
            ],
            "text/html": [
              "\n",
              "  <div id=\"df-a11b0601-d386-4686-8fae-5cb0264ec93d\" class=\"colab-df-container\">\n",
              "    <div>\n",
              "<style scoped>\n",
              "    .dataframe tbody tr th:only-of-type {\n",
              "        vertical-align: middle;\n",
              "    }\n",
              "\n",
              "    .dataframe tbody tr th {\n",
              "        vertical-align: top;\n",
              "    }\n",
              "\n",
              "    .dataframe thead th {\n",
              "        text-align: right;\n",
              "    }\n",
              "</style>\n",
              "<table border=\"1\" class=\"dataframe\">\n",
              "  <thead>\n",
              "    <tr style=\"text-align: right;\">\n",
              "      <th></th>\n",
              "      <th>hr_of_day</th>\n",
              "      <th>day_of_week</th>\n",
              "      <th>weekend</th>\n",
              "      <th>month</th>\n",
              "      <th>year</th>\n",
              "      <th>rolling_mean</th>\n",
              "      <th>rolling_std</th>\n",
              "      <th>lag_1</th>\n",
              "      <th>lag_2</th>\n",
              "      <th>lag_3</th>\n",
              "    </tr>\n",
              "  </thead>\n",
              "  <tbody>\n",
              "    <tr>\n",
              "      <th>0</th>\n",
              "      <td>16</td>\n",
              "      <td>2</td>\n",
              "      <td>0</td>\n",
              "      <td>2</td>\n",
              "      <td>2019</td>\n",
              "      <td>0.0</td>\n",
              "      <td>0.0</td>\n",
              "      <td>0.0</td>\n",
              "      <td>0.0</td>\n",
              "      <td>0.0</td>\n",
              "    </tr>\n",
              "    <tr>\n",
              "      <th>1</th>\n",
              "      <td>17</td>\n",
              "      <td>2</td>\n",
              "      <td>0</td>\n",
              "      <td>2</td>\n",
              "      <td>2019</td>\n",
              "      <td>0.0</td>\n",
              "      <td>0.0</td>\n",
              "      <td>0.0</td>\n",
              "      <td>0.0</td>\n",
              "      <td>0.0</td>\n",
              "    </tr>\n",
              "    <tr>\n",
              "      <th>2</th>\n",
              "      <td>18</td>\n",
              "      <td>2</td>\n",
              "      <td>0</td>\n",
              "      <td>2</td>\n",
              "      <td>2019</td>\n",
              "      <td>0.0</td>\n",
              "      <td>0.0</td>\n",
              "      <td>0.0</td>\n",
              "      <td>0.0</td>\n",
              "      <td>0.0</td>\n",
              "    </tr>\n",
              "    <tr>\n",
              "      <th>3</th>\n",
              "      <td>19</td>\n",
              "      <td>2</td>\n",
              "      <td>0</td>\n",
              "      <td>2</td>\n",
              "      <td>2019</td>\n",
              "      <td>0.0</td>\n",
              "      <td>0.0</td>\n",
              "      <td>0.0</td>\n",
              "      <td>0.0</td>\n",
              "      <td>0.0</td>\n",
              "    </tr>\n",
              "    <tr>\n",
              "      <th>4</th>\n",
              "      <td>20</td>\n",
              "      <td>2</td>\n",
              "      <td>0</td>\n",
              "      <td>2</td>\n",
              "      <td>2019</td>\n",
              "      <td>0.0</td>\n",
              "      <td>0.0</td>\n",
              "      <td>0.0</td>\n",
              "      <td>0.0</td>\n",
              "      <td>0.0</td>\n",
              "    </tr>\n",
              "    <tr>\n",
              "      <th>...</th>\n",
              "      <td>...</td>\n",
              "      <td>...</td>\n",
              "      <td>...</td>\n",
              "      <td>...</td>\n",
              "      <td>...</td>\n",
              "      <td>...</td>\n",
              "      <td>...</td>\n",
              "      <td>...</td>\n",
              "      <td>...</td>\n",
              "      <td>...</td>\n",
              "    </tr>\n",
              "    <tr>\n",
              "      <th>11355</th>\n",
              "      <td>19</td>\n",
              "      <td>6</td>\n",
              "      <td>1</td>\n",
              "      <td>5</td>\n",
              "      <td>2020</td>\n",
              "      <td>0.0</td>\n",
              "      <td>0.0</td>\n",
              "      <td>0.0</td>\n",
              "      <td>0.0</td>\n",
              "      <td>0.0</td>\n",
              "    </tr>\n",
              "    <tr>\n",
              "      <th>11356</th>\n",
              "      <td>20</td>\n",
              "      <td>6</td>\n",
              "      <td>1</td>\n",
              "      <td>5</td>\n",
              "      <td>2020</td>\n",
              "      <td>0.0</td>\n",
              "      <td>0.0</td>\n",
              "      <td>0.0</td>\n",
              "      <td>0.0</td>\n",
              "      <td>0.0</td>\n",
              "    </tr>\n",
              "    <tr>\n",
              "      <th>11357</th>\n",
              "      <td>21</td>\n",
              "      <td>6</td>\n",
              "      <td>1</td>\n",
              "      <td>5</td>\n",
              "      <td>2020</td>\n",
              "      <td>0.0</td>\n",
              "      <td>0.0</td>\n",
              "      <td>0.0</td>\n",
              "      <td>0.0</td>\n",
              "      <td>0.0</td>\n",
              "    </tr>\n",
              "    <tr>\n",
              "      <th>11358</th>\n",
              "      <td>22</td>\n",
              "      <td>6</td>\n",
              "      <td>1</td>\n",
              "      <td>5</td>\n",
              "      <td>2020</td>\n",
              "      <td>0.0</td>\n",
              "      <td>0.0</td>\n",
              "      <td>0.0</td>\n",
              "      <td>0.0</td>\n",
              "      <td>0.0</td>\n",
              "    </tr>\n",
              "    <tr>\n",
              "      <th>11359</th>\n",
              "      <td>23</td>\n",
              "      <td>6</td>\n",
              "      <td>1</td>\n",
              "      <td>5</td>\n",
              "      <td>2020</td>\n",
              "      <td>0.0</td>\n",
              "      <td>0.0</td>\n",
              "      <td>0.0</td>\n",
              "      <td>0.0</td>\n",
              "      <td>0.0</td>\n",
              "    </tr>\n",
              "  </tbody>\n",
              "</table>\n",
              "<p>11360 rows × 10 columns</p>\n",
              "</div>\n",
              "    <div class=\"colab-df-buttons\">\n",
              "\n",
              "  <div class=\"colab-df-container\">\n",
              "    <button class=\"colab-df-convert\" onclick=\"convertToInteractive('df-a11b0601-d386-4686-8fae-5cb0264ec93d')\"\n",
              "            title=\"Convert this dataframe to an interactive table.\"\n",
              "            style=\"display:none;\">\n",
              "\n",
              "  <svg xmlns=\"http://www.w3.org/2000/svg\" height=\"24px\" viewBox=\"0 -960 960 960\">\n",
              "    <path d=\"M120-120v-720h720v720H120Zm60-500h600v-160H180v160Zm220 220h160v-160H400v160Zm0 220h160v-160H400v160ZM180-400h160v-160H180v160Zm440 0h160v-160H620v160ZM180-180h160v-160H180v160Zm440 0h160v-160H620v160Z\"/>\n",
              "  </svg>\n",
              "    </button>\n",
              "\n",
              "  <style>\n",
              "    .colab-df-container {\n",
              "      display:flex;\n",
              "      gap: 12px;\n",
              "    }\n",
              "\n",
              "    .colab-df-convert {\n",
              "      background-color: #E8F0FE;\n",
              "      border: none;\n",
              "      border-radius: 50%;\n",
              "      cursor: pointer;\n",
              "      display: none;\n",
              "      fill: #1967D2;\n",
              "      height: 32px;\n",
              "      padding: 0 0 0 0;\n",
              "      width: 32px;\n",
              "    }\n",
              "\n",
              "    .colab-df-convert:hover {\n",
              "      background-color: #E2EBFA;\n",
              "      box-shadow: 0px 1px 2px rgba(60, 64, 67, 0.3), 0px 1px 3px 1px rgba(60, 64, 67, 0.15);\n",
              "      fill: #174EA6;\n",
              "    }\n",
              "\n",
              "    .colab-df-buttons div {\n",
              "      margin-bottom: 4px;\n",
              "    }\n",
              "\n",
              "    [theme=dark] .colab-df-convert {\n",
              "      background-color: #3B4455;\n",
              "      fill: #D2E3FC;\n",
              "    }\n",
              "\n",
              "    [theme=dark] .colab-df-convert:hover {\n",
              "      background-color: #434B5C;\n",
              "      box-shadow: 0px 1px 3px 1px rgba(0, 0, 0, 0.15);\n",
              "      filter: drop-shadow(0px 1px 2px rgba(0, 0, 0, 0.3));\n",
              "      fill: #FFFFFF;\n",
              "    }\n",
              "  </style>\n",
              "\n",
              "    <script>\n",
              "      const buttonEl =\n",
              "        document.querySelector('#df-a11b0601-d386-4686-8fae-5cb0264ec93d button.colab-df-convert');\n",
              "      buttonEl.style.display =\n",
              "        google.colab.kernel.accessAllowed ? 'block' : 'none';\n",
              "\n",
              "      async function convertToInteractive(key) {\n",
              "        const element = document.querySelector('#df-a11b0601-d386-4686-8fae-5cb0264ec93d');\n",
              "        const dataTable =\n",
              "          await google.colab.kernel.invokeFunction('convertToInteractive',\n",
              "                                                    [key], {});\n",
              "        if (!dataTable) return;\n",
              "\n",
              "        const docLinkHtml = 'Like what you see? Visit the ' +\n",
              "          '<a target=\"_blank\" href=https://colab.research.google.com/notebooks/data_table.ipynb>data table notebook</a>'\n",
              "          + ' to learn more about interactive tables.';\n",
              "        element.innerHTML = '';\n",
              "        dataTable['output_type'] = 'display_data';\n",
              "        await google.colab.output.renderOutput(dataTable, element);\n",
              "        const docLink = document.createElement('div');\n",
              "        docLink.innerHTML = docLinkHtml;\n",
              "        element.appendChild(docLink);\n",
              "      }\n",
              "    </script>\n",
              "  </div>\n",
              "\n",
              "\n",
              "<div id=\"df-e41c6b33-89db-43cf-877a-b4ce80c4344c\">\n",
              "  <button class=\"colab-df-quickchart\" onclick=\"quickchart('df-e41c6b33-89db-43cf-877a-b4ce80c4344c')\"\n",
              "            title=\"Suggest charts\"\n",
              "            style=\"display:none;\">\n",
              "\n",
              "<svg xmlns=\"http://www.w3.org/2000/svg\" height=\"24px\"viewBox=\"0 0 24 24\"\n",
              "     width=\"24px\">\n",
              "    <g>\n",
              "        <path d=\"M19 3H5c-1.1 0-2 .9-2 2v14c0 1.1.9 2 2 2h14c1.1 0 2-.9 2-2V5c0-1.1-.9-2-2-2zM9 17H7v-7h2v7zm4 0h-2V7h2v10zm4 0h-2v-4h2v4z\"/>\n",
              "    </g>\n",
              "</svg>\n",
              "  </button>\n",
              "\n",
              "<style>\n",
              "  .colab-df-quickchart {\n",
              "      --bg-color: #E8F0FE;\n",
              "      --fill-color: #1967D2;\n",
              "      --hover-bg-color: #E2EBFA;\n",
              "      --hover-fill-color: #174EA6;\n",
              "      --disabled-fill-color: #AAA;\n",
              "      --disabled-bg-color: #DDD;\n",
              "  }\n",
              "\n",
              "  [theme=dark] .colab-df-quickchart {\n",
              "      --bg-color: #3B4455;\n",
              "      --fill-color: #D2E3FC;\n",
              "      --hover-bg-color: #434B5C;\n",
              "      --hover-fill-color: #FFFFFF;\n",
              "      --disabled-bg-color: #3B4455;\n",
              "      --disabled-fill-color: #666;\n",
              "  }\n",
              "\n",
              "  .colab-df-quickchart {\n",
              "    background-color: var(--bg-color);\n",
              "    border: none;\n",
              "    border-radius: 50%;\n",
              "    cursor: pointer;\n",
              "    display: none;\n",
              "    fill: var(--fill-color);\n",
              "    height: 32px;\n",
              "    padding: 0;\n",
              "    width: 32px;\n",
              "  }\n",
              "\n",
              "  .colab-df-quickchart:hover {\n",
              "    background-color: var(--hover-bg-color);\n",
              "    box-shadow: 0 1px 2px rgba(60, 64, 67, 0.3), 0 1px 3px 1px rgba(60, 64, 67, 0.15);\n",
              "    fill: var(--button-hover-fill-color);\n",
              "  }\n",
              "\n",
              "  .colab-df-quickchart-complete:disabled,\n",
              "  .colab-df-quickchart-complete:disabled:hover {\n",
              "    background-color: var(--disabled-bg-color);\n",
              "    fill: var(--disabled-fill-color);\n",
              "    box-shadow: none;\n",
              "  }\n",
              "\n",
              "  .colab-df-spinner {\n",
              "    border: 2px solid var(--fill-color);\n",
              "    border-color: transparent;\n",
              "    border-bottom-color: var(--fill-color);\n",
              "    animation:\n",
              "      spin 1s steps(1) infinite;\n",
              "  }\n",
              "\n",
              "  @keyframes spin {\n",
              "    0% {\n",
              "      border-color: transparent;\n",
              "      border-bottom-color: var(--fill-color);\n",
              "      border-left-color: var(--fill-color);\n",
              "    }\n",
              "    20% {\n",
              "      border-color: transparent;\n",
              "      border-left-color: var(--fill-color);\n",
              "      border-top-color: var(--fill-color);\n",
              "    }\n",
              "    30% {\n",
              "      border-color: transparent;\n",
              "      border-left-color: var(--fill-color);\n",
              "      border-top-color: var(--fill-color);\n",
              "      border-right-color: var(--fill-color);\n",
              "    }\n",
              "    40% {\n",
              "      border-color: transparent;\n",
              "      border-right-color: var(--fill-color);\n",
              "      border-top-color: var(--fill-color);\n",
              "    }\n",
              "    60% {\n",
              "      border-color: transparent;\n",
              "      border-right-color: var(--fill-color);\n",
              "    }\n",
              "    80% {\n",
              "      border-color: transparent;\n",
              "      border-right-color: var(--fill-color);\n",
              "      border-bottom-color: var(--fill-color);\n",
              "    }\n",
              "    90% {\n",
              "      border-color: transparent;\n",
              "      border-bottom-color: var(--fill-color);\n",
              "    }\n",
              "  }\n",
              "</style>\n",
              "\n",
              "  <script>\n",
              "    async function quickchart(key) {\n",
              "      const quickchartButtonEl =\n",
              "        document.querySelector('#' + key + ' button');\n",
              "      quickchartButtonEl.disabled = true;  // To prevent multiple clicks.\n",
              "      quickchartButtonEl.classList.add('colab-df-spinner');\n",
              "      try {\n",
              "        const charts = await google.colab.kernel.invokeFunction(\n",
              "            'suggestCharts', [key], {});\n",
              "      } catch (error) {\n",
              "        console.error('Error during call to suggestCharts:', error);\n",
              "      }\n",
              "      quickchartButtonEl.classList.remove('colab-df-spinner');\n",
              "      quickchartButtonEl.classList.add('colab-df-quickchart-complete');\n",
              "    }\n",
              "    (() => {\n",
              "      let quickchartButtonEl =\n",
              "        document.querySelector('#df-e41c6b33-89db-43cf-877a-b4ce80c4344c button');\n",
              "      quickchartButtonEl.style.display =\n",
              "        google.colab.kernel.accessAllowed ? 'block' : 'none';\n",
              "    })();\n",
              "  </script>\n",
              "</div>\n",
              "    </div>\n",
              "  </div>\n"
            ],
            "application/vnd.google.colaboratory.intrinsic+json": {
              "type": "dataframe",
              "variable_name": "X_train",
              "summary": "{\n  \"name\": \"X_train\",\n  \"rows\": 11360,\n  \"fields\": [\n    {\n      \"column\": \"hr_of_day\",\n      \"properties\": {\n        \"dtype\": \"number\",\n        \"std\": 6,\n        \"min\": 0,\n        \"max\": 23,\n        \"num_unique_values\": 24,\n        \"samples\": [\n          0,\n          8,\n          16\n        ],\n        \"semantic_type\": \"\",\n        \"description\": \"\"\n      }\n    },\n    {\n      \"column\": \"day_of_week\",\n      \"properties\": {\n        \"dtype\": \"number\",\n        \"std\": 1,\n        \"min\": 0,\n        \"max\": 6,\n        \"num_unique_values\": 7,\n        \"samples\": [\n          2,\n          3,\n          0\n        ],\n        \"semantic_type\": \"\",\n        \"description\": \"\"\n      }\n    },\n    {\n      \"column\": \"weekend\",\n      \"properties\": {\n        \"dtype\": \"number\",\n        \"std\": 0,\n        \"min\": 0,\n        \"max\": 1,\n        \"num_unique_values\": 2,\n        \"samples\": [\n          1,\n          0\n        ],\n        \"semantic_type\": \"\",\n        \"description\": \"\"\n      }\n    },\n    {\n      \"column\": \"month\",\n      \"properties\": {\n        \"dtype\": \"number\",\n        \"std\": 3,\n        \"min\": 1,\n        \"max\": 12,\n        \"num_unique_values\": 12,\n        \"samples\": [\n          12,\n          11\n        ],\n        \"semantic_type\": \"\",\n        \"description\": \"\"\n      }\n    },\n    {\n      \"column\": \"year\",\n      \"properties\": {\n        \"dtype\": \"number\",\n        \"std\": 0,\n        \"min\": 2019,\n        \"max\": 2020,\n        \"num_unique_values\": 2,\n        \"samples\": [\n          2020,\n          2019\n        ],\n        \"semantic_type\": \"\",\n        \"description\": \"\"\n      }\n    },\n    {\n      \"column\": \"rolling_mean\",\n      \"properties\": {\n        \"dtype\": \"number\",\n        \"std\": 3438.5717905551746,\n        \"min\": 0.0,\n        \"max\": 36765.666666666664,\n        \"num_unique_values\": 2237,\n        \"samples\": [\n          16231.333333333334,\n          1402.3333333333333\n        ],\n        \"semantic_type\": \"\",\n        \"description\": \"\"\n      }\n    },\n    {\n      \"column\": \"rolling_std\",\n      \"properties\": {\n        \"dtype\": \"number\",\n        \"std\": 4539.314052306384,\n        \"min\": 0.0,\n        \"max\": 61324.78146380411,\n        \"num_unique_values\": 2515,\n        \"samples\": [\n          2501.0813661297825,\n          3316.608244879405\n        ],\n        \"semantic_type\": \"\",\n        \"description\": \"\"\n      }\n    },\n    {\n      \"column\": \"lag_1\",\n      \"properties\": {\n        \"dtype\": \"number\",\n        \"std\": 5200.205670026411,\n        \"min\": 0.0,\n        \"max\": 106721.5,\n        \"num_unique_values\": 1523,\n        \"samples\": [\n          13.0,\n          4968.0\n        ],\n        \"semantic_type\": \"\",\n        \"description\": \"\"\n      }\n    },\n    {\n      \"column\": \"lag_2\",\n      \"properties\": {\n        \"dtype\": \"number\",\n        \"std\": 5200.205670026411,\n        \"min\": 0.0,\n        \"max\": 106721.5,\n        \"num_unique_values\": 1523,\n        \"samples\": [\n          13.0,\n          4968.0\n        ],\n        \"semantic_type\": \"\",\n        \"description\": \"\"\n      }\n    },\n    {\n      \"column\": \"lag_3\",\n      \"properties\": {\n        \"dtype\": \"number\",\n        \"std\": 5200.205670026411,\n        \"min\": 0.0,\n        \"max\": 106721.5,\n        \"num_unique_values\": 1523,\n        \"samples\": [\n          13.0,\n          4968.0\n        ],\n        \"semantic_type\": \"\",\n        \"description\": \"\"\n      }\n    }\n  ]\n}"
            }
          },
          "metadata": {},
          "execution_count": 65
        }
      ]
    },
    {
      "cell_type": "markdown",
      "source": [
        "Normalise the data:"
      ],
      "metadata": {
        "id": "HvfuYI-c-gZK"
      }
    },
    {
      "cell_type": "code",
      "source": [
        "\n",
        "## Normalizing the features\n",
        "scaler = MinMaxScaler(feature_range=(0, 1))\n",
        "X_train_scaled = scaler.fit_transform(X_train)\n",
        "X_test_scaled = scaler.transform(X_test)\n",
        "\n",
        "scaler_Y = MinMaxScaler()\n",
        "\n",
        "# Note: Y.reshape(-1, 1) is used to transform Y into a 2D array for fitting, assuming Y is a 1D array\n",
        "y_train_scaled = scaler_Y.fit_transform(y_train.values.reshape(-1, 1))\n",
        "y_test_scaled = scaler_Y.transform(y_test.values.reshape(-1, 1))\n",
        "\n",
        "\n"
      ],
      "metadata": {
        "id": "cqPIo8Wk-fln"
      },
      "execution_count": null,
      "outputs": []
    },
    {
      "cell_type": "code",
      "source": [
        "from tensorflow.keras.preprocessing.sequence import TimeseriesGenerator\n",
        "\n",
        "sequence_length = 1\n",
        "batch_size = 32\n",
        "\n",
        "## Creating time series data\n",
        "train_generator = TimeseriesGenerator(X_train_scaled, y_train_scaled, length=sequence_length, batch_size=batch_size)\n",
        "val_generator = TimeseriesGenerator(X_test_scaled, y_test_scaled, length=sequence_length, batch_size=batch_size)\n",
        "\n",
        "\n"
      ],
      "metadata": {
        "id": "okpPO3wm-6fT"
      },
      "execution_count": null,
      "outputs": []
    },
    {
      "cell_type": "code",
      "source": [
        "from keras.models import Sequential\n",
        "from keras.layers import LSTM, Dense,Dropout\n",
        "\n",
        "# sequence_length=24\n",
        "n_features = X_train.shape[1]  # Number of features in the dataset\n",
        "\n",
        "model = Sequential()\n",
        "\n",
        "# First LSTM layer\n",
        "model.add(LSTM(units=100, activation='relu', return_sequences=True, input_shape=(sequence_length,n_features)))\n",
        "\n",
        "# # Second LSTM layer\n",
        "# # Note that you don't need to specify input_shape for subsequent layers\n",
        "# model.add(LSTM(units=50, activation='relu'))\n",
        "\n",
        "# Output layer\n",
        "# For regression tasks, units=1. For classification, units should match the number of classes\n",
        "model.add(Dense(units=1))\n",
        "\n",
        "# Compile the model\n",
        "# Use 'mse' for regression tasks. For binary classification, use 'binary_crossentropy'.\n",
        "# For multi-class classification, use 'categorical_crossentropy'.\n",
        "\n",
        "model.compile(optimizer='adam', loss='mean_squared_error')\n",
        "\n",
        "# 3. Train the model\n",
        "early_stopping = EarlyStopping(monitor='val_loss', patience=2)\n",
        "\n",
        "model.fit(train_generator, validation_data = val_generator, epochs=500)\n"
      ],
      "metadata": {
        "colab": {
          "base_uri": "https://localhost:8080/"
        },
        "id": "4tMgnV5H-k_N",
        "outputId": "ab63db5a-b339-40e8-e6f2-b0d1199da31b"
      },
      "execution_count": null,
      "outputs": [
        {
          "output_type": "stream",
          "name": "stdout",
          "text": [
            "Epoch 1/500\n",
            "355/355 [==============================] - 4s 5ms/step - loss: 0.0023 - val_loss: 0.0059\n",
            "Epoch 2/500\n",
            "355/355 [==============================] - 1s 4ms/step - loss: 0.0023 - val_loss: 0.0059\n",
            "Epoch 3/500\n",
            "355/355 [==============================] - 1s 4ms/step - loss: 0.0022 - val_loss: 0.0058\n",
            "Epoch 4/500\n",
            "355/355 [==============================] - 1s 4ms/step - loss: 0.0022 - val_loss: 0.0061\n",
            "Epoch 5/500\n",
            "355/355 [==============================] - 1s 4ms/step - loss: 0.0022 - val_loss: 0.0060\n",
            "Epoch 6/500\n",
            "355/355 [==============================] - 3s 7ms/step - loss: 0.0022 - val_loss: 0.0060\n",
            "Epoch 7/500\n",
            "355/355 [==============================] - 1s 4ms/step - loss: 0.0022 - val_loss: 0.0056\n",
            "Epoch 8/500\n",
            "355/355 [==============================] - 1s 4ms/step - loss: 0.0022 - val_loss: 0.0060\n",
            "Epoch 9/500\n",
            "355/355 [==============================] - 1s 4ms/step - loss: 0.0022 - val_loss: 0.0056\n",
            "Epoch 10/500\n",
            "355/355 [==============================] - 1s 3ms/step - loss: 0.0022 - val_loss: 0.0056\n",
            "Epoch 11/500\n",
            "355/355 [==============================] - 2s 4ms/step - loss: 0.0022 - val_loss: 0.0058\n",
            "Epoch 12/500\n",
            "355/355 [==============================] - 2s 6ms/step - loss: 0.0022 - val_loss: 0.0057\n",
            "Epoch 13/500\n",
            "355/355 [==============================] - 1s 4ms/step - loss: 0.0022 - val_loss: 0.0058\n",
            "Epoch 14/500\n",
            "355/355 [==============================] - 1s 4ms/step - loss: 0.0022 - val_loss: 0.0061\n",
            "Epoch 15/500\n",
            "355/355 [==============================] - 1s 4ms/step - loss: 0.0021 - val_loss: 0.0058\n",
            "Epoch 16/500\n",
            "355/355 [==============================] - 1s 4ms/step - loss: 0.0021 - val_loss: 0.0061\n",
            "Epoch 17/500\n",
            "355/355 [==============================] - 1s 4ms/step - loss: 0.0021 - val_loss: 0.0058\n",
            "Epoch 18/500\n",
            "355/355 [==============================] - 2s 6ms/step - loss: 0.0021 - val_loss: 0.0060\n",
            "Epoch 19/500\n",
            "355/355 [==============================] - 2s 6ms/step - loss: 0.0021 - val_loss: 0.0059\n",
            "Epoch 20/500\n",
            "355/355 [==============================] - 1s 4ms/step - loss: 0.0021 - val_loss: 0.0061\n",
            "Epoch 21/500\n",
            "355/355 [==============================] - 1s 4ms/step - loss: 0.0021 - val_loss: 0.0060\n",
            "Epoch 22/500\n",
            "355/355 [==============================] - 1s 4ms/step - loss: 0.0021 - val_loss: 0.0059\n",
            "Epoch 23/500\n",
            "355/355 [==============================] - 1s 4ms/step - loss: 0.0021 - val_loss: 0.0062\n",
            "Epoch 24/500\n",
            "355/355 [==============================] - 2s 5ms/step - loss: 0.0021 - val_loss: 0.0059\n",
            "Epoch 25/500\n",
            "355/355 [==============================] - 2s 6ms/step - loss: 0.0021 - val_loss: 0.0062\n",
            "Epoch 26/500\n",
            "355/355 [==============================] - 1s 4ms/step - loss: 0.0021 - val_loss: 0.0060\n",
            "Epoch 27/500\n",
            "355/355 [==============================] - 1s 4ms/step - loss: 0.0021 - val_loss: 0.0062\n",
            "Epoch 28/500\n",
            "355/355 [==============================] - 1s 4ms/step - loss: 0.0021 - val_loss: 0.0060\n",
            "Epoch 29/500\n",
            "355/355 [==============================] - 1s 4ms/step - loss: 0.0021 - val_loss: 0.0061\n",
            "Epoch 30/500\n",
            "355/355 [==============================] - 1s 4ms/step - loss: 0.0021 - val_loss: 0.0062\n",
            "Epoch 31/500\n",
            "355/355 [==============================] - 2s 5ms/step - loss: 0.0021 - val_loss: 0.0060\n",
            "Epoch 32/500\n",
            "355/355 [==============================] - 3s 7ms/step - loss: 0.0021 - val_loss: 0.0061\n",
            "Epoch 33/500\n",
            "355/355 [==============================] - 1s 4ms/step - loss: 0.0021 - val_loss: 0.0063\n",
            "Epoch 34/500\n",
            "355/355 [==============================] - 1s 4ms/step - loss: 0.0021 - val_loss: 0.0063\n",
            "Epoch 35/500\n",
            "355/355 [==============================] - 1s 4ms/step - loss: 0.0021 - val_loss: 0.0061\n",
            "Epoch 36/500\n",
            "355/355 [==============================] - 1s 4ms/step - loss: 0.0021 - val_loss: 0.0059\n",
            "Epoch 37/500\n",
            "355/355 [==============================] - 2s 5ms/step - loss: 0.0021 - val_loss: 0.0061\n",
            "Epoch 38/500\n",
            "355/355 [==============================] - 2s 6ms/step - loss: 0.0021 - val_loss: 0.0061\n",
            "Epoch 39/500\n",
            "355/355 [==============================] - 1s 4ms/step - loss: 0.0021 - val_loss: 0.0061\n",
            "Epoch 40/500\n",
            "355/355 [==============================] - 1s 4ms/step - loss: 0.0021 - val_loss: 0.0064\n",
            "Epoch 41/500\n",
            "355/355 [==============================] - 1s 4ms/step - loss: 0.0021 - val_loss: 0.0061\n",
            "Epoch 42/500\n",
            "355/355 [==============================] - 2s 4ms/step - loss: 0.0021 - val_loss: 0.0063\n",
            "Epoch 43/500\n",
            "355/355 [==============================] - 2s 6ms/step - loss: 0.0021 - val_loss: 0.0061\n",
            "Epoch 44/500\n",
            "355/355 [==============================] - 2s 7ms/step - loss: 0.0021 - val_loss: 0.0061\n",
            "Epoch 45/500\n",
            "355/355 [==============================] - 1s 4ms/step - loss: 0.0021 - val_loss: 0.0060\n",
            "Epoch 46/500\n",
            "355/355 [==============================] - 1s 4ms/step - loss: 0.0021 - val_loss: 0.0061\n",
            "Epoch 47/500\n",
            "355/355 [==============================] - 1s 4ms/step - loss: 0.0021 - val_loss: 0.0060\n",
            "Epoch 48/500\n",
            "355/355 [==============================] - 1s 4ms/step - loss: 0.0021 - val_loss: 0.0061\n",
            "Epoch 49/500\n",
            "355/355 [==============================] - 1s 4ms/step - loss: 0.0021 - val_loss: 0.0063\n",
            "Epoch 50/500\n",
            "355/355 [==============================] - 3s 7ms/step - loss: 0.0021 - val_loss: 0.0063\n",
            "Epoch 51/500\n",
            "355/355 [==============================] - 1s 4ms/step - loss: 0.0021 - val_loss: 0.0060\n",
            "Epoch 52/500\n",
            "355/355 [==============================] - 1s 4ms/step - loss: 0.0021 - val_loss: 0.0061\n",
            "Epoch 53/500\n",
            "355/355 [==============================] - 1s 4ms/step - loss: 0.0021 - val_loss: 0.0062\n",
            "Epoch 54/500\n",
            "355/355 [==============================] - 2s 6ms/step - loss: 0.0021 - val_loss: 0.0062\n",
            "Epoch 55/500\n",
            "355/355 [==============================] - 2s 6ms/step - loss: 0.0020 - val_loss: 0.0061\n",
            "Epoch 56/500\n",
            "355/355 [==============================] - 1s 4ms/step - loss: 0.0021 - val_loss: 0.0062\n",
            "Epoch 57/500\n",
            "355/355 [==============================] - 1s 4ms/step - loss: 0.0021 - val_loss: 0.0061\n",
            "Epoch 58/500\n",
            "355/355 [==============================] - 1s 4ms/step - loss: 0.0021 - val_loss: 0.0061\n",
            "Epoch 59/500\n",
            "355/355 [==============================] - 1s 4ms/step - loss: 0.0021 - val_loss: 0.0061\n",
            "Epoch 60/500\n",
            "355/355 [==============================] - 2s 7ms/step - loss: 0.0020 - val_loss: 0.0062\n",
            "Epoch 61/500\n",
            "355/355 [==============================] - 2s 5ms/step - loss: 0.0020 - val_loss: 0.0062\n",
            "Epoch 62/500\n",
            "355/355 [==============================] - 1s 4ms/step - loss: 0.0020 - val_loss: 0.0062\n",
            "Epoch 63/500\n",
            "355/355 [==============================] - 1s 4ms/step - loss: 0.0020 - val_loss: 0.0060\n",
            "Epoch 64/500\n",
            "355/355 [==============================] - 1s 4ms/step - loss: 0.0020 - val_loss: 0.0062\n",
            "Epoch 65/500\n",
            "355/355 [==============================] - 1s 4ms/step - loss: 0.0020 - val_loss: 0.0062\n",
            "Epoch 66/500\n",
            "355/355 [==============================] - 2s 6ms/step - loss: 0.0021 - val_loss: 0.0064\n",
            "Epoch 67/500\n",
            "355/355 [==============================] - 2s 5ms/step - loss: 0.0020 - val_loss: 0.0062\n",
            "Epoch 68/500\n",
            "355/355 [==============================] - 1s 4ms/step - loss: 0.0020 - val_loss: 0.0062\n",
            "Epoch 69/500\n",
            "355/355 [==============================] - 1s 4ms/step - loss: 0.0020 - val_loss: 0.0064\n",
            "Epoch 70/500\n",
            "355/355 [==============================] - 1s 4ms/step - loss: 0.0020 - val_loss: 0.0061\n",
            "Epoch 71/500\n",
            "355/355 [==============================] - 2s 5ms/step - loss: 0.0020 - val_loss: 0.0061\n",
            "Epoch 72/500\n",
            "355/355 [==============================] - 2s 6ms/step - loss: 0.0020 - val_loss: 0.0060\n",
            "Epoch 73/500\n",
            "355/355 [==============================] - 1s 4ms/step - loss: 0.0020 - val_loss: 0.0060\n",
            "Epoch 74/500\n",
            "355/355 [==============================] - 1s 3ms/step - loss: 0.0020 - val_loss: 0.0061\n",
            "Epoch 75/500\n",
            "355/355 [==============================] - 1s 4ms/step - loss: 0.0020 - val_loss: 0.0063\n",
            "Epoch 76/500\n",
            "355/355 [==============================] - 2s 5ms/step - loss: 0.0020 - val_loss: 0.0061\n",
            "Epoch 77/500\n",
            "355/355 [==============================] - 2s 4ms/step - loss: 0.0020 - val_loss: 0.0062\n",
            "Epoch 78/500\n",
            "355/355 [==============================] - 2s 7ms/step - loss: 0.0020 - val_loss: 0.0061\n",
            "Epoch 79/500\n",
            "355/355 [==============================] - 2s 5ms/step - loss: 0.0020 - val_loss: 0.0062\n",
            "Epoch 80/500\n",
            "355/355 [==============================] - 1s 4ms/step - loss: 0.0020 - val_loss: 0.0062\n",
            "Epoch 81/500\n",
            "355/355 [==============================] - 1s 4ms/step - loss: 0.0020 - val_loss: 0.0060\n",
            "Epoch 82/500\n",
            "355/355 [==============================] - 1s 4ms/step - loss: 0.0020 - val_loss: 0.0060\n",
            "Epoch 83/500\n",
            "355/355 [==============================] - 1s 4ms/step - loss: 0.0020 - val_loss: 0.0059\n",
            "Epoch 84/500\n",
            "355/355 [==============================] - 2s 6ms/step - loss: 0.0020 - val_loss: 0.0062\n",
            "Epoch 85/500\n",
            "355/355 [==============================] - 2s 7ms/step - loss: 0.0020 - val_loss: 0.0062\n",
            "Epoch 86/500\n",
            "355/355 [==============================] - 2s 5ms/step - loss: 0.0020 - val_loss: 0.0061\n",
            "Epoch 87/500\n",
            "355/355 [==============================] - 2s 5ms/step - loss: 0.0020 - val_loss: 0.0064\n",
            "Epoch 88/500\n",
            "355/355 [==============================] - 1s 4ms/step - loss: 0.0020 - val_loss: 0.0061\n",
            "Epoch 89/500\n",
            "355/355 [==============================] - 1s 4ms/step - loss: 0.0020 - val_loss: 0.0062\n",
            "Epoch 90/500\n",
            "355/355 [==============================] - 3s 8ms/step - loss: 0.0020 - val_loss: 0.0061\n",
            "Epoch 91/500\n",
            "355/355 [==============================] - 3s 8ms/step - loss: 0.0020 - val_loss: 0.0060\n",
            "Epoch 92/500\n",
            "355/355 [==============================] - 2s 5ms/step - loss: 0.0020 - val_loss: 0.0063\n",
            "Epoch 93/500\n",
            "355/355 [==============================] - 2s 5ms/step - loss: 0.0020 - val_loss: 0.0060\n",
            "Epoch 94/500\n",
            "355/355 [==============================] - 1s 4ms/step - loss: 0.0020 - val_loss: 0.0061\n",
            "Epoch 95/500\n",
            "355/355 [==============================] - 3s 8ms/step - loss: 0.0020 - val_loss: 0.0062\n",
            "Epoch 96/500\n",
            "355/355 [==============================] - 2s 5ms/step - loss: 0.0020 - val_loss: 0.0063\n",
            "Epoch 97/500\n",
            "355/355 [==============================] - 2s 4ms/step - loss: 0.0020 - val_loss: 0.0062\n",
            "Epoch 98/500\n",
            "355/355 [==============================] - 2s 4ms/step - loss: 0.0020 - val_loss: 0.0064\n",
            "Epoch 99/500\n",
            "355/355 [==============================] - 2s 4ms/step - loss: 0.0020 - val_loss: 0.0062\n",
            "Epoch 100/500\n",
            "355/355 [==============================] - 1s 4ms/step - loss: 0.0020 - val_loss: 0.0061\n",
            "Epoch 101/500\n",
            "355/355 [==============================] - 2s 7ms/step - loss: 0.0020 - val_loss: 0.0062\n",
            "Epoch 102/500\n",
            "355/355 [==============================] - 2s 4ms/step - loss: 0.0020 - val_loss: 0.0062\n",
            "Epoch 103/500\n",
            "355/355 [==============================] - 1s 4ms/step - loss: 0.0020 - val_loss: 0.0060\n",
            "Epoch 104/500\n",
            "355/355 [==============================] - 1s 4ms/step - loss: 0.0020 - val_loss: 0.0064\n",
            "Epoch 105/500\n",
            "355/355 [==============================] - 1s 4ms/step - loss: 0.0020 - val_loss: 0.0061\n",
            "Epoch 106/500\n",
            "355/355 [==============================] - 2s 4ms/step - loss: 0.0020 - val_loss: 0.0063\n",
            "Epoch 107/500\n",
            "355/355 [==============================] - 3s 8ms/step - loss: 0.0020 - val_loss: 0.0062\n",
            "Epoch 108/500\n",
            "355/355 [==============================] - 2s 5ms/step - loss: 0.0020 - val_loss: 0.0063\n",
            "Epoch 109/500\n",
            "355/355 [==============================] - 2s 5ms/step - loss: 0.0020 - val_loss: 0.0062\n",
            "Epoch 110/500\n",
            "355/355 [==============================] - 2s 4ms/step - loss: 0.0020 - val_loss: 0.0060\n",
            "Epoch 111/500\n",
            "355/355 [==============================] - 2s 6ms/step - loss: 0.0020 - val_loss: 0.0064\n",
            "Epoch 112/500\n",
            "355/355 [==============================] - 2s 6ms/step - loss: 0.0020 - val_loss: 0.0060\n",
            "Epoch 113/500\n",
            "355/355 [==============================] - 2s 4ms/step - loss: 0.0020 - val_loss: 0.0061\n",
            "Epoch 114/500\n",
            "355/355 [==============================] - 2s 5ms/step - loss: 0.0020 - val_loss: 0.0062\n",
            "Epoch 115/500\n",
            "355/355 [==============================] - 2s 5ms/step - loss: 0.0020 - val_loss: 0.0061\n",
            "Epoch 116/500\n",
            "355/355 [==============================] - 2s 4ms/step - loss: 0.0020 - val_loss: 0.0061\n",
            "Epoch 117/500\n",
            "355/355 [==============================] - 2s 5ms/step - loss: 0.0020 - val_loss: 0.0062\n",
            "Epoch 118/500\n",
            "355/355 [==============================] - 3s 8ms/step - loss: 0.0020 - val_loss: 0.0060\n",
            "Epoch 119/500\n",
            "355/355 [==============================] - 1s 4ms/step - loss: 0.0020 - val_loss: 0.0062\n",
            "Epoch 120/500\n",
            "355/355 [==============================] - 2s 4ms/step - loss: 0.0020 - val_loss: 0.0061\n",
            "Epoch 121/500\n",
            "355/355 [==============================] - 1s 4ms/step - loss: 0.0020 - val_loss: 0.0063\n",
            "Epoch 122/500\n",
            "355/355 [==============================] - 2s 5ms/step - loss: 0.0020 - val_loss: 0.0061\n",
            "Epoch 123/500\n",
            "355/355 [==============================] - 3s 8ms/step - loss: 0.0020 - val_loss: 0.0062\n",
            "Epoch 124/500\n",
            "355/355 [==============================] - 2s 5ms/step - loss: 0.0020 - val_loss: 0.0061\n",
            "Epoch 125/500\n",
            "355/355 [==============================] - 1s 4ms/step - loss: 0.0020 - val_loss: 0.0061\n",
            "Epoch 126/500\n",
            "355/355 [==============================] - 1s 4ms/step - loss: 0.0020 - val_loss: 0.0061\n",
            "Epoch 127/500\n",
            "355/355 [==============================] - 2s 4ms/step - loss: 0.0020 - val_loss: 0.0060\n",
            "Epoch 128/500\n",
            "355/355 [==============================] - 2s 4ms/step - loss: 0.0020 - val_loss: 0.0061\n",
            "Epoch 129/500\n",
            "355/355 [==============================] - 3s 8ms/step - loss: 0.0020 - val_loss: 0.0061\n",
            "Epoch 130/500\n",
            "355/355 [==============================] - 2s 5ms/step - loss: 0.0020 - val_loss: 0.0061\n",
            "Epoch 131/500\n",
            "355/355 [==============================] - 2s 4ms/step - loss: 0.0020 - val_loss: 0.0061\n",
            "Epoch 132/500\n",
            "355/355 [==============================] - 1s 4ms/step - loss: 0.0020 - val_loss: 0.0062\n",
            "Epoch 133/500\n",
            "355/355 [==============================] - 2s 4ms/step - loss: 0.0020 - val_loss: 0.0061\n",
            "Epoch 134/500\n",
            "355/355 [==============================] - 2s 4ms/step - loss: 0.0020 - val_loss: 0.0062\n",
            "Epoch 135/500\n",
            "355/355 [==============================] - 2s 4ms/step - loss: 0.0020 - val_loss: 0.0062\n",
            "Epoch 136/500\n",
            "355/355 [==============================] - 3s 8ms/step - loss: 0.0020 - val_loss: 0.0062\n",
            "Epoch 137/500\n",
            "355/355 [==============================] - 2s 5ms/step - loss: 0.0020 - val_loss: 0.0061\n",
            "Epoch 138/500\n",
            "355/355 [==============================] - 2s 4ms/step - loss: 0.0020 - val_loss: 0.0061\n",
            "Epoch 139/500\n",
            "355/355 [==============================] - 2s 4ms/step - loss: 0.0020 - val_loss: 0.0062\n",
            "Epoch 140/500\n",
            "355/355 [==============================] - 2s 4ms/step - loss: 0.0020 - val_loss: 0.0062\n",
            "Epoch 141/500\n",
            "355/355 [==============================] - 2s 5ms/step - loss: 0.0020 - val_loss: 0.0063\n",
            "Epoch 142/500\n",
            "355/355 [==============================] - 3s 8ms/step - loss: 0.0020 - val_loss: 0.0063\n",
            "Epoch 143/500\n",
            "355/355 [==============================] - 2s 5ms/step - loss: 0.0020 - val_loss: 0.0062\n",
            "Epoch 144/500\n",
            "355/355 [==============================] - 1s 4ms/step - loss: 0.0020 - val_loss: 0.0063\n",
            "Epoch 145/500\n",
            "355/355 [==============================] - 1s 4ms/step - loss: 0.0020 - val_loss: 0.0063\n",
            "Epoch 146/500\n",
            "355/355 [==============================] - 2s 4ms/step - loss: 0.0020 - val_loss: 0.0061\n",
            "Epoch 147/500\n",
            "355/355 [==============================] - 2s 7ms/step - loss: 0.0020 - val_loss: 0.0063\n",
            "Epoch 148/500\n",
            "355/355 [==============================] - 3s 7ms/step - loss: 0.0020 - val_loss: 0.0063\n",
            "Epoch 149/500\n",
            "355/355 [==============================] - 1s 4ms/step - loss: 0.0020 - val_loss: 0.0063\n",
            "Epoch 150/500\n",
            "355/355 [==============================] - 2s 4ms/step - loss: 0.0020 - val_loss: 0.0061\n",
            "Epoch 151/500\n",
            "355/355 [==============================] - 2s 4ms/step - loss: 0.0020 - val_loss: 0.0063\n",
            "Epoch 152/500\n",
            "355/355 [==============================] - 2s 4ms/step - loss: 0.0020 - val_loss: 0.0064\n",
            "Epoch 153/500\n",
            "355/355 [==============================] - 3s 8ms/step - loss: 0.0020 - val_loss: 0.0062\n",
            "Epoch 154/500\n",
            "355/355 [==============================] - 2s 6ms/step - loss: 0.0020 - val_loss: 0.0063\n",
            "Epoch 155/500\n",
            "355/355 [==============================] - 1s 4ms/step - loss: 0.0020 - val_loss: 0.0063\n",
            "Epoch 156/500\n",
            "355/355 [==============================] - 1s 4ms/step - loss: 0.0020 - val_loss: 0.0063\n",
            "Epoch 157/500\n",
            "355/355 [==============================] - 1s 4ms/step - loss: 0.0020 - val_loss: 0.0063\n",
            "Epoch 158/500\n",
            "355/355 [==============================] - 2s 4ms/step - loss: 0.0019 - val_loss: 0.0065\n",
            "Epoch 159/500\n",
            "355/355 [==============================] - 2s 4ms/step - loss: 0.0020 - val_loss: 0.0062\n",
            "Epoch 160/500\n",
            "355/355 [==============================] - 3s 7ms/step - loss: 0.0020 - val_loss: 0.0061\n",
            "Epoch 161/500\n",
            "355/355 [==============================] - 2s 4ms/step - loss: 0.0020 - val_loss: 0.0064\n",
            "Epoch 162/500\n",
            "355/355 [==============================] - 2s 4ms/step - loss: 0.0020 - val_loss: 0.0062\n",
            "Epoch 163/500\n",
            "355/355 [==============================] - 2s 4ms/step - loss: 0.0020 - val_loss: 0.0061\n",
            "Epoch 164/500\n",
            "355/355 [==============================] - 2s 4ms/step - loss: 0.0019 - val_loss: 0.0063\n",
            "Epoch 165/500\n",
            "355/355 [==============================] - 1s 4ms/step - loss: 0.0019 - val_loss: 0.0062\n",
            "Epoch 166/500\n",
            "355/355 [==============================] - 3s 7ms/step - loss: 0.0019 - val_loss: 0.0062\n",
            "Epoch 167/500\n",
            "355/355 [==============================] - 2s 4ms/step - loss: 0.0019 - val_loss: 0.0062\n",
            "Epoch 168/500\n",
            "355/355 [==============================] - 1s 4ms/step - loss: 0.0019 - val_loss: 0.0065\n",
            "Epoch 169/500\n",
            "355/355 [==============================] - 2s 4ms/step - loss: 0.0019 - val_loss: 0.0062\n",
            "Epoch 170/500\n",
            "355/355 [==============================] - 1s 4ms/step - loss: 0.0019 - val_loss: 0.0063\n",
            "Epoch 171/500\n",
            "355/355 [==============================] - 2s 7ms/step - loss: 0.0019 - val_loss: 0.0063\n",
            "Epoch 172/500\n",
            "355/355 [==============================] - 2s 6ms/step - loss: 0.0019 - val_loss: 0.0063\n",
            "Epoch 173/500\n",
            "355/355 [==============================] - 1s 4ms/step - loss: 0.0020 - val_loss: 0.0062\n",
            "Epoch 174/500\n",
            "355/355 [==============================] - 2s 4ms/step - loss: 0.0020 - val_loss: 0.0064\n",
            "Epoch 175/500\n",
            "355/355 [==============================] - 2s 4ms/step - loss: 0.0019 - val_loss: 0.0063\n",
            "Epoch 176/500\n",
            "355/355 [==============================] - 2s 4ms/step - loss: 0.0019 - val_loss: 0.0062\n",
            "Epoch 177/500\n",
            "355/355 [==============================] - 2s 5ms/step - loss: 0.0019 - val_loss: 0.0063\n",
            "Epoch 178/500\n",
            "355/355 [==============================] - 3s 7ms/step - loss: 0.0019 - val_loss: 0.0063\n",
            "Epoch 179/500\n",
            "355/355 [==============================] - 2s 5ms/step - loss: 0.0019 - val_loss: 0.0062\n",
            "Epoch 180/500\n",
            "355/355 [==============================] - 2s 4ms/step - loss: 0.0019 - val_loss: 0.0063\n",
            "Epoch 181/500\n",
            "355/355 [==============================] - 2s 5ms/step - loss: 0.0019 - val_loss: 0.0063\n",
            "Epoch 182/500\n",
            "355/355 [==============================] - 2s 4ms/step - loss: 0.0019 - val_loss: 0.0063\n",
            "Epoch 183/500\n",
            "355/355 [==============================] - 2s 6ms/step - loss: 0.0019 - val_loss: 0.0063\n",
            "Epoch 184/500\n",
            "355/355 [==============================] - 3s 7ms/step - loss: 0.0019 - val_loss: 0.0065\n",
            "Epoch 185/500\n",
            "355/355 [==============================] - 1s 4ms/step - loss: 0.0019 - val_loss: 0.0064\n",
            "Epoch 186/500\n",
            "355/355 [==============================] - 1s 4ms/step - loss: 0.0019 - val_loss: 0.0062\n",
            "Epoch 187/500\n",
            "355/355 [==============================] - 2s 4ms/step - loss: 0.0019 - val_loss: 0.0063\n",
            "Epoch 188/500\n",
            "355/355 [==============================] - 1s 4ms/step - loss: 0.0019 - val_loss: 0.0064\n",
            "Epoch 189/500\n",
            "355/355 [==============================] - 3s 8ms/step - loss: 0.0019 - val_loss: 0.0064\n",
            "Epoch 190/500\n",
            "355/355 [==============================] - 1s 4ms/step - loss: 0.0019 - val_loss: 0.0063\n",
            "Epoch 191/500\n",
            "355/355 [==============================] - 2s 4ms/step - loss: 0.0019 - val_loss: 0.0064\n",
            "Epoch 192/500\n",
            "355/355 [==============================] - 2s 4ms/step - loss: 0.0019 - val_loss: 0.0063\n",
            "Epoch 193/500\n",
            "355/355 [==============================] - 2s 4ms/step - loss: 0.0019 - val_loss: 0.0063\n",
            "Epoch 194/500\n",
            "355/355 [==============================] - 2s 5ms/step - loss: 0.0019 - val_loss: 0.0064\n",
            "Epoch 195/500\n",
            "355/355 [==============================] - 3s 9ms/step - loss: 0.0019 - val_loss: 0.0063\n",
            "Epoch 196/500\n",
            "355/355 [==============================] - 2s 5ms/step - loss: 0.0019 - val_loss: 0.0065\n",
            "Epoch 197/500\n",
            "355/355 [==============================] - 2s 5ms/step - loss: 0.0019 - val_loss: 0.0064\n",
            "Epoch 198/500\n",
            "355/355 [==============================] - 2s 5ms/step - loss: 0.0019 - val_loss: 0.0063\n",
            "Epoch 199/500\n",
            "355/355 [==============================] - 2s 7ms/step - loss: 0.0019 - val_loss: 0.0066\n",
            "Epoch 200/500\n",
            "355/355 [==============================] - 3s 8ms/step - loss: 0.0019 - val_loss: 0.0064\n",
            "Epoch 201/500\n",
            "355/355 [==============================] - 1s 4ms/step - loss: 0.0019 - val_loss: 0.0064\n",
            "Epoch 202/500\n",
            "355/355 [==============================] - 1s 4ms/step - loss: 0.0019 - val_loss: 0.0066\n",
            "Epoch 203/500\n",
            "355/355 [==============================] - 2s 5ms/step - loss: 0.0019 - val_loss: 0.0065\n",
            "Epoch 204/500\n",
            "355/355 [==============================] - 1s 4ms/step - loss: 0.0019 - val_loss: 0.0063\n",
            "Epoch 205/500\n",
            "355/355 [==============================] - 3s 8ms/step - loss: 0.0019 - val_loss: 0.0064\n",
            "Epoch 206/500\n",
            "355/355 [==============================] - 1s 4ms/step - loss: 0.0019 - val_loss: 0.0064\n",
            "Epoch 207/500\n",
            "355/355 [==============================] - 2s 4ms/step - loss: 0.0019 - val_loss: 0.0065\n",
            "Epoch 208/500\n",
            "355/355 [==============================] - 1s 4ms/step - loss: 0.0019 - val_loss: 0.0064\n",
            "Epoch 209/500\n",
            "355/355 [==============================] - 2s 5ms/step - loss: 0.0019 - val_loss: 0.0064\n",
            "Epoch 210/500\n",
            "355/355 [==============================] - 2s 6ms/step - loss: 0.0019 - val_loss: 0.0065\n",
            "Epoch 211/500\n",
            "355/355 [==============================] - 3s 8ms/step - loss: 0.0019 - val_loss: 0.0065\n",
            "Epoch 212/500\n",
            "355/355 [==============================] - 2s 4ms/step - loss: 0.0019 - val_loss: 0.0062\n",
            "Epoch 213/500\n",
            "355/355 [==============================] - 2s 5ms/step - loss: 0.0019 - val_loss: 0.0065\n",
            "Epoch 214/500\n",
            "355/355 [==============================] - 1s 4ms/step - loss: 0.0019 - val_loss: 0.0065\n",
            "Epoch 215/500\n",
            "355/355 [==============================] - 2s 4ms/step - loss: 0.0019 - val_loss: 0.0065\n",
            "Epoch 216/500\n",
            "355/355 [==============================] - 3s 7ms/step - loss: 0.0019 - val_loss: 0.0065\n",
            "Epoch 217/500\n",
            "355/355 [==============================] - 2s 4ms/step - loss: 0.0019 - val_loss: 0.0064\n",
            "Epoch 218/500\n",
            "355/355 [==============================] - 2s 5ms/step - loss: 0.0019 - val_loss: 0.0063\n",
            "Epoch 219/500\n",
            "355/355 [==============================] - 2s 5ms/step - loss: 0.0019 - val_loss: 0.0064\n",
            "Epoch 220/500\n",
            "355/355 [==============================] - 2s 7ms/step - loss: 0.0019 - val_loss: 0.0065\n",
            "Epoch 221/500\n",
            "355/355 [==============================] - 3s 8ms/step - loss: 0.0019 - val_loss: 0.0065\n",
            "Epoch 222/500\n",
            "355/355 [==============================] - 1s 4ms/step - loss: 0.0019 - val_loss: 0.0063\n",
            "Epoch 223/500\n",
            "355/355 [==============================] - 2s 5ms/step - loss: 0.0019 - val_loss: 0.0065\n",
            "Epoch 224/500\n",
            "355/355 [==============================] - 1s 4ms/step - loss: 0.0019 - val_loss: 0.0063\n",
            "Epoch 225/500\n",
            "355/355 [==============================] - 2s 7ms/step - loss: 0.0019 - val_loss: 0.0064\n",
            "Epoch 226/500\n",
            "355/355 [==============================] - 3s 7ms/step - loss: 0.0019 - val_loss: 0.0064\n",
            "Epoch 227/500\n",
            "355/355 [==============================] - 2s 4ms/step - loss: 0.0019 - val_loss: 0.0066\n",
            "Epoch 228/500\n",
            "355/355 [==============================] - 1s 4ms/step - loss: 0.0019 - val_loss: 0.0064\n",
            "Epoch 229/500\n",
            "355/355 [==============================] - 2s 4ms/step - loss: 0.0019 - val_loss: 0.0063\n",
            "Epoch 230/500\n",
            "355/355 [==============================] - 2s 4ms/step - loss: 0.0019 - val_loss: 0.0065\n",
            "Epoch 231/500\n",
            "355/355 [==============================] - 2s 5ms/step - loss: 0.0019 - val_loss: 0.0064\n",
            "Epoch 232/500\n",
            "355/355 [==============================] - 3s 8ms/step - loss: 0.0019 - val_loss: 0.0064\n",
            "Epoch 233/500\n",
            "355/355 [==============================] - 2s 4ms/step - loss: 0.0019 - val_loss: 0.0063\n",
            "Epoch 234/500\n",
            "355/355 [==============================] - 2s 4ms/step - loss: 0.0019 - val_loss: 0.0063\n",
            "Epoch 235/500\n",
            "355/355 [==============================] - 2s 4ms/step - loss: 0.0019 - val_loss: 0.0065\n",
            "Epoch 236/500\n",
            "355/355 [==============================] - 2s 4ms/step - loss: 0.0019 - val_loss: 0.0064\n",
            "Epoch 237/500\n",
            "355/355 [==============================] - 2s 6ms/step - loss: 0.0019 - val_loss: 0.0064\n",
            "Epoch 238/500\n",
            "355/355 [==============================] - 2s 7ms/step - loss: 0.0019 - val_loss: 0.0066\n",
            "Epoch 239/500\n",
            "355/355 [==============================] - 2s 4ms/step - loss: 0.0019 - val_loss: 0.0065\n",
            "Epoch 240/500\n",
            "355/355 [==============================] - 2s 5ms/step - loss: 0.0019 - val_loss: 0.0064\n",
            "Epoch 241/500\n",
            "355/355 [==============================] - 2s 4ms/step - loss: 0.0019 - val_loss: 0.0065\n",
            "Epoch 242/500\n",
            "355/355 [==============================] - 2s 5ms/step - loss: 0.0019 - val_loss: 0.0065\n",
            "Epoch 243/500\n",
            "355/355 [==============================] - 3s 8ms/step - loss: 0.0019 - val_loss: 0.0065\n",
            "Epoch 244/500\n",
            "355/355 [==============================] - 2s 5ms/step - loss: 0.0019 - val_loss: 0.0064\n",
            "Epoch 245/500\n",
            "355/355 [==============================] - 2s 5ms/step - loss: 0.0019 - val_loss: 0.0065\n",
            "Epoch 246/500\n",
            "355/355 [==============================] - 2s 5ms/step - loss: 0.0019 - val_loss: 0.0064\n",
            "Epoch 247/500\n",
            "355/355 [==============================] - 1s 4ms/step - loss: 0.0019 - val_loss: 0.0064\n",
            "Epoch 248/500\n",
            "355/355 [==============================] - 3s 8ms/step - loss: 0.0019 - val_loss: 0.0064\n",
            "Epoch 249/500\n",
            "355/355 [==============================] - 2s 4ms/step - loss: 0.0019 - val_loss: 0.0064\n",
            "Epoch 250/500\n",
            "355/355 [==============================] - 2s 4ms/step - loss: 0.0019 - val_loss: 0.0065\n",
            "Epoch 251/500\n",
            "355/355 [==============================] - 1s 4ms/step - loss: 0.0019 - val_loss: 0.0066\n",
            "Epoch 252/500\n",
            "355/355 [==============================] - 1s 4ms/step - loss: 0.0019 - val_loss: 0.0066\n",
            "Epoch 253/500\n",
            "355/355 [==============================] - 2s 5ms/step - loss: 0.0019 - val_loss: 0.0065\n",
            "Epoch 254/500\n",
            "355/355 [==============================] - 2s 7ms/step - loss: 0.0019 - val_loss: 0.0064\n",
            "Epoch 255/500\n",
            "355/355 [==============================] - 1s 4ms/step - loss: 0.0019 - val_loss: 0.0064\n",
            "Epoch 256/500\n",
            "355/355 [==============================] - 1s 4ms/step - loss: 0.0019 - val_loss: 0.0066\n",
            "Epoch 257/500\n",
            "355/355 [==============================] - 1s 4ms/step - loss: 0.0019 - val_loss: 0.0065\n",
            "Epoch 258/500\n",
            "355/355 [==============================] - 1s 4ms/step - loss: 0.0019 - val_loss: 0.0066\n",
            "Epoch 259/500\n",
            "355/355 [==============================] - 2s 5ms/step - loss: 0.0019 - val_loss: 0.0066\n",
            "Epoch 260/500\n",
            "355/355 [==============================] - 3s 7ms/step - loss: 0.0019 - val_loss: 0.0064\n",
            "Epoch 261/500\n",
            "355/355 [==============================] - 2s 4ms/step - loss: 0.0019 - val_loss: 0.0064\n",
            "Epoch 262/500\n",
            "355/355 [==============================] - 2s 4ms/step - loss: 0.0019 - val_loss: 0.0064\n",
            "Epoch 263/500\n",
            "355/355 [==============================] - 1s 4ms/step - loss: 0.0019 - val_loss: 0.0065\n",
            "Epoch 264/500\n",
            "355/355 [==============================] - 2s 4ms/step - loss: 0.0019 - val_loss: 0.0065\n",
            "Epoch 265/500\n",
            "355/355 [==============================] - 1s 4ms/step - loss: 0.0019 - val_loss: 0.0065\n",
            "Epoch 266/500\n",
            "355/355 [==============================] - 3s 8ms/step - loss: 0.0019 - val_loss: 0.0065\n",
            "Epoch 267/500\n",
            "355/355 [==============================] - 2s 4ms/step - loss: 0.0019 - val_loss: 0.0065\n",
            "Epoch 268/500\n",
            "355/355 [==============================] - 1s 4ms/step - loss: 0.0019 - val_loss: 0.0066\n",
            "Epoch 269/500\n",
            "355/355 [==============================] - 1s 4ms/step - loss: 0.0019 - val_loss: 0.0066\n",
            "Epoch 270/500\n",
            "355/355 [==============================] - 2s 4ms/step - loss: 0.0019 - val_loss: 0.0065\n",
            "Epoch 271/500\n",
            "355/355 [==============================] - 2s 4ms/step - loss: 0.0019 - val_loss: 0.0065\n",
            "Epoch 272/500\n",
            "355/355 [==============================] - 2s 6ms/step - loss: 0.0019 - val_loss: 0.0065\n",
            "Epoch 273/500\n",
            "355/355 [==============================] - 3s 7ms/step - loss: 0.0019 - val_loss: 0.0065\n",
            "Epoch 274/500\n",
            "355/355 [==============================] - 1s 4ms/step - loss: 0.0019 - val_loss: 0.0064\n",
            "Epoch 275/500\n",
            "355/355 [==============================] - 1s 4ms/step - loss: 0.0019 - val_loss: 0.0065\n",
            "Epoch 276/500\n",
            "355/355 [==============================] - 2s 4ms/step - loss: 0.0019 - val_loss: 0.0064\n",
            "Epoch 277/500\n",
            "355/355 [==============================] - 2s 4ms/step - loss: 0.0019 - val_loss: 0.0067\n",
            "Epoch 278/500\n",
            "355/355 [==============================] - 2s 4ms/step - loss: 0.0019 - val_loss: 0.0065\n",
            "Epoch 279/500\n",
            "355/355 [==============================] - 3s 7ms/step - loss: 0.0019 - val_loss: 0.0064\n",
            "Epoch 280/500\n",
            "355/355 [==============================] - 1s 4ms/step - loss: 0.0019 - val_loss: 0.0065\n",
            "Epoch 281/500\n",
            "355/355 [==============================] - 2s 4ms/step - loss: 0.0019 - val_loss: 0.0067\n",
            "Epoch 282/500\n",
            "355/355 [==============================] - 2s 4ms/step - loss: 0.0019 - val_loss: 0.0065\n",
            "Epoch 283/500\n",
            "355/355 [==============================] - 2s 4ms/step - loss: 0.0019 - val_loss: 0.0065\n",
            "Epoch 284/500\n",
            "355/355 [==============================] - 2s 5ms/step - loss: 0.0019 - val_loss: 0.0065\n",
            "Epoch 285/500\n",
            "355/355 [==============================] - 3s 7ms/step - loss: 0.0019 - val_loss: 0.0065\n",
            "Epoch 286/500\n",
            "355/355 [==============================] - 2s 4ms/step - loss: 0.0019 - val_loss: 0.0064\n",
            "Epoch 287/500\n",
            "355/355 [==============================] - 2s 4ms/step - loss: 0.0019 - val_loss: 0.0065\n",
            "Epoch 288/500\n",
            "355/355 [==============================] - 2s 4ms/step - loss: 0.0019 - val_loss: 0.0066\n",
            "Epoch 289/500\n",
            "355/355 [==============================] - 3s 8ms/step - loss: 0.0019 - val_loss: 0.0065\n",
            "Epoch 290/500\n",
            "355/355 [==============================] - 2s 4ms/step - loss: 0.0019 - val_loss: 0.0067\n",
            "Epoch 291/500\n",
            "355/355 [==============================] - 2s 4ms/step - loss: 0.0019 - val_loss: 0.0066\n",
            "Epoch 292/500\n",
            "355/355 [==============================] - 2s 4ms/step - loss: 0.0019 - val_loss: 0.0066\n",
            "Epoch 293/500\n",
            "355/355 [==============================] - 1s 4ms/step - loss: 0.0019 - val_loss: 0.0065\n",
            "Epoch 294/500\n",
            "355/355 [==============================] - 2s 7ms/step - loss: 0.0019 - val_loss: 0.0066\n",
            "Epoch 295/500\n",
            "355/355 [==============================] - 3s 7ms/step - loss: 0.0019 - val_loss: 0.0065\n",
            "Epoch 296/500\n",
            "355/355 [==============================] - 2s 4ms/step - loss: 0.0019 - val_loss: 0.0066\n",
            "Epoch 297/500\n",
            "355/355 [==============================] - 2s 4ms/step - loss: 0.0019 - val_loss: 0.0067\n",
            "Epoch 298/500\n",
            "355/355 [==============================] - 2s 4ms/step - loss: 0.0019 - val_loss: 0.0065\n",
            "Epoch 299/500\n",
            "355/355 [==============================] - 1s 4ms/step - loss: 0.0019 - val_loss: 0.0066\n",
            "Epoch 300/500\n",
            "355/355 [==============================] - 3s 8ms/step - loss: 0.0019 - val_loss: 0.0066\n",
            "Epoch 301/500\n",
            "355/355 [==============================] - 2s 4ms/step - loss: 0.0019 - val_loss: 0.0064\n",
            "Epoch 302/500\n",
            "355/355 [==============================] - 1s 4ms/step - loss: 0.0019 - val_loss: 0.0065\n",
            "Epoch 303/500\n",
            "355/355 [==============================] - 2s 4ms/step - loss: 0.0019 - val_loss: 0.0065\n",
            "Epoch 304/500\n",
            "355/355 [==============================] - 2s 4ms/step - loss: 0.0019 - val_loss: 0.0065\n",
            "Epoch 305/500\n",
            "355/355 [==============================] - 1s 4ms/step - loss: 0.0019 - val_loss: 0.0066\n",
            "Epoch 306/500\n",
            "355/355 [==============================] - 2s 7ms/step - loss: 0.0019 - val_loss: 0.0065\n",
            "Epoch 307/500\n",
            "355/355 [==============================] - 2s 5ms/step - loss: 0.0019 - val_loss: 0.0066\n",
            "Epoch 308/500\n",
            "355/355 [==============================] - 2s 4ms/step - loss: 0.0019 - val_loss: 0.0065\n",
            "Epoch 309/500\n",
            "355/355 [==============================] - 2s 4ms/step - loss: 0.0019 - val_loss: 0.0066\n",
            "Epoch 310/500\n",
            "355/355 [==============================] - 2s 4ms/step - loss: 0.0019 - val_loss: 0.0067\n",
            "Epoch 311/500\n",
            "355/355 [==============================] - 1s 4ms/step - loss: 0.0019 - val_loss: 0.0066\n",
            "Epoch 312/500\n",
            "355/355 [==============================] - 2s 6ms/step - loss: 0.0019 - val_loss: 0.0067\n",
            "Epoch 313/500\n",
            "355/355 [==============================] - 2s 7ms/step - loss: 0.0019 - val_loss: 0.0066\n",
            "Epoch 314/500\n",
            "355/355 [==============================] - 1s 4ms/step - loss: 0.0019 - val_loss: 0.0065\n",
            "Epoch 315/500\n",
            "355/355 [==============================] - 1s 4ms/step - loss: 0.0019 - val_loss: 0.0065\n",
            "Epoch 316/500\n",
            "355/355 [==============================] - 2s 4ms/step - loss: 0.0019 - val_loss: 0.0067\n",
            "Epoch 317/500\n",
            "355/355 [==============================] - 2s 5ms/step - loss: 0.0019 - val_loss: 0.0064\n",
            "Epoch 318/500\n",
            "355/355 [==============================] - 2s 4ms/step - loss: 0.0019 - val_loss: 0.0067\n",
            "Epoch 319/500\n",
            "355/355 [==============================] - 2s 6ms/step - loss: 0.0019 - val_loss: 0.0066\n",
            "Epoch 320/500\n",
            "355/355 [==============================] - 2s 7ms/step - loss: 0.0019 - val_loss: 0.0065\n",
            "Epoch 321/500\n",
            "355/355 [==============================] - 2s 5ms/step - loss: 0.0019 - val_loss: 0.0066\n",
            "Epoch 322/500\n",
            "355/355 [==============================] - 1s 4ms/step - loss: 0.0019 - val_loss: 0.0065\n",
            "Epoch 323/500\n",
            "355/355 [==============================] - 2s 4ms/step - loss: 0.0019 - val_loss: 0.0064\n",
            "Epoch 324/500\n",
            "355/355 [==============================] - 1s 4ms/step - loss: 0.0019 - val_loss: 0.0067\n",
            "Epoch 325/500\n",
            "355/355 [==============================] - 2s 6ms/step - loss: 0.0019 - val_loss: 0.0065\n",
            "Epoch 326/500\n",
            "355/355 [==============================] - 2s 7ms/step - loss: 0.0019 - val_loss: 0.0066\n",
            "Epoch 327/500\n",
            "355/355 [==============================] - 1s 4ms/step - loss: 0.0019 - val_loss: 0.0066\n",
            "Epoch 328/500\n",
            "355/355 [==============================] - 2s 4ms/step - loss: 0.0019 - val_loss: 0.0065\n",
            "Epoch 329/500\n",
            "355/355 [==============================] - 1s 4ms/step - loss: 0.0019 - val_loss: 0.0065\n",
            "Epoch 330/500\n",
            "355/355 [==============================] - 1s 4ms/step - loss: 0.0019 - val_loss: 0.0068\n",
            "Epoch 331/500\n",
            "355/355 [==============================] - 3s 8ms/step - loss: 0.0019 - val_loss: 0.0065\n",
            "Epoch 332/500\n",
            "355/355 [==============================] - 1s 4ms/step - loss: 0.0019 - val_loss: 0.0064\n",
            "Epoch 333/500\n",
            "355/355 [==============================] - 2s 4ms/step - loss: 0.0018 - val_loss: 0.0066\n",
            "Epoch 334/500\n",
            "355/355 [==============================] - 1s 4ms/step - loss: 0.0019 - val_loss: 0.0065\n",
            "Epoch 335/500\n",
            "355/355 [==============================] - 1s 4ms/step - loss: 0.0019 - val_loss: 0.0066\n",
            "Epoch 336/500\n",
            "355/355 [==============================] - 2s 6ms/step - loss: 0.0018 - val_loss: 0.0067\n",
            "Epoch 337/500\n",
            "355/355 [==============================] - 2s 7ms/step - loss: 0.0019 - val_loss: 0.0065\n",
            "Epoch 338/500\n",
            "355/355 [==============================] - 1s 4ms/step - loss: 0.0018 - val_loss: 0.0064\n",
            "Epoch 339/500\n",
            "355/355 [==============================] - 2s 4ms/step - loss: 0.0018 - val_loss: 0.0065\n",
            "Epoch 340/500\n",
            "355/355 [==============================] - 1s 4ms/step - loss: 0.0019 - val_loss: 0.0067\n",
            "Epoch 341/500\n",
            "355/355 [==============================] - 1s 4ms/step - loss: 0.0019 - val_loss: 0.0066\n",
            "Epoch 342/500\n",
            "355/355 [==============================] - 2s 4ms/step - loss: 0.0018 - val_loss: 0.0064\n",
            "Epoch 343/500\n",
            "355/355 [==============================] - 2s 6ms/step - loss: 0.0019 - val_loss: 0.0066\n",
            "Epoch 344/500\n",
            "355/355 [==============================] - 3s 8ms/step - loss: 0.0019 - val_loss: 0.0067\n",
            "Epoch 345/500\n",
            "355/355 [==============================] - 2s 4ms/step - loss: 0.0019 - val_loss: 0.0064\n",
            "Epoch 346/500\n",
            "355/355 [==============================] - 1s 4ms/step - loss: 0.0018 - val_loss: 0.0068\n",
            "Epoch 347/500\n",
            "355/355 [==============================] - 1s 4ms/step - loss: 0.0018 - val_loss: 0.0065\n",
            "Epoch 348/500\n",
            "355/355 [==============================] - 2s 4ms/step - loss: 0.0018 - val_loss: 0.0066\n",
            "Epoch 349/500\n",
            "355/355 [==============================] - 3s 8ms/step - loss: 0.0019 - val_loss: 0.0066\n",
            "Epoch 350/500\n",
            "355/355 [==============================] - 1s 4ms/step - loss: 0.0018 - val_loss: 0.0065\n",
            "Epoch 351/500\n",
            "355/355 [==============================] - 1s 4ms/step - loss: 0.0018 - val_loss: 0.0066\n",
            "Epoch 352/500\n",
            "355/355 [==============================] - 1s 4ms/step - loss: 0.0019 - val_loss: 0.0066\n",
            "Epoch 353/500\n",
            "355/355 [==============================] - 1s 4ms/step - loss: 0.0019 - val_loss: 0.0065\n",
            "Epoch 354/500\n",
            "355/355 [==============================] - 2s 6ms/step - loss: 0.0019 - val_loss: 0.0068\n",
            "Epoch 355/500\n",
            "355/355 [==============================] - 2s 7ms/step - loss: 0.0018 - val_loss: 0.0065\n",
            "Epoch 356/500\n",
            "355/355 [==============================] - 2s 4ms/step - loss: 0.0018 - val_loss: 0.0065\n",
            "Epoch 357/500\n",
            "355/355 [==============================] - 2s 4ms/step - loss: 0.0018 - val_loss: 0.0064\n",
            "Epoch 358/500\n",
            "355/355 [==============================] - 1s 4ms/step - loss: 0.0018 - val_loss: 0.0067\n",
            "Epoch 359/500\n",
            "355/355 [==============================] - 1s 4ms/step - loss: 0.0018 - val_loss: 0.0066\n",
            "Epoch 360/500\n",
            "355/355 [==============================] - 2s 4ms/step - loss: 0.0019 - val_loss: 0.0065\n",
            "Epoch 361/500\n",
            "355/355 [==============================] - 3s 8ms/step - loss: 0.0018 - val_loss: 0.0068\n",
            "Epoch 362/500\n",
            "355/355 [==============================] - 1s 4ms/step - loss: 0.0018 - val_loss: 0.0066\n",
            "Epoch 363/500\n",
            "355/355 [==============================] - 1s 4ms/step - loss: 0.0018 - val_loss: 0.0064\n",
            "Epoch 364/500\n",
            "355/355 [==============================] - 2s 4ms/step - loss: 0.0018 - val_loss: 0.0066\n",
            "Epoch 365/500\n",
            "355/355 [==============================] - 2s 4ms/step - loss: 0.0018 - val_loss: 0.0070\n",
            "Epoch 366/500\n",
            "355/355 [==============================] - 2s 5ms/step - loss: 0.0018 - val_loss: 0.0066\n",
            "Epoch 367/500\n",
            "355/355 [==============================] - 3s 8ms/step - loss: 0.0018 - val_loss: 0.0067\n",
            "Epoch 368/500\n",
            "355/355 [==============================] - 1s 4ms/step - loss: 0.0018 - val_loss: 0.0067\n",
            "Epoch 369/500\n",
            "355/355 [==============================] - 2s 4ms/step - loss: 0.0018 - val_loss: 0.0067\n",
            "Epoch 370/500\n",
            "355/355 [==============================] - 1s 4ms/step - loss: 0.0019 - val_loss: 0.0065\n",
            "Epoch 371/500\n",
            "355/355 [==============================] - 2s 4ms/step - loss: 0.0018 - val_loss: 0.0065\n",
            "Epoch 372/500\n",
            "355/355 [==============================] - 3s 8ms/step - loss: 0.0018 - val_loss: 0.0066\n",
            "Epoch 373/500\n",
            "355/355 [==============================] - 1s 4ms/step - loss: 0.0019 - val_loss: 0.0067\n",
            "Epoch 374/500\n",
            "355/355 [==============================] - 2s 4ms/step - loss: 0.0018 - val_loss: 0.0071\n",
            "Epoch 375/500\n",
            "355/355 [==============================] - 1s 4ms/step - loss: 0.0018 - val_loss: 0.0067\n",
            "Epoch 376/500\n",
            "355/355 [==============================] - 2s 5ms/step - loss: 0.0018 - val_loss: 0.0067\n",
            "Epoch 377/500\n",
            "355/355 [==============================] - 2s 7ms/step - loss: 0.0018 - val_loss: 0.0070\n",
            "Epoch 378/500\n",
            "355/355 [==============================] - 2s 4ms/step - loss: 0.0018 - val_loss: 0.0065\n",
            "Epoch 379/500\n",
            "355/355 [==============================] - 2s 4ms/step - loss: 0.0018 - val_loss: 0.0065\n",
            "Epoch 380/500\n",
            "355/355 [==============================] - 2s 4ms/step - loss: 0.0018 - val_loss: 0.0067\n",
            "Epoch 381/500\n",
            "355/355 [==============================] - 1s 4ms/step - loss: 0.0018 - val_loss: 0.0066\n",
            "Epoch 382/500\n",
            "355/355 [==============================] - 1s 4ms/step - loss: 0.0018 - val_loss: 0.0068\n",
            "Epoch 383/500\n",
            "355/355 [==============================] - 3s 8ms/step - loss: 0.0018 - val_loss: 0.0066\n",
            "Epoch 384/500\n",
            "355/355 [==============================] - 2s 5ms/step - loss: 0.0018 - val_loss: 0.0067\n",
            "Epoch 385/500\n",
            "355/355 [==============================] - 2s 5ms/step - loss: 0.0018 - val_loss: 0.0067\n",
            "Epoch 386/500\n",
            "355/355 [==============================] - 2s 4ms/step - loss: 0.0018 - val_loss: 0.0067\n",
            "Epoch 387/500\n",
            "355/355 [==============================] - 1s 4ms/step - loss: 0.0018 - val_loss: 0.0068\n",
            "Epoch 388/500\n",
            "355/355 [==============================] - 2s 4ms/step - loss: 0.0019 - val_loss: 0.0069\n",
            "Epoch 389/500\n",
            "355/355 [==============================] - 3s 8ms/step - loss: 0.0019 - val_loss: 0.0066\n",
            "Epoch 390/500\n",
            "355/355 [==============================] - 2s 4ms/step - loss: 0.0018 - val_loss: 0.0066\n",
            "Epoch 391/500\n",
            "355/355 [==============================] - 2s 4ms/step - loss: 0.0018 - val_loss: 0.0067\n",
            "Epoch 392/500\n",
            "355/355 [==============================] - 1s 4ms/step - loss: 0.0018 - val_loss: 0.0066\n",
            "Epoch 393/500\n",
            "355/355 [==============================] - 2s 5ms/step - loss: 0.0018 - val_loss: 0.0065\n",
            "Epoch 394/500\n",
            "355/355 [==============================] - 2s 6ms/step - loss: 0.0018 - val_loss: 0.0066\n",
            "Epoch 395/500\n",
            "355/355 [==============================] - 2s 4ms/step - loss: 0.0018 - val_loss: 0.0066\n",
            "Epoch 396/500\n",
            "355/355 [==============================] - 1s 4ms/step - loss: 0.0018 - val_loss: 0.0067\n",
            "Epoch 397/500\n",
            "355/355 [==============================] - 1s 4ms/step - loss: 0.0018 - val_loss: 0.0067\n",
            "Epoch 398/500\n",
            "355/355 [==============================] - 2s 5ms/step - loss: 0.0018 - val_loss: 0.0066\n",
            "Epoch 399/500\n",
            "355/355 [==============================] - 3s 8ms/step - loss: 0.0018 - val_loss: 0.0067\n",
            "Epoch 400/500\n",
            "355/355 [==============================] - 2s 5ms/step - loss: 0.0019 - val_loss: 0.0066\n",
            "Epoch 401/500\n",
            "355/355 [==============================] - 1s 4ms/step - loss: 0.0018 - val_loss: 0.0066\n",
            "Epoch 402/500\n",
            "355/355 [==============================] - 1s 4ms/step - loss: 0.0018 - val_loss: 0.0067\n",
            "Epoch 403/500\n",
            "355/355 [==============================] - 2s 5ms/step - loss: 0.0018 - val_loss: 0.0066\n",
            "Epoch 404/500\n",
            "355/355 [==============================] - 2s 4ms/step - loss: 0.0018 - val_loss: 0.0066\n",
            "Epoch 405/500\n",
            "355/355 [==============================] - 3s 7ms/step - loss: 0.0018 - val_loss: 0.0066\n",
            "Epoch 406/500\n",
            "355/355 [==============================] - 2s 6ms/step - loss: 0.0018 - val_loss: 0.0066\n",
            "Epoch 407/500\n",
            "355/355 [==============================] - 1s 4ms/step - loss: 0.0018 - val_loss: 0.0067\n",
            "Epoch 408/500\n",
            "355/355 [==============================] - 2s 4ms/step - loss: 0.0018 - val_loss: 0.0066\n",
            "Epoch 409/500\n",
            "355/355 [==============================] - 1s 4ms/step - loss: 0.0018 - val_loss: 0.0065\n",
            "Epoch 410/500\n",
            "355/355 [==============================] - 1s 4ms/step - loss: 0.0018 - val_loss: 0.0067\n",
            "Epoch 411/500\n",
            "355/355 [==============================] - 2s 5ms/step - loss: 0.0018 - val_loss: 0.0066\n",
            "Epoch 412/500\n",
            "355/355 [==============================] - 2s 7ms/step - loss: 0.0018 - val_loss: 0.0067\n",
            "Epoch 413/500\n",
            "355/355 [==============================] - 1s 4ms/step - loss: 0.0018 - val_loss: 0.0067\n",
            "Epoch 414/500\n",
            "355/355 [==============================] - 1s 4ms/step - loss: 0.0018 - val_loss: 0.0066\n",
            "Epoch 415/500\n",
            "355/355 [==============================] - 2s 5ms/step - loss: 0.0018 - val_loss: 0.0067\n",
            "Epoch 416/500\n",
            "355/355 [==============================] - 1s 4ms/step - loss: 0.0018 - val_loss: 0.0066\n",
            "Epoch 417/500\n",
            "355/355 [==============================] - 1s 4ms/step - loss: 0.0018 - val_loss: 0.0066\n",
            "Epoch 418/500\n",
            "355/355 [==============================] - 2s 6ms/step - loss: 0.0018 - val_loss: 0.0067\n",
            "Epoch 419/500\n",
            "355/355 [==============================] - 2s 6ms/step - loss: 0.0018 - val_loss: 0.0069\n",
            "Epoch 420/500\n",
            "355/355 [==============================] - 1s 4ms/step - loss: 0.0018 - val_loss: 0.0068\n",
            "Epoch 421/500\n",
            "355/355 [==============================] - 1s 4ms/step - loss: 0.0018 - val_loss: 0.0066\n",
            "Epoch 422/500\n",
            "355/355 [==============================] - 2s 4ms/step - loss: 0.0018 - val_loss: 0.0069\n",
            "Epoch 423/500\n",
            "355/355 [==============================] - 1s 4ms/step - loss: 0.0018 - val_loss: 0.0069\n",
            "Epoch 424/500\n",
            "355/355 [==============================] - 2s 6ms/step - loss: 0.0018 - val_loss: 0.0069\n",
            "Epoch 425/500\n",
            "355/355 [==============================] - 2s 6ms/step - loss: 0.0018 - val_loss: 0.0068\n",
            "Epoch 426/500\n",
            "355/355 [==============================] - 1s 4ms/step - loss: 0.0018 - val_loss: 0.0071\n",
            "Epoch 427/500\n",
            "355/355 [==============================] - 1s 4ms/step - loss: 0.0018 - val_loss: 0.0067\n",
            "Epoch 428/500\n",
            "355/355 [==============================] - 1s 4ms/step - loss: 0.0018 - val_loss: 0.0065\n",
            "Epoch 429/500\n",
            "355/355 [==============================] - 1s 4ms/step - loss: 0.0018 - val_loss: 0.0067\n",
            "Epoch 430/500\n",
            "355/355 [==============================] - 2s 6ms/step - loss: 0.0018 - val_loss: 0.0069\n",
            "Epoch 431/500\n",
            "355/355 [==============================] - 3s 8ms/step - loss: 0.0018 - val_loss: 0.0067\n",
            "Epoch 432/500\n",
            "355/355 [==============================] - 2s 4ms/step - loss: 0.0018 - val_loss: 0.0067\n",
            "Epoch 433/500\n",
            "355/355 [==============================] - 1s 4ms/step - loss: 0.0018 - val_loss: 0.0067\n",
            "Epoch 434/500\n",
            "355/355 [==============================] - 1s 4ms/step - loss: 0.0018 - val_loss: 0.0068\n",
            "Epoch 435/500\n",
            "355/355 [==============================] - 2s 7ms/step - loss: 0.0018 - val_loss: 0.0067\n",
            "Epoch 436/500\n",
            "355/355 [==============================] - 2s 5ms/step - loss: 0.0018 - val_loss: 0.0067\n",
            "Epoch 437/500\n",
            "355/355 [==============================] - 1s 4ms/step - loss: 0.0018 - val_loss: 0.0066\n",
            "Epoch 438/500\n",
            "355/355 [==============================] - 1s 4ms/step - loss: 0.0018 - val_loss: 0.0067\n",
            "Epoch 439/500\n",
            "355/355 [==============================] - 1s 4ms/step - loss: 0.0018 - val_loss: 0.0066\n",
            "Epoch 440/500\n",
            "355/355 [==============================] - 1s 4ms/step - loss: 0.0018 - val_loss: 0.0067\n",
            "Epoch 441/500\n",
            "355/355 [==============================] - 2s 5ms/step - loss: 0.0018 - val_loss: 0.0067\n",
            "Epoch 442/500\n",
            "355/355 [==============================] - 2s 6ms/step - loss: 0.0018 - val_loss: 0.0068\n",
            "Epoch 443/500\n",
            "355/355 [==============================] - 1s 4ms/step - loss: 0.0018 - val_loss: 0.0071\n",
            "Epoch 444/500\n",
            "355/355 [==============================] - 1s 4ms/step - loss: 0.0018 - val_loss: 0.0069\n",
            "Epoch 445/500\n",
            "355/355 [==============================] - 1s 4ms/step - loss: 0.0018 - val_loss: 0.0067\n",
            "Epoch 446/500\n",
            "355/355 [==============================] - 1s 4ms/step - loss: 0.0018 - val_loss: 0.0068\n",
            "Epoch 447/500\n",
            "355/355 [==============================] - 2s 6ms/step - loss: 0.0018 - val_loss: 0.0066\n",
            "Epoch 448/500\n",
            "355/355 [==============================] - 2s 6ms/step - loss: 0.0018 - val_loss: 0.0068\n",
            "Epoch 449/500\n",
            "355/355 [==============================] - 1s 4ms/step - loss: 0.0018 - val_loss: 0.0067\n",
            "Epoch 450/500\n",
            "355/355 [==============================] - 1s 4ms/step - loss: 0.0018 - val_loss: 0.0067\n",
            "Epoch 451/500\n",
            "355/355 [==============================] - 1s 4ms/step - loss: 0.0018 - val_loss: 0.0067\n",
            "Epoch 452/500\n",
            "355/355 [==============================] - 1s 4ms/step - loss: 0.0018 - val_loss: 0.0067\n",
            "Epoch 453/500\n",
            "355/355 [==============================] - 2s 5ms/step - loss: 0.0018 - val_loss: 0.0067\n",
            "Epoch 454/500\n",
            "355/355 [==============================] - 2s 5ms/step - loss: 0.0018 - val_loss: 0.0067\n",
            "Epoch 455/500\n",
            "355/355 [==============================] - 1s 4ms/step - loss: 0.0018 - val_loss: 0.0069\n",
            "Epoch 456/500\n",
            "355/355 [==============================] - 1s 4ms/step - loss: 0.0018 - val_loss: 0.0068\n",
            "Epoch 457/500\n",
            "355/355 [==============================] - 1s 4ms/step - loss: 0.0018 - val_loss: 0.0067\n",
            "Epoch 458/500\n",
            "355/355 [==============================] - 1s 4ms/step - loss: 0.0018 - val_loss: 0.0068\n",
            "Epoch 459/500\n",
            "355/355 [==============================] - 3s 7ms/step - loss: 0.0018 - val_loss: 0.0067\n",
            "Epoch 460/500\n",
            "355/355 [==============================] - 2s 5ms/step - loss: 0.0018 - val_loss: 0.0067\n",
            "Epoch 461/500\n",
            "355/355 [==============================] - 1s 4ms/step - loss: 0.0018 - val_loss: 0.0067\n",
            "Epoch 462/500\n",
            "355/355 [==============================] - 1s 4ms/step - loss: 0.0018 - val_loss: 0.0069\n",
            "Epoch 463/500\n",
            "355/355 [==============================] - 1s 4ms/step - loss: 0.0018 - val_loss: 0.0070\n",
            "Epoch 464/500\n",
            "355/355 [==============================] - 1s 4ms/step - loss: 0.0018 - val_loss: 0.0068\n",
            "Epoch 465/500\n",
            "355/355 [==============================] - 2s 5ms/step - loss: 0.0018 - val_loss: 0.0068\n",
            "Epoch 466/500\n",
            "355/355 [==============================] - 2s 6ms/step - loss: 0.0018 - val_loss: 0.0067\n",
            "Epoch 467/500\n",
            "355/355 [==============================] - 2s 5ms/step - loss: 0.0018 - val_loss: 0.0069\n",
            "Epoch 468/500\n",
            "355/355 [==============================] - 1s 4ms/step - loss: 0.0018 - val_loss: 0.0068\n",
            "Epoch 469/500\n",
            "355/355 [==============================] - 1s 4ms/step - loss: 0.0018 - val_loss: 0.0069\n",
            "Epoch 470/500\n",
            "355/355 [==============================] - 1s 4ms/step - loss: 0.0018 - val_loss: 0.0069\n",
            "Epoch 471/500\n",
            "355/355 [==============================] - 2s 4ms/step - loss: 0.0018 - val_loss: 0.0068\n",
            "Epoch 472/500\n",
            "355/355 [==============================] - 2s 7ms/step - loss: 0.0018 - val_loss: 0.0066\n",
            "Epoch 473/500\n",
            "355/355 [==============================] - 2s 5ms/step - loss: 0.0018 - val_loss: 0.0068\n",
            "Epoch 474/500\n",
            "355/355 [==============================] - 1s 4ms/step - loss: 0.0018 - val_loss: 0.0067\n",
            "Epoch 475/500\n",
            "355/355 [==============================] - 1s 4ms/step - loss: 0.0018 - val_loss: 0.0068\n",
            "Epoch 476/500\n",
            "355/355 [==============================] - 1s 4ms/step - loss: 0.0018 - val_loss: 0.0071\n",
            "Epoch 477/500\n",
            "355/355 [==============================] - 1s 4ms/step - loss: 0.0018 - val_loss: 0.0067\n",
            "Epoch 478/500\n",
            "355/355 [==============================] - 2s 7ms/step - loss: 0.0018 - val_loss: 0.0067\n",
            "Epoch 479/500\n",
            "355/355 [==============================] - 2s 5ms/step - loss: 0.0018 - val_loss: 0.0068\n",
            "Epoch 480/500\n",
            "355/355 [==============================] - 2s 4ms/step - loss: 0.0018 - val_loss: 0.0069\n",
            "Epoch 481/500\n",
            "355/355 [==============================] - 1s 4ms/step - loss: 0.0018 - val_loss: 0.0071\n",
            "Epoch 482/500\n",
            "355/355 [==============================] - 1s 4ms/step - loss: 0.0018 - val_loss: 0.0072\n",
            "Epoch 483/500\n",
            "355/355 [==============================] - 1s 4ms/step - loss: 0.0018 - val_loss: 0.0066\n",
            "Epoch 484/500\n",
            "355/355 [==============================] - 1s 4ms/step - loss: 0.0018 - val_loss: 0.0069\n",
            "Epoch 485/500\n",
            "355/355 [==============================] - 2s 7ms/step - loss: 0.0018 - val_loss: 0.0070\n",
            "Epoch 486/500\n",
            "355/355 [==============================] - 2s 5ms/step - loss: 0.0018 - val_loss: 0.0070\n",
            "Epoch 487/500\n",
            "355/355 [==============================] - 1s 4ms/step - loss: 0.0018 - val_loss: 0.0068\n",
            "Epoch 488/500\n",
            "355/355 [==============================] - 1s 4ms/step - loss: 0.0018 - val_loss: 0.0070\n",
            "Epoch 489/500\n",
            "355/355 [==============================] - 1s 4ms/step - loss: 0.0018 - val_loss: 0.0069\n",
            "Epoch 490/500\n",
            "355/355 [==============================] - 2s 4ms/step - loss: 0.0018 - val_loss: 0.0072\n",
            "Epoch 491/500\n",
            "355/355 [==============================] - 2s 4ms/step - loss: 0.0018 - val_loss: 0.0068\n",
            "Epoch 492/500\n",
            "355/355 [==============================] - 3s 7ms/step - loss: 0.0018 - val_loss: 0.0071\n",
            "Epoch 493/500\n",
            "355/355 [==============================] - 1s 4ms/step - loss: 0.0018 - val_loss: 0.0069\n",
            "Epoch 494/500\n",
            "355/355 [==============================] - 1s 4ms/step - loss: 0.0018 - val_loss: 0.0071\n",
            "Epoch 495/500\n",
            "355/355 [==============================] - 1s 4ms/step - loss: 0.0018 - val_loss: 0.0070\n",
            "Epoch 496/500\n",
            "355/355 [==============================] - 1s 4ms/step - loss: 0.0018 - val_loss: 0.0069\n",
            "Epoch 497/500\n",
            "355/355 [==============================] - 2s 7ms/step - loss: 0.0018 - val_loss: 0.0069\n",
            "Epoch 498/500\n",
            "355/355 [==============================] - 2s 5ms/step - loss: 0.0018 - val_loss: 0.0069\n",
            "Epoch 499/500\n",
            "355/355 [==============================] - 1s 4ms/step - loss: 0.0018 - val_loss: 0.0067\n",
            "Epoch 500/500\n",
            "355/355 [==============================] - 1s 4ms/step - loss: 0.0018 - val_loss: 0.0071\n"
          ]
        },
        {
          "output_type": "execute_result",
          "data": {
            "text/plain": [
              "<keras.src.callbacks.History at 0x7cfb093c7f70>"
            ]
          },
          "metadata": {},
          "execution_count": 116
        }
      ]
    },
    {
      "cell_type": "code",
      "source": [
        "# Assuming you have a test_generator similar to train_generator\n",
        "test_loss = model.evaluate(val_generator)\n",
        "print(f\"Test Loss: {test_loss}\")\n"
      ],
      "metadata": {
        "colab": {
          "base_uri": "https://localhost:8080/"
        },
        "id": "3QY0ONOMSq06",
        "outputId": "16250732-787d-4f4e-d21e-d8e4e4aff980"
      },
      "execution_count": null,
      "outputs": [
        {
          "output_type": "stream",
          "name": "stdout",
          "text": [
            "117/117 [==============================] - 0s 2ms/step - loss: 0.0058\n",
            "Test Loss: 0.005847033113241196\n"
          ]
        }
      ]
    },
    {
      "cell_type": "code",
      "source": [
        "# Save the model in SavedModel format\n",
        "model.save('/content/drive/MyDrive/Deep_Learning/DL_Model.h5')  # The model is saved in a directory 'my_saved_model/'\n"
      ],
      "metadata": {
        "colab": {
          "base_uri": "https://localhost:8080/"
        },
        "id": "EqiTR_tFpvuH",
        "outputId": "c381d5ae-776d-4c9b-88b5-61f2cb3f376a"
      },
      "execution_count": null,
      "outputs": [
        {
          "output_type": "stream",
          "name": "stderr",
          "text": [
            "WARNING:absl:You are saving your model as an HDF5 file via `model.save()` or `keras.saving.save_model(model)`. This file format is considered legacy. We recommend using instead the native Keras format, e.g. `model.save('my_model.keras')` or `keras.saving.save_model(model, 'my_model.keras')`. \n"
          ]
        }
      ]
    },
    {
      "cell_type": "code",
      "source": [
        "from sklearn.metrics import r2_score, mean_squared_error, mean_absolute_error\n",
        "\n",
        "# Make predictions on the test set\n",
        "y_pred = model.predict(val_generator)\n",
        "\n",
        "\n",
        " # This reshapes the array to 2D if you have multiple features\n",
        " # Flatten 'y_pred' to a 1D array if it is 3D [samples, timesteps, features]\n",
        "# This is assuming you have one feature and are interested in the last time step prediction\n",
        "if y_pred.ndim == 3:\n",
        "    y_pred = y_pred[:, -1, 0]  # This selects the last timestep and the first feature\n",
        "\n",
        "y_val_aligned = y_test_scaled[:len(y_pred)]\n",
        "\n",
        "# Calculate R^2 score\n",
        "r2 = r2_score(y_val_aligned, y_pred)\n",
        "\n",
        "# Calculate mean squared error\n",
        "mse = mean_squared_error(y_val_aligned, y_pred)\n",
        "\n",
        "# Calculate mean absolute error\n",
        "mae = mean_absolute_error(y_val_aligned, y_pred)\n",
        "\n",
        "print(\"R^2 Score:\", r2)\n",
        "print(\"Mean Squared Error:\", mse)\n",
        "print(\"Mean Absolute Error:\", mae)"
      ],
      "metadata": {
        "id": "oDfXWfeHTjmK",
        "colab": {
          "base_uri": "https://localhost:8080/"
        },
        "outputId": "ace43857-73fb-40b5-9049-efe0f7c40a8f"
      },
      "execution_count": null,
      "outputs": [
        {
          "output_type": "stream",
          "name": "stdout",
          "text": [
            "117/117 [==============================] - 0s 2ms/step\n",
            "R^2 Score: 0.0752603983543293\n",
            "Mean Squared Error: 0.00520572031716428\n",
            "Mean Absolute Error: 0.0290973066973087\n"
          ]
        }
      ]
    },
    {
      "cell_type": "markdown",
      "source": [
        "Simple LSTM:"
      ],
      "metadata": {
        "id": "0H2QXvLL8Aez"
      }
    },
    {
      "cell_type": "code",
      "source": [
        "from keras.models import Sequential\n",
        "from keras.layers import LSTM, Dense,Dropout\n",
        "n_features = X_train.shape[1]  # Number of features in the dataset\n",
        "model = Sequential([\n",
        "    LSTM(50, activation='relu', input_shape=(sequence_length, n_features)),\n",
        "    Dropout(0.2),\n",
        "    Dense(1)\n",
        "])\n",
        "model.compile(optimizer='adam', loss='mean_squared_error')\n",
        "\n",
        "early_stopping = EarlyStopping(monitor='val_loss', patience=3)\n",
        "\n",
        "model.fit(train_generator, validation_data = val_generator, epochs=50)\n"
      ],
      "metadata": {
        "colab": {
          "base_uri": "https://localhost:8080/"
        },
        "id": "Mbpkiz9F8A1V",
        "outputId": "ca911ec1-bf5c-4bf9-e02e-40b1fd358fd6"
      },
      "execution_count": null,
      "outputs": [
        {
          "output_type": "stream",
          "name": "stdout",
          "text": [
            "Epoch 1/50\n",
            "355/355 [==============================] - 6s 12ms/step - loss: 0.0032 - val_loss: 0.0058\n",
            "Epoch 2/50\n",
            "355/355 [==============================] - 3s 9ms/step - loss: 0.0023 - val_loss: 0.0056\n",
            "Epoch 3/50\n",
            "355/355 [==============================] - 3s 7ms/step - loss: 0.0023 - val_loss: 0.0060\n",
            "Epoch 4/50\n",
            "355/355 [==============================] - 4s 11ms/step - loss: 0.0023 - val_loss: 0.0063\n",
            "Epoch 5/50\n",
            "355/355 [==============================] - 3s 8ms/step - loss: 0.0022 - val_loss: 0.0061\n",
            "Epoch 6/50\n",
            "355/355 [==============================] - 2s 7ms/step - loss: 0.0022 - val_loss: 0.0063\n",
            "Epoch 7/50\n",
            "355/355 [==============================] - 3s 9ms/step - loss: 0.0022 - val_loss: 0.0062\n",
            "Epoch 8/50\n",
            "355/355 [==============================] - 3s 9ms/step - loss: 0.0022 - val_loss: 0.0057\n",
            "Epoch 9/50\n",
            "355/355 [==============================] - 3s 7ms/step - loss: 0.0022 - val_loss: 0.0059\n",
            "Epoch 10/50\n",
            "355/355 [==============================] - 3s 7ms/step - loss: 0.0022 - val_loss: 0.0061\n",
            "Epoch 11/50\n",
            "355/355 [==============================] - 3s 9ms/step - loss: 0.0022 - val_loss: 0.0058\n",
            "Epoch 12/50\n",
            "355/355 [==============================] - 3s 8ms/step - loss: 0.0022 - val_loss: 0.0058\n",
            "Epoch 13/50\n",
            "355/355 [==============================] - 2s 7ms/step - loss: 0.0022 - val_loss: 0.0058\n",
            "Epoch 14/50\n",
            "355/355 [==============================] - 3s 9ms/step - loss: 0.0022 - val_loss: 0.0056\n",
            "Epoch 15/50\n",
            "355/355 [==============================] - 3s 9ms/step - loss: 0.0022 - val_loss: 0.0057\n",
            "Epoch 16/50\n",
            "355/355 [==============================] - 3s 8ms/step - loss: 0.0021 - val_loss: 0.0062\n",
            "Epoch 17/50\n",
            "355/355 [==============================] - 3s 7ms/step - loss: 0.0021 - val_loss: 0.0056\n",
            "Epoch 18/50\n",
            "355/355 [==============================] - 3s 9ms/step - loss: 0.0021 - val_loss: 0.0058\n",
            "Epoch 19/50\n",
            "355/355 [==============================] - 3s 9ms/step - loss: 0.0021 - val_loss: 0.0056\n",
            "Epoch 20/50\n",
            "355/355 [==============================] - 3s 8ms/step - loss: 0.0021 - val_loss: 0.0057\n",
            "Epoch 21/50\n",
            "355/355 [==============================] - 3s 8ms/step - loss: 0.0021 - val_loss: 0.0060\n",
            "Epoch 22/50\n",
            "355/355 [==============================] - 3s 9ms/step - loss: 0.0021 - val_loss: 0.0057\n",
            "Epoch 23/50\n",
            "355/355 [==============================] - 4s 11ms/step - loss: 0.0021 - val_loss: 0.0057\n",
            "Epoch 24/50\n",
            "355/355 [==============================] - 3s 8ms/step - loss: 0.0021 - val_loss: 0.0056\n",
            "Epoch 25/50\n",
            "355/355 [==============================] - 3s 8ms/step - loss: 0.0021 - val_loss: 0.0057\n",
            "Epoch 26/50\n",
            "355/355 [==============================] - 3s 7ms/step - loss: 0.0021 - val_loss: 0.0056\n",
            "Epoch 27/50\n",
            "355/355 [==============================] - 3s 8ms/step - loss: 0.0021 - val_loss: 0.0058\n",
            "Epoch 28/50\n",
            "355/355 [==============================] - 3s 7ms/step - loss: 0.0021 - val_loss: 0.0058\n",
            "Epoch 29/50\n",
            "355/355 [==============================] - 3s 7ms/step - loss: 0.0021 - val_loss: 0.0060\n",
            "Epoch 30/50\n",
            "355/355 [==============================] - 3s 9ms/step - loss: 0.0021 - val_loss: 0.0059\n",
            "Epoch 31/50\n",
            "355/355 [==============================] - 3s 9ms/step - loss: 0.0021 - val_loss: 0.0061\n",
            "Epoch 32/50\n",
            "355/355 [==============================] - 3s 7ms/step - loss: 0.0020 - val_loss: 0.0058\n",
            "Epoch 33/50\n",
            "355/355 [==============================] - 3s 7ms/step - loss: 0.0021 - val_loss: 0.0064\n",
            "Epoch 34/50\n",
            "355/355 [==============================] - 3s 8ms/step - loss: 0.0020 - val_loss: 0.0059\n",
            "Epoch 35/50\n",
            "355/355 [==============================] - 3s 7ms/step - loss: 0.0020 - val_loss: 0.0059\n",
            "Epoch 36/50\n",
            "355/355 [==============================] - 3s 8ms/step - loss: 0.0020 - val_loss: 0.0061\n",
            "Epoch 37/50\n",
            "355/355 [==============================] - 3s 9ms/step - loss: 0.0020 - val_loss: 0.0059\n",
            "Epoch 38/50\n",
            "355/355 [==============================] - 2s 7ms/step - loss: 0.0020 - val_loss: 0.0060\n",
            "Epoch 39/50\n",
            "355/355 [==============================] - 3s 7ms/step - loss: 0.0020 - val_loss: 0.0059\n",
            "Epoch 40/50\n",
            "355/355 [==============================] - 3s 8ms/step - loss: 0.0020 - val_loss: 0.0060\n",
            "Epoch 41/50\n",
            "355/355 [==============================] - 2s 7ms/step - loss: 0.0020 - val_loss: 0.0059\n",
            "Epoch 42/50\n",
            "355/355 [==============================] - 3s 7ms/step - loss: 0.0020 - val_loss: 0.0063\n",
            "Epoch 43/50\n",
            "355/355 [==============================] - 3s 8ms/step - loss: 0.0020 - val_loss: 0.0059\n",
            "Epoch 44/50\n",
            "355/355 [==============================] - 3s 10ms/step - loss: 0.0020 - val_loss: 0.0061\n",
            "Epoch 45/50\n",
            "355/355 [==============================] - 3s 7ms/step - loss: 0.0020 - val_loss: 0.0060\n",
            "Epoch 46/50\n",
            "355/355 [==============================] - 3s 7ms/step - loss: 0.0020 - val_loss: 0.0060\n",
            "Epoch 47/50\n",
            "355/355 [==============================] - 3s 9ms/step - loss: 0.0019 - val_loss: 0.0060\n",
            "Epoch 48/50\n",
            "355/355 [==============================] - 3s 7ms/step - loss: 0.0019 - val_loss: 0.0062\n",
            "Epoch 49/50\n",
            "355/355 [==============================] - 3s 7ms/step - loss: 0.0019 - val_loss: 0.0062\n",
            "Epoch 50/50\n",
            "355/355 [==============================] - 3s 7ms/step - loss: 0.0019 - val_loss: 0.0061\n"
          ]
        },
        {
          "output_type": "execute_result",
          "data": {
            "text/plain": [
              "<keras.src.callbacks.History at 0x7cfb0f2c94b0>"
            ]
          },
          "metadata": {},
          "execution_count": 86
        }
      ]
    },
    {
      "cell_type": "code",
      "source": [
        "from sklearn.metrics import r2_score, mean_squared_error, mean_absolute_error\n",
        "\n",
        "# Make predictions on the test set\n",
        "y_pred = model.predict(val_generator)\n",
        "\n",
        "y_val_aligned = y_test_scaled[:len(y_pred)]\n",
        "\n",
        "# Calculate R^2 score\n",
        "r2 = r2_score(y_val_aligned, y_pred)\n",
        "\n",
        "# Calculate mean squared error\n",
        "mse = mean_squared_error(y_val_aligned, y_pred)\n",
        "\n",
        "# Calculate mean absolute error\n",
        "mae = mean_absolute_error(y_val_aligned, y_pred)\n",
        "\n",
        "print(\"R^2 Score:\", r2)\n",
        "print(\"Mean Squared Error:\", mse)\n",
        "print(\"Mean Absolute Error:\", mae)"
      ],
      "metadata": {
        "colab": {
          "base_uri": "https://localhost:8080/"
        },
        "id": "bs-K-EBB8w2O",
        "outputId": "965ff1c2-2088-4cad-930a-6cc3b007d99a"
      },
      "execution_count": null,
      "outputs": [
        {
          "output_type": "stream",
          "name": "stdout",
          "text": [
            "117/117 [==============================] - 0s 3ms/step\n",
            "R^2 Score: -0.06504516063622412\n",
            "Mean Squared Error: 0.006008479677003423\n",
            "Mean Absolute Error: 0.027081310707146825\n"
          ]
        }
      ]
    },
    {
      "cell_type": "markdown",
      "source": [
        "Apply Regularization:"
      ],
      "metadata": {
        "id": "SNqLphbl9G-5"
      }
    },
    {
      "cell_type": "code",
      "source": [
        "from tensorflow.keras.layers import Dropout\n",
        "\n",
        "model = Sequential([\n",
        "    LSTM(100, activation='relu', input_shape=(sequence_length, n_features)),\n",
        "    Dropout(0.4),  # Dropout 40% of the neurons\n",
        "    Dense(1)\n",
        "])\n",
        "\n",
        "model.compile(optimizer='adam', loss='mean_squared_error')\n",
        "\n"
      ],
      "metadata": {
        "id": "Ort4_Psn9HSl",
        "colab": {
          "base_uri": "https://localhost:8080/"
        },
        "outputId": "48749dbe-88b8-41b7-e4ad-a3223fd7a2d2"
      },
      "execution_count": null,
      "outputs": [
        {
          "output_type": "stream",
          "name": "stderr",
          "text": [
            "/usr/local/lib/python3.10/dist-packages/keras/src/layers/rnn/rnn.py:204: UserWarning: Do not pass an `input_shape`/`input_dim` argument to a layer. When using Sequential models, prefer using an `Input(shape)` object as the first layer in the model instead.\n",
            "  super().__init__(**kwargs)\n"
          ]
        }
      ]
    },
    {
      "cell_type": "code",
      "source": [
        "from tensorflow.keras.callbacks import EarlyStopping\n",
        "\n",
        "early_stopping = EarlyStopping(monitor='val_loss', patience=2)\n",
        "model.fit(train_generator, steps_per_epoch=len(train_generator), epochs=50,callbacks=[early_stopping])\n"
      ],
      "metadata": {
        "colab": {
          "base_uri": "https://localhost:8080/"
        },
        "id": "Fkt7fjQ29WXP",
        "outputId": "e05e4090-8d8b-4ed2-988b-2080814ebd99"
      },
      "execution_count": null,
      "outputs": [
        {
          "output_type": "stream",
          "name": "stdout",
          "text": [
            "Epoch 1/50\n",
            "\u001b[1m353/353\u001b[0m \u001b[32m━━━━━━━━━━━━━━━━━━━━\u001b[0m\u001b[37m\u001b[0m \u001b[1m30s\u001b[0m 55ms/step - loss: 0.0057\n",
            "Epoch 2/50\n",
            "\u001b[1m353/353\u001b[0m \u001b[32m━━━━━━━━━━━━━━━━━━━━\u001b[0m\u001b[37m\u001b[0m \u001b[1m0s\u001b[0m 309us/step - loss: 0.0000e+00\n",
            "Epoch 3/50\n"
          ]
        },
        {
          "output_type": "stream",
          "name": "stderr",
          "text": [
            "/usr/local/lib/python3.10/dist-packages/keras/src/callbacks/early_stopping.py:156: UserWarning: Early stopping conditioned on metric `val_loss` which is not available. Available metrics are: loss\n",
            "  current = self.get_monitor_value(logs)\n",
            "/usr/lib/python3.10/contextlib.py:153: UserWarning: Your input ran out of data; interrupting training. Make sure that your dataset or generator can generate at least `steps_per_epoch * epochs` batches. You may need to use the `.repeat()` function when building your dataset.\n",
            "  self.gen.throw(typ, value, traceback)\n"
          ]
        },
        {
          "output_type": "stream",
          "name": "stdout",
          "text": [
            "\u001b[1m353/353\u001b[0m \u001b[32m━━━━━━━━━━━━━━━━━━━━\u001b[0m\u001b[37m\u001b[0m \u001b[1m12s\u001b[0m 34ms/step - loss: 0.0020\n",
            "Epoch 4/50\n",
            "\u001b[1m353/353\u001b[0m \u001b[32m━━━━━━━━━━━━━━━━━━━━\u001b[0m\u001b[37m\u001b[0m \u001b[1m0s\u001b[0m 24us/step - loss: 0.0000e+00\n",
            "Epoch 5/50\n",
            "\u001b[1m353/353\u001b[0m \u001b[32m━━━━━━━━━━━━━━━━━━━━\u001b[0m\u001b[37m\u001b[0m \u001b[1m8s\u001b[0m 24ms/step - loss: 0.0022\n",
            "Epoch 6/50\n",
            "\u001b[1m353/353\u001b[0m \u001b[32m━━━━━━━━━━━━━━━━━━━━\u001b[0m\u001b[37m\u001b[0m \u001b[1m0s\u001b[0m 34us/step - loss: 0.0000e+00\n",
            "Epoch 7/50\n",
            "\u001b[1m353/353\u001b[0m \u001b[32m━━━━━━━━━━━━━━━━━━━━\u001b[0m\u001b[37m\u001b[0m \u001b[1m7s\u001b[0m 20ms/step - loss: 0.0025\n",
            "Epoch 8/50\n",
            "\u001b[1m353/353\u001b[0m \u001b[32m━━━━━━━━━━━━━━━━━━━━\u001b[0m\u001b[37m\u001b[0m \u001b[1m0s\u001b[0m 36us/step - loss: 0.0000e+00\n",
            "Epoch 9/50\n",
            "\u001b[1m353/353\u001b[0m \u001b[32m━━━━━━━━━━━━━━━━━━━━\u001b[0m\u001b[37m\u001b[0m \u001b[1m8s\u001b[0m 24ms/step - loss: 0.0021\n",
            "Epoch 10/50\n",
            "\u001b[1m353/353\u001b[0m \u001b[32m━━━━━━━━━━━━━━━━━━━━\u001b[0m\u001b[37m\u001b[0m \u001b[1m0s\u001b[0m 35us/step - loss: 0.0000e+00\n",
            "Epoch 11/50\n",
            "\u001b[1m353/353\u001b[0m \u001b[32m━━━━━━━━━━━━━━━━━━━━\u001b[0m\u001b[37m\u001b[0m \u001b[1m7s\u001b[0m 20ms/step - loss: 0.0022\n",
            "Epoch 12/50\n",
            "\u001b[1m353/353\u001b[0m \u001b[32m━━━━━━━━━━━━━━━━━━━━\u001b[0m\u001b[37m\u001b[0m \u001b[1m0s\u001b[0m 26us/step - loss: 0.0000e+00\n",
            "Epoch 13/50\n",
            "\u001b[1m353/353\u001b[0m \u001b[32m━━━━━━━━━━━━━━━━━━━━\u001b[0m\u001b[37m\u001b[0m \u001b[1m9s\u001b[0m 24ms/step - loss: 0.0024\n",
            "Epoch 14/50\n",
            "\u001b[1m353/353\u001b[0m \u001b[32m━━━━━━━━━━━━━━━━━━━━\u001b[0m\u001b[37m\u001b[0m \u001b[1m0s\u001b[0m 38us/step - loss: 0.0000e+00\n",
            "Epoch 15/50\n",
            "\u001b[1m353/353\u001b[0m \u001b[32m━━━━━━━━━━━━━━━━━━━━\u001b[0m\u001b[37m\u001b[0m \u001b[1m7s\u001b[0m 20ms/step - loss: 0.0024\n",
            "Epoch 16/50\n",
            "\u001b[1m353/353\u001b[0m \u001b[32m━━━━━━━━━━━━━━━━━━━━\u001b[0m\u001b[37m\u001b[0m \u001b[1m0s\u001b[0m 33us/step - loss: 0.0000e+00\n",
            "Epoch 17/50\n",
            "\u001b[1m353/353\u001b[0m \u001b[32m━━━━━━━━━━━━━━━━━━━━\u001b[0m\u001b[37m\u001b[0m \u001b[1m10s\u001b[0m 20ms/step - loss: 0.0025\n",
            "Epoch 18/50\n",
            "\u001b[1m353/353\u001b[0m \u001b[32m━━━━━━━━━━━━━━━━━━━━\u001b[0m\u001b[37m\u001b[0m \u001b[1m0s\u001b[0m 27us/step - loss: 0.0000e+00\n",
            "Epoch 19/50\n",
            "\u001b[1m353/353\u001b[0m \u001b[32m━━━━━━━━━━━━━━━━━━━━\u001b[0m\u001b[37m\u001b[0m \u001b[1m9s\u001b[0m 24ms/step - loss: 0.0021\n",
            "Epoch 20/50\n",
            "\u001b[1m353/353\u001b[0m \u001b[32m━━━━━━━━━━━━━━━━━━━━\u001b[0m\u001b[37m\u001b[0m \u001b[1m0s\u001b[0m 33us/step - loss: 0.0000e+00\n",
            "Epoch 21/50\n",
            "\u001b[1m353/353\u001b[0m \u001b[32m━━━━━━━━━━━━━━━━━━━━\u001b[0m\u001b[37m\u001b[0m \u001b[1m9s\u001b[0m 20ms/step - loss: 0.0021\n",
            "Epoch 22/50\n",
            "\u001b[1m353/353\u001b[0m \u001b[32m━━━━━━━━━━━━━━━━━━━━\u001b[0m\u001b[37m\u001b[0m \u001b[1m0s\u001b[0m 45us/step - loss: 0.0000e+00\n",
            "Epoch 23/50\n",
            "\u001b[1m353/353\u001b[0m \u001b[32m━━━━━━━━━━━━━━━━━━━━\u001b[0m\u001b[37m\u001b[0m \u001b[1m10s\u001b[0m 19ms/step - loss: 0.0024\n",
            "Epoch 24/50\n",
            "\u001b[1m353/353\u001b[0m \u001b[32m━━━━━━━━━━━━━━━━━━━━\u001b[0m\u001b[37m\u001b[0m \u001b[1m0s\u001b[0m 37us/step - loss: 0.0000e+00\n",
            "Epoch 25/50\n",
            "\u001b[1m353/353\u001b[0m \u001b[32m━━━━━━━━━━━━━━━━━━━━\u001b[0m\u001b[37m\u001b[0m \u001b[1m11s\u001b[0m 20ms/step - loss: 0.0022\n",
            "Epoch 26/50\n",
            "\u001b[1m353/353\u001b[0m \u001b[32m━━━━━━━━━━━━━━━━━━━━\u001b[0m\u001b[37m\u001b[0m \u001b[1m0s\u001b[0m 33us/step - loss: 0.0000e+00\n",
            "Epoch 27/50\n",
            "\u001b[1m353/353\u001b[0m \u001b[32m━━━━━━━━━━━━━━━━━━━━\u001b[0m\u001b[37m\u001b[0m \u001b[1m11s\u001b[0m 24ms/step - loss: 0.0024\n",
            "Epoch 28/50\n",
            "\u001b[1m353/353\u001b[0m \u001b[32m━━━━━━━━━━━━━━━━━━━━\u001b[0m\u001b[37m\u001b[0m \u001b[1m0s\u001b[0m 36us/step - loss: 0.0000e+00\n",
            "Epoch 29/50\n",
            "\u001b[1m353/353\u001b[0m \u001b[32m━━━━━━━━━━━━━━━━━━━━\u001b[0m\u001b[37m\u001b[0m \u001b[1m7s\u001b[0m 20ms/step - loss: 0.0019\n",
            "Epoch 30/50\n",
            "\u001b[1m353/353\u001b[0m \u001b[32m━━━━━━━━━━━━━━━━━━━━\u001b[0m\u001b[37m\u001b[0m \u001b[1m0s\u001b[0m 40us/step - loss: 0.0000e+00\n",
            "Epoch 31/50\n",
            "\u001b[1m353/353\u001b[0m \u001b[32m━━━━━━━━━━━━━━━━━━━━\u001b[0m\u001b[37m\u001b[0m \u001b[1m10s\u001b[0m 20ms/step - loss: 0.0021\n",
            "Epoch 32/50\n",
            "\u001b[1m353/353\u001b[0m \u001b[32m━━━━━━━━━━━━━━━━━━━━\u001b[0m\u001b[37m\u001b[0m \u001b[1m0s\u001b[0m 32us/step - loss: 0.0000e+00\n",
            "Epoch 33/50\n",
            "\u001b[1m353/353\u001b[0m \u001b[32m━━━━━━━━━━━━━━━━━━━━\u001b[0m\u001b[37m\u001b[0m \u001b[1m9s\u001b[0m 24ms/step - loss: 0.0027\n",
            "Epoch 34/50\n",
            "\u001b[1m353/353\u001b[0m \u001b[32m━━━━━━━━━━━━━━━━━━━━\u001b[0m\u001b[37m\u001b[0m \u001b[1m0s\u001b[0m 36us/step - loss: 0.0000e+00\n",
            "Epoch 35/50\n",
            "\u001b[1m353/353\u001b[0m \u001b[32m━━━━━━━━━━━━━━━━━━━━\u001b[0m\u001b[37m\u001b[0m \u001b[1m7s\u001b[0m 19ms/step - loss: 0.0022\n",
            "Epoch 36/50\n",
            "\u001b[1m353/353\u001b[0m \u001b[32m━━━━━━━━━━━━━━━━━━━━\u001b[0m\u001b[37m\u001b[0m \u001b[1m0s\u001b[0m 46us/step - loss: 0.0000e+00\n",
            "Epoch 37/50\n",
            "\u001b[1m353/353\u001b[0m \u001b[32m━━━━━━━━━━━━━━━━━━━━\u001b[0m\u001b[37m\u001b[0m \u001b[1m10s\u001b[0m 19ms/step - loss: 0.0022\n",
            "Epoch 38/50\n",
            "\u001b[1m353/353\u001b[0m \u001b[32m━━━━━━━━━━━━━━━━━━━━\u001b[0m\u001b[37m\u001b[0m \u001b[1m0s\u001b[0m 34us/step - loss: 0.0000e+00\n",
            "Epoch 39/50\n",
            "\u001b[1m353/353\u001b[0m \u001b[32m━━━━━━━━━━━━━━━━━━━━\u001b[0m\u001b[37m\u001b[0m \u001b[1m11s\u001b[0m 22ms/step - loss: 0.0022\n",
            "Epoch 40/50\n",
            "\u001b[1m353/353\u001b[0m \u001b[32m━━━━━━━━━━━━━━━━━━━━\u001b[0m\u001b[37m\u001b[0m \u001b[1m0s\u001b[0m 34us/step - loss: 0.0000e+00\n",
            "Epoch 41/50\n",
            "\u001b[1m353/353\u001b[0m \u001b[32m━━━━━━━━━━━━━━━━━━━━\u001b[0m\u001b[37m\u001b[0m \u001b[1m11s\u001b[0m 24ms/step - loss: 0.0020\n",
            "Epoch 42/50\n",
            "\u001b[1m353/353\u001b[0m \u001b[32m━━━━━━━━━━━━━━━━━━━━\u001b[0m\u001b[37m\u001b[0m \u001b[1m0s\u001b[0m 30us/step - loss: 0.0000e+00\n",
            "Epoch 43/50\n",
            "\u001b[1m353/353\u001b[0m \u001b[32m━━━━━━━━━━━━━━━━━━━━\u001b[0m\u001b[37m\u001b[0m \u001b[1m9s\u001b[0m 21ms/step - loss: 0.0020\n",
            "Epoch 44/50\n",
            "\u001b[1m353/353\u001b[0m \u001b[32m━━━━━━━━━━━━━━━━━━━━\u001b[0m\u001b[37m\u001b[0m \u001b[1m0s\u001b[0m 28us/step - loss: 0.0000e+00\n",
            "Epoch 45/50\n",
            "\u001b[1m353/353\u001b[0m \u001b[32m━━━━━━━━━━━━━━━━━━━━\u001b[0m\u001b[37m\u001b[0m \u001b[1m10s\u001b[0m 19ms/step - loss: 0.0019\n",
            "Epoch 46/50\n",
            "\u001b[1m353/353\u001b[0m \u001b[32m━━━━━━━━━━━━━━━━━━━━\u001b[0m\u001b[37m\u001b[0m \u001b[1m0s\u001b[0m 39us/step - loss: 0.0000e+00\n",
            "Epoch 47/50\n",
            "\u001b[1m353/353\u001b[0m \u001b[32m━━━━━━━━━━━━━━━━━━━━\u001b[0m\u001b[37m\u001b[0m \u001b[1m8s\u001b[0m 24ms/step - loss: 0.0020\n",
            "Epoch 48/50\n",
            "\u001b[1m353/353\u001b[0m \u001b[32m━━━━━━━━━━━━━━━━━━━━\u001b[0m\u001b[37m\u001b[0m \u001b[1m0s\u001b[0m 39us/step - loss: 0.0000e+00\n",
            "Epoch 49/50\n",
            "\u001b[1m353/353\u001b[0m \u001b[32m━━━━━━━━━━━━━━━━━━━━\u001b[0m\u001b[37m\u001b[0m \u001b[1m7s\u001b[0m 19ms/step - loss: 0.0021\n",
            "Epoch 50/50\n",
            "\u001b[1m353/353\u001b[0m \u001b[32m━━━━━━━━━━━━━━━━━━━━\u001b[0m\u001b[37m\u001b[0m \u001b[1m0s\u001b[0m 29us/step - loss: 0.0000e+00\n"
          ]
        },
        {
          "output_type": "execute_result",
          "data": {
            "text/plain": [
              "<keras.src.callbacks.history.History at 0x7bc1950a1180>"
            ]
          },
          "metadata": {},
          "execution_count": 90
        }
      ]
    },
    {
      "cell_type": "code",
      "source": [
        "from sklearn.metrics import r2_score, mean_squared_error, mean_absolute_error\n",
        "\n",
        "# Make predictions on the test set\n",
        "y_pred = model.predict(val_generator)\n",
        "\n",
        "y_val_aligned = y_test_scaled[:len(y_pred)]\n",
        "\n",
        "# Calculate R^2 score\n",
        "r2 = r2_score(y_val_aligned, y_pred)\n",
        "\n",
        "# Calculate mean squared error\n",
        "mse = mean_squared_error(y_val_aligned, y_pred)\n",
        "\n",
        "# Calculate mean absolute error\n",
        "mae = mean_absolute_error(y_val_aligned, y_pred)\n",
        "\n",
        "print(\"R^2 Score:\", r2)\n",
        "print(\"Mean Squared Error:\", mse)\n",
        "print(\"Mean Absolute Error:\", mae)"
      ],
      "metadata": {
        "colab": {
          "base_uri": "https://localhost:8080/"
        },
        "id": "TAMkdTItcO4Q",
        "outputId": "f89c8b8e-2986-43c6-8374-b514c39894c8"
      },
      "execution_count": null,
      "outputs": [
        {
          "output_type": "stream",
          "name": "stdout",
          "text": [
            "\u001b[1m117/117\u001b[0m \u001b[32m━━━━━━━━━━━━━━━━━━━━\u001b[0m\u001b[37m\u001b[0m \u001b[1m2s\u001b[0m 18ms/step\n",
            "R^2 Score: -0.05204367350210526\n",
            "Mean Squared Error: 0.005955097888937355\n",
            "Mean Absolute Error: 0.02636168685896668\n"
          ]
        }
      ]
    },
    {
      "cell_type": "code",
      "source": [
        "from tensorflow.keras.models import Sequential\n",
        "from tensorflow.keras.layers import LSTM, Dense\n",
        "from tensorflow.keras.regularizers import l2\n",
        "from tensorflow.keras.callbacks import EarlyStopping\n",
        "\n",
        "# Define the model\n",
        "model = Sequential([\n",
        "    LSTM(50, activation='relu', input_shape=(sequence_length, n_features),\n",
        "         kernel_regularizer=l2(0.01),  # L2 regularization on the kernel\n",
        "         recurrent_regularizer=l2(0.01)),  # L2 regularization on the recurrent kernel\n",
        "    Dense(1)\n",
        "])\n",
        "\n",
        "model.compile(optimizer='adam', loss='mean_squared_error')\n",
        "\n",
        "model.summary()\n",
        "\n",
        "early_stopping = EarlyStopping(monitor='val_loss', patience=10)\n",
        "model.fit(train_generator, steps_per_epoch=len(train_generator), epochs=20,callbacks=[early_stopping])\n"
      ],
      "metadata": {
        "colab": {
          "base_uri": "https://localhost:8080/"
        },
        "id": "sWkDMekW9vra",
        "outputId": "a7cfd570-77c9-46ac-aea0-32e6a0ea2e57"
      },
      "execution_count": null,
      "outputs": [
        {
          "output_type": "stream",
          "name": "stdout",
          "text": [
            "Model: \"sequential_12\"\n",
            "_________________________________________________________________\n",
            " Layer (type)                Output Shape              Param #   \n",
            "=================================================================\n",
            " lstm_20 (LSTM)              (None, 50)                12200     \n",
            "                                                                 \n",
            " dense_11 (Dense)            (None, 1)                 51        \n",
            "                                                                 \n",
            "=================================================================\n",
            "Total params: 12251 (47.86 KB)\n",
            "Trainable params: 12251 (47.86 KB)\n",
            "Non-trainable params: 0 (0.00 Byte)\n",
            "_________________________________________________________________\n",
            "Epoch 1/20\n",
            "352/355 [============================>.] - ETA: 0s - loss: 0.0946"
          ]
        },
        {
          "output_type": "stream",
          "name": "stderr",
          "text": [
            "WARNING:tensorflow:Early stopping conditioned on metric `val_loss` which is not available. Available metrics are: loss\n"
          ]
        },
        {
          "output_type": "stream",
          "name": "stdout",
          "text": [
            "\b\b\b\b\b\b\b\b\b\b\b\b\b\b\b\b\b\b\b\b\b\b\b\b\b\b\b\b\b\b\b\b\b\b\b\b\b\b\b\b\b\b\b\b\b\b\b\b\b\b\b\b\b\b\b\b\b\b\b\b\b\b\b\b\b\r355/355 [==============================] - 4s 6ms/step - loss: 0.0939\n",
            "Epoch 2/20\n",
            "352/355 [============================>.] - ETA: 0s - loss: 0.0026"
          ]
        },
        {
          "output_type": "stream",
          "name": "stderr",
          "text": [
            "WARNING:tensorflow:Early stopping conditioned on metric `val_loss` which is not available. Available metrics are: loss\n"
          ]
        },
        {
          "output_type": "stream",
          "name": "stdout",
          "text": [
            "\b\b\b\b\b\b\b\b\b\b\b\b\b\b\b\b\b\b\b\b\b\b\b\b\b\b\b\b\b\b\b\b\b\b\b\b\b\b\b\b\b\b\b\b\b\b\b\b\b\b\b\b\b\b\b\b\b\b\b\b\b\b\b\b\b\r355/355 [==============================] - 2s 6ms/step - loss: 0.0026\n",
            "Epoch 3/20\n",
            "352/355 [============================>.] - ETA: 0s - loss: 0.0024"
          ]
        },
        {
          "output_type": "stream",
          "name": "stderr",
          "text": [
            "WARNING:tensorflow:Early stopping conditioned on metric `val_loss` which is not available. Available metrics are: loss\n"
          ]
        },
        {
          "output_type": "stream",
          "name": "stdout",
          "text": [
            "\b\b\b\b\b\b\b\b\b\b\b\b\b\b\b\b\b\b\b\b\b\b\b\b\b\b\b\b\b\b\b\b\b\b\b\b\b\b\b\b\b\b\b\b\b\b\b\b\b\b\b\b\b\b\b\b\b\b\b\b\b\b\b\b\b\r355/355 [==============================] - 3s 9ms/step - loss: 0.0024\n",
            "Epoch 4/20\n",
            "350/355 [============================>.] - ETA: 0s - loss: 0.0024"
          ]
        },
        {
          "output_type": "stream",
          "name": "stderr",
          "text": [
            "WARNING:tensorflow:Early stopping conditioned on metric `val_loss` which is not available. Available metrics are: loss\n"
          ]
        },
        {
          "output_type": "stream",
          "name": "stdout",
          "text": [
            "\b\b\b\b\b\b\b\b\b\b\b\b\b\b\b\b\b\b\b\b\b\b\b\b\b\b\b\b\b\b\b\b\b\b\b\b\b\b\b\b\b\b\b\b\b\b\b\b\b\b\b\b\b\b\b\b\b\b\b\b\b\b\b\b\b\r355/355 [==============================] - 2s 6ms/step - loss: 0.0023\n",
            "Epoch 5/20\n",
            "347/355 [============================>.] - ETA: 0s - loss: 0.0023"
          ]
        },
        {
          "output_type": "stream",
          "name": "stderr",
          "text": [
            "WARNING:tensorflow:Early stopping conditioned on metric `val_loss` which is not available. Available metrics are: loss\n"
          ]
        },
        {
          "output_type": "stream",
          "name": "stdout",
          "text": [
            "\b\b\b\b\b\b\b\b\b\b\b\b\b\b\b\b\b\b\b\b\b\b\b\b\b\b\b\b\b\b\b\b\b\b\b\b\b\b\b\b\b\b\b\b\b\b\b\b\b\b\b\b\b\b\b\b\b\b\b\b\b\b\b\b\b\r355/355 [==============================] - 2s 6ms/step - loss: 0.0023\n",
            "Epoch 6/20\n",
            "351/355 [============================>.] - ETA: 0s - loss: 0.0024"
          ]
        },
        {
          "output_type": "stream",
          "name": "stderr",
          "text": [
            "WARNING:tensorflow:Early stopping conditioned on metric `val_loss` which is not available. Available metrics are: loss\n"
          ]
        },
        {
          "output_type": "stream",
          "name": "stdout",
          "text": [
            "\b\b\b\b\b\b\b\b\b\b\b\b\b\b\b\b\b\b\b\b\b\b\b\b\b\b\b\b\b\b\b\b\b\b\b\b\b\b\b\b\b\b\b\b\b\b\b\b\b\b\b\b\b\b\b\b\b\b\b\b\b\b\b\b\b\r355/355 [==============================] - 2s 6ms/step - loss: 0.0024\n",
            "Epoch 7/20\n",
            "351/355 [============================>.] - ETA: 0s - loss: 0.0024"
          ]
        },
        {
          "output_type": "stream",
          "name": "stderr",
          "text": [
            "WARNING:tensorflow:Early stopping conditioned on metric `val_loss` which is not available. Available metrics are: loss\n"
          ]
        },
        {
          "output_type": "stream",
          "name": "stdout",
          "text": [
            "\b\b\b\b\b\b\b\b\b\b\b\b\b\b\b\b\b\b\b\b\b\b\b\b\b\b\b\b\b\b\b\b\b\b\b\b\b\b\b\b\b\b\b\b\b\b\b\b\b\b\b\b\b\b\b\b\b\b\b\b\b\b\b\b\b\r355/355 [==============================] - 3s 8ms/step - loss: 0.0023\n",
            "Epoch 8/20\n",
            "351/355 [============================>.] - ETA: 0s - loss: 0.0023"
          ]
        },
        {
          "output_type": "stream",
          "name": "stderr",
          "text": [
            "WARNING:tensorflow:Early stopping conditioned on metric `val_loss` which is not available. Available metrics are: loss\n"
          ]
        },
        {
          "output_type": "stream",
          "name": "stdout",
          "text": [
            "\b\b\b\b\b\b\b\b\b\b\b\b\b\b\b\b\b\b\b\b\b\b\b\b\b\b\b\b\b\b\b\b\b\b\b\b\b\b\b\b\b\b\b\b\b\b\b\b\b\b\b\b\b\b\b\b\b\b\b\b\b\b\b\b\b\r355/355 [==============================] - 3s 8ms/step - loss: 0.0024\n",
            "Epoch 9/20\n",
            "349/355 [============================>.] - ETA: 0s - loss: 0.0023"
          ]
        },
        {
          "output_type": "stream",
          "name": "stderr",
          "text": [
            "WARNING:tensorflow:Early stopping conditioned on metric `val_loss` which is not available. Available metrics are: loss\n"
          ]
        },
        {
          "output_type": "stream",
          "name": "stdout",
          "text": [
            "\b\b\b\b\b\b\b\b\b\b\b\b\b\b\b\b\b\b\b\b\b\b\b\b\b\b\b\b\b\b\b\b\b\b\b\b\b\b\b\b\b\b\b\b\b\b\b\b\b\b\b\b\b\b\b\b\b\b\b\b\b\b\b\b\b\r355/355 [==============================] - 2s 6ms/step - loss: 0.0024\n",
            "Epoch 10/20\n",
            "353/355 [============================>.] - ETA: 0s - loss: 0.0024"
          ]
        },
        {
          "output_type": "stream",
          "name": "stderr",
          "text": [
            "WARNING:tensorflow:Early stopping conditioned on metric `val_loss` which is not available. Available metrics are: loss\n"
          ]
        },
        {
          "output_type": "stream",
          "name": "stdout",
          "text": [
            "\b\b\b\b\b\b\b\b\b\b\b\b\b\b\b\b\b\b\b\b\b\b\b\b\b\b\b\b\b\b\b\b\b\b\b\b\b\b\b\b\b\b\b\b\b\b\b\b\b\b\b\b\b\b\b\b\b\b\b\b\b\b\b\b\b\r355/355 [==============================] - 3s 7ms/step - loss: 0.0023\n",
            "Epoch 11/20\n",
            "350/355 [============================>.] - ETA: 0s - loss: 0.0023"
          ]
        },
        {
          "output_type": "stream",
          "name": "stderr",
          "text": [
            "WARNING:tensorflow:Early stopping conditioned on metric `val_loss` which is not available. Available metrics are: loss\n"
          ]
        },
        {
          "output_type": "stream",
          "name": "stdout",
          "text": [
            "\b\b\b\b\b\b\b\b\b\b\b\b\b\b\b\b\b\b\b\b\b\b\b\b\b\b\b\b\b\b\b\b\b\b\b\b\b\b\b\b\b\b\b\b\b\b\b\b\b\b\b\b\b\b\b\b\b\b\b\b\b\b\b\b\b\r355/355 [==============================] - 3s 8ms/step - loss: 0.0024\n",
            "Epoch 12/20\n",
            "349/355 [============================>.] - ETA: 0s - loss: 0.0024"
          ]
        },
        {
          "output_type": "stream",
          "name": "stderr",
          "text": [
            "WARNING:tensorflow:Early stopping conditioned on metric `val_loss` which is not available. Available metrics are: loss\n"
          ]
        },
        {
          "output_type": "stream",
          "name": "stdout",
          "text": [
            "\b\b\b\b\b\b\b\b\b\b\b\b\b\b\b\b\b\b\b\b\b\b\b\b\b\b\b\b\b\b\b\b\b\b\b\b\b\b\b\b\b\b\b\b\b\b\b\b\b\b\b\b\b\b\b\b\b\b\b\b\b\b\b\b\b\r355/355 [==============================] - 2s 7ms/step - loss: 0.0023\n",
            "Epoch 13/20\n",
            "347/355 [============================>.] - ETA: 0s - loss: 0.0023"
          ]
        },
        {
          "output_type": "stream",
          "name": "stderr",
          "text": [
            "WARNING:tensorflow:Early stopping conditioned on metric `val_loss` which is not available. Available metrics are: loss\n"
          ]
        },
        {
          "output_type": "stream",
          "name": "stdout",
          "text": [
            "\b\b\b\b\b\b\b\b\b\b\b\b\b\b\b\b\b\b\b\b\b\b\b\b\b\b\b\b\b\b\b\b\b\b\b\b\b\b\b\b\b\b\b\b\b\b\b\b\b\b\b\b\b\b\b\b\b\b\b\b\b\b\b\b\b\r355/355 [==============================] - 2s 6ms/step - loss: 0.0023\n",
            "Epoch 14/20\n",
            "353/355 [============================>.] - ETA: 0s - loss: 0.0023"
          ]
        },
        {
          "output_type": "stream",
          "name": "stderr",
          "text": [
            "WARNING:tensorflow:Early stopping conditioned on metric `val_loss` which is not available. Available metrics are: loss\n"
          ]
        },
        {
          "output_type": "stream",
          "name": "stdout",
          "text": [
            "\b\b\b\b\b\b\b\b\b\b\b\b\b\b\b\b\b\b\b\b\b\b\b\b\b\b\b\b\b\b\b\b\b\b\b\b\b\b\b\b\b\b\b\b\b\b\b\b\b\b\b\b\b\b\b\b\b\b\b\b\b\b\b\b\b\r355/355 [==============================] - 2s 6ms/step - loss: 0.0023\n",
            "Epoch 15/20\n",
            "353/355 [============================>.] - ETA: 0s - loss: 0.0023"
          ]
        },
        {
          "output_type": "stream",
          "name": "stderr",
          "text": [
            "WARNING:tensorflow:Early stopping conditioned on metric `val_loss` which is not available. Available metrics are: loss\n"
          ]
        },
        {
          "output_type": "stream",
          "name": "stdout",
          "text": [
            "\b\b\b\b\b\b\b\b\b\b\b\b\b\b\b\b\b\b\b\b\b\b\b\b\b\b\b\b\b\b\b\b\b\b\b\b\b\b\b\b\b\b\b\b\b\b\b\b\b\b\b\b\b\b\b\b\b\b\b\b\b\b\b\b\b\r355/355 [==============================] - 3s 8ms/step - loss: 0.0023\n",
            "Epoch 16/20\n",
            "352/355 [============================>.] - ETA: 0s - loss: 0.0024"
          ]
        },
        {
          "output_type": "stream",
          "name": "stderr",
          "text": [
            "WARNING:tensorflow:Early stopping conditioned on metric `val_loss` which is not available. Available metrics are: loss\n"
          ]
        },
        {
          "output_type": "stream",
          "name": "stdout",
          "text": [
            "\b\b\b\b\b\b\b\b\b\b\b\b\b\b\b\b\b\b\b\b\b\b\b\b\b\b\b\b\b\b\b\b\b\b\b\b\b\b\b\b\b\b\b\b\b\b\b\b\b\b\b\b\b\b\b\b\b\b\b\b\b\b\b\b\b\r355/355 [==============================] - 3s 7ms/step - loss: 0.0023\n",
            "Epoch 17/20\n",
            "351/355 [============================>.] - ETA: 0s - loss: 0.0024"
          ]
        },
        {
          "output_type": "stream",
          "name": "stderr",
          "text": [
            "WARNING:tensorflow:Early stopping conditioned on metric `val_loss` which is not available. Available metrics are: loss\n"
          ]
        },
        {
          "output_type": "stream",
          "name": "stdout",
          "text": [
            "\b\b\b\b\b\b\b\b\b\b\b\b\b\b\b\b\b\b\b\b\b\b\b\b\b\b\b\b\b\b\b\b\b\b\b\b\b\b\b\b\b\b\b\b\b\b\b\b\b\b\b\b\b\b\b\b\b\b\b\b\b\b\b\b\b\r355/355 [==============================] - 2s 7ms/step - loss: 0.0024\n",
            "Epoch 18/20\n",
            "354/355 [============================>.] - ETA: 0s - loss: 0.0023"
          ]
        },
        {
          "output_type": "stream",
          "name": "stderr",
          "text": [
            "WARNING:tensorflow:Early stopping conditioned on metric `val_loss` which is not available. Available metrics are: loss\n"
          ]
        },
        {
          "output_type": "stream",
          "name": "stdout",
          "text": [
            "\b\b\b\b\b\b\b\b\b\b\b\b\b\b\b\b\b\b\b\b\b\b\b\b\b\b\b\b\b\b\b\b\b\b\b\b\b\b\b\b\b\b\b\b\b\b\b\b\b\b\b\b\b\b\b\b\b\b\b\b\b\b\b\b\b\r355/355 [==============================] - 2s 7ms/step - loss: 0.0023\n",
            "Epoch 19/20\n",
            "350/355 [============================>.] - ETA: 0s - loss: 0.0024"
          ]
        },
        {
          "output_type": "stream",
          "name": "stderr",
          "text": [
            "WARNING:tensorflow:Early stopping conditioned on metric `val_loss` which is not available. Available metrics are: loss\n"
          ]
        },
        {
          "output_type": "stream",
          "name": "stdout",
          "text": [
            "\b\b\b\b\b\b\b\b\b\b\b\b\b\b\b\b\b\b\b\b\b\b\b\b\b\b\b\b\b\b\b\b\b\b\b\b\b\b\b\b\b\b\b\b\b\b\b\b\b\b\b\b\b\b\b\b\b\b\b\b\b\b\b\b\b\r355/355 [==============================] - 2s 7ms/step - loss: 0.0023\n",
            "Epoch 20/20\n",
            "352/355 [============================>.] - ETA: 0s - loss: 0.0023"
          ]
        },
        {
          "output_type": "stream",
          "name": "stderr",
          "text": [
            "WARNING:tensorflow:Early stopping conditioned on metric `val_loss` which is not available. Available metrics are: loss\n"
          ]
        },
        {
          "output_type": "stream",
          "name": "stdout",
          "text": [
            "\b\b\b\b\b\b\b\b\b\b\b\b\b\b\b\b\b\b\b\b\b\b\b\b\b\b\b\b\b\b\b\b\b\b\b\b\b\b\b\b\b\b\b\b\b\b\b\b\b\b\b\b\b\b\b\b\b\b\b\b\b\b\b\b\b\r355/355 [==============================] - 3s 10ms/step - loss: 0.0023\n"
          ]
        },
        {
          "output_type": "execute_result",
          "data": {
            "text/plain": [
              "<keras.src.callbacks.History at 0x7cfb0d87fbe0>"
            ]
          },
          "metadata": {},
          "execution_count": 89
        }
      ]
    },
    {
      "cell_type": "code",
      "source": [
        "from sklearn.metrics import r2_score, mean_squared_error, mean_absolute_error\n",
        "\n",
        "# Make predictions on the test set\n",
        "y_pred = model.predict(val_generator)\n",
        "\n",
        "y_val_aligned = y_test_scaled[:len(y_pred)]\n",
        "\n",
        "# Calculate R^2 score\n",
        "r2 = r2_score(y_val_aligned, y_pred)\n",
        "\n",
        "# Calculate mean squared error\n",
        "mse = mean_squared_error(y_val_aligned, y_pred)\n",
        "\n",
        "# Calculate mean absolute error\n",
        "mae = mean_absolute_error(y_val_aligned, y_pred)\n",
        "\n",
        "print(\"R^2 Score:\", r2)\n",
        "print(\"Mean Squared Error:\", mse)\n",
        "print(\"Mean Absolute Error:\", mae)"
      ],
      "metadata": {
        "colab": {
          "base_uri": "https://localhost:8080/"
        },
        "id": "Zm-t9MhN-AkS",
        "outputId": "c99cf523-7a90-498f-8f8f-44b6f379dc7a"
      },
      "execution_count": null,
      "outputs": [
        {
          "output_type": "stream",
          "name": "stdout",
          "text": [
            "117/117 [==============================] - 1s 4ms/step\n",
            "R^2 Score: -0.08439544055663517\n",
            "Mean Squared Error: 0.006117644779050986\n",
            "Mean Absolute Error: 0.026172236395111178\n"
          ]
        }
      ]
    },
    {
      "cell_type": "markdown",
      "source": [
        "GRU:"
      ],
      "metadata": {
        "id": "zlVaZyqmpC1G"
      }
    },
    {
      "cell_type": "code",
      "source": [
        "from tensorflow.keras.models import Sequential\n",
        "from tensorflow.keras.layers import GRU, Dense\n",
        "\n",
        "n_features = X_train.shape[1]  # Number of features in the dataset\n",
        "model = Sequential([\n",
        "    GRU(50, activation='relu', input_shape=(sequence_length, n_features)),  # GRU layer with 50 units\n",
        "    Dense(1)  # Output layer for prediction\n",
        "])\n",
        "model.compile(optimizer='adam', loss='mean_squared_error')\n",
        "\n",
        "model.summary()\n",
        "model.fit(train_generator, steps_per_epoch=len(train_generator), epochs=20, verbose=1)\n"
      ],
      "metadata": {
        "colab": {
          "base_uri": "https://localhost:8080/"
        },
        "id": "AVe5ygdnZJ6N",
        "outputId": "c191be9a-bbcb-40a4-9327-a69d16d4f20a"
      },
      "execution_count": null,
      "outputs": [
        {
          "output_type": "stream",
          "name": "stdout",
          "text": [
            "Model: \"sequential_5\"\n",
            "_________________________________________________________________\n",
            " Layer (type)                Output Shape              Param #   \n",
            "=================================================================\n",
            " gru (GRU)                   (None, 50)                10200     \n",
            "                                                                 \n",
            " dense_5 (Dense)             (None, 1)                 51        \n",
            "                                                                 \n",
            "=================================================================\n",
            "Total params: 10251 (40.04 KB)\n",
            "Trainable params: 10251 (40.04 KB)\n",
            "Non-trainable params: 0 (0.00 Byte)\n",
            "_________________________________________________________________\n",
            "Epoch 1/20\n",
            "239/239 [==============================] - 9s 30ms/step - loss: 0.0036\n",
            "Epoch 2/20\n",
            "239/239 [==============================] - 4s 16ms/step - loss: 0.0034\n",
            "Epoch 3/20\n",
            "239/239 [==============================] - 5s 20ms/step - loss: 0.0033\n",
            "Epoch 4/20\n",
            "239/239 [==============================] - 5s 20ms/step - loss: 0.0033\n",
            "Epoch 5/20\n",
            "239/239 [==============================] - 4s 16ms/step - loss: 0.0034\n",
            "Epoch 6/20\n",
            "239/239 [==============================] - 4s 18ms/step - loss: 0.0033\n",
            "Epoch 7/20\n",
            "239/239 [==============================] - 5s 20ms/step - loss: 0.0033\n",
            "Epoch 8/20\n",
            "239/239 [==============================] - 4s 17ms/step - loss: 0.0033\n",
            "Epoch 9/20\n",
            "239/239 [==============================] - 5s 20ms/step - loss: 0.0033\n",
            "Epoch 10/20\n",
            "239/239 [==============================] - 5s 19ms/step - loss: 0.0032\n",
            "Epoch 11/20\n",
            "239/239 [==============================] - 4s 16ms/step - loss: 0.0032\n",
            "Epoch 12/20\n",
            "239/239 [==============================] - 5s 19ms/step - loss: 0.0033\n",
            "Epoch 13/20\n",
            "239/239 [==============================] - 5s 19ms/step - loss: 0.0032\n",
            "Epoch 14/20\n",
            "239/239 [==============================] - 4s 17ms/step - loss: 0.0032\n",
            "Epoch 15/20\n",
            "239/239 [==============================] - 5s 21ms/step - loss: 0.0032\n",
            "Epoch 16/20\n",
            "239/239 [==============================] - 5s 21ms/step - loss: 0.0032\n",
            "Epoch 17/20\n",
            "239/239 [==============================] - 4s 17ms/step - loss: 0.0032\n",
            "Epoch 18/20\n",
            "239/239 [==============================] - 5s 19ms/step - loss: 0.0032\n",
            "Epoch 19/20\n",
            "239/239 [==============================] - 5s 20ms/step - loss: 0.0032\n",
            "Epoch 20/20\n",
            "239/239 [==============================] - 4s 17ms/step - loss: 0.0032\n"
          ]
        },
        {
          "output_type": "execute_result",
          "data": {
            "text/plain": [
              "<keras.src.callbacks.History at 0x7dee7be96bf0>"
            ]
          },
          "metadata": {},
          "execution_count": 29
        }
      ]
    },
    {
      "cell_type": "code",
      "source": [
        "from sklearn.metrics import r2_score, mean_squared_error, mean_absolute_error\n",
        "\n",
        "# Make predictions on the test set\n",
        "y_pred = model.predict(val_generator)\n",
        "\n",
        "y_val_aligned = y_test_scaled[:len(y_pred)]\n",
        "\n",
        "# Calculate R^2 score\n",
        "r2 = r2_score(y_val_aligned, y_pred)\n",
        "\n",
        "# Calculate mean squared error\n",
        "mse = mean_squared_error(y_val_aligned, y_pred)\n",
        "\n",
        "# Calculate mean absolute error\n",
        "mae = mean_absolute_error(y_val_aligned, y_pred)\n",
        "\n",
        "print(\"R^2 Score:\", r2)\n",
        "print(\"Mean Squared Error:\", mse)\n",
        "print(\"Mean Absolute Error:\", mae)"
      ],
      "metadata": {
        "colab": {
          "base_uri": "https://localhost:8080/"
        },
        "id": "BHI7tU0EmMpZ",
        "outputId": "f456ed39-3249-4788-a4d8-4918ace514ca"
      },
      "execution_count": null,
      "outputs": [
        {
          "output_type": "stream",
          "name": "stdout",
          "text": [
            "230/230 [==============================] - 2s 6ms/step\n",
            "R^2 Score: -1.8972451880422598\n",
            "Mean Squared Error: 0.008721280869361313\n",
            "Mean Absolute Error: 0.085383922618796\n"
          ]
        }
      ]
    },
    {
      "cell_type": "markdown",
      "source": [
        "RNN:"
      ],
      "metadata": {
        "id": "BQtF-BPyo8Hy"
      }
    },
    {
      "cell_type": "code",
      "source": [
        "from tensorflow.keras.models import Sequential\n",
        "from tensorflow.keras.layers import SimpleRNN, Dense\n",
        "\n",
        "model = Sequential([\n",
        "    # RNN layer with 50 units; specify input shape as (sequence_length, features)\n",
        "    SimpleRNN(50, activation='relu', input_shape=(sequence_length, n_features)),\n",
        "    # Output layer to predict the next value in the sequence\n",
        "    Dense(1)\n",
        "])\n",
        "\n",
        "model.compile(optimizer='adam', loss='mean_squared_error')\n",
        "model.summary()\n",
        "model.fit(train_generator, steps_per_epoch=len(train_generator), epochs=20, verbose=1)\n"
      ],
      "metadata": {
        "colab": {
          "base_uri": "https://localhost:8080/"
        },
        "id": "SNdpyHRio8ae",
        "outputId": "456851ae-76e3-4453-c742-8cca73177e29"
      },
      "execution_count": null,
      "outputs": [
        {
          "output_type": "stream",
          "name": "stdout",
          "text": [
            "Model: \"sequential_13\"\n",
            "_________________________________________________________________\n",
            " Layer (type)                Output Shape              Param #   \n",
            "=================================================================\n",
            " simple_rnn (SimpleRNN)      (None, 50)                3050      \n",
            "                                                                 \n",
            " dense_12 (Dense)            (None, 1)                 51        \n",
            "                                                                 \n",
            "=================================================================\n",
            "Total params: 3101 (12.11 KB)\n",
            "Trainable params: 3101 (12.11 KB)\n",
            "Non-trainable params: 0 (0.00 Byte)\n",
            "_________________________________________________________________\n",
            "Epoch 1/20\n",
            "355/355 [==============================] - 5s 9ms/step - loss: 0.0051\n",
            "Epoch 2/20\n",
            "355/355 [==============================] - 3s 9ms/step - loss: 0.0026\n",
            "Epoch 3/20\n",
            "355/355 [==============================] - 2s 7ms/step - loss: 0.0023\n",
            "Epoch 4/20\n",
            "355/355 [==============================] - 2s 7ms/step - loss: 0.0023\n",
            "Epoch 5/20\n",
            "355/355 [==============================] - 3s 8ms/step - loss: 0.0023\n",
            "Epoch 6/20\n",
            "355/355 [==============================] - 2s 6ms/step - loss: 0.0023\n",
            "Epoch 7/20\n",
            "355/355 [==============================] - 1s 4ms/step - loss: 0.0022\n",
            "Epoch 8/20\n",
            "355/355 [==============================] - 1s 4ms/step - loss: 0.0022\n",
            "Epoch 9/20\n",
            "355/355 [==============================] - 1s 4ms/step - loss: 0.0022\n",
            "Epoch 10/20\n",
            "355/355 [==============================] - 1s 4ms/step - loss: 0.0022\n",
            "Epoch 11/20\n",
            "355/355 [==============================] - 1s 4ms/step - loss: 0.0022\n",
            "Epoch 12/20\n",
            "355/355 [==============================] - 1s 3ms/step - loss: 0.0022\n",
            "Epoch 13/20\n",
            "355/355 [==============================] - 2s 5ms/step - loss: 0.0022\n",
            "Epoch 14/20\n",
            "355/355 [==============================] - 2s 5ms/step - loss: 0.0021\n",
            "Epoch 15/20\n",
            "355/355 [==============================] - 1s 3ms/step - loss: 0.0021\n",
            "Epoch 16/20\n",
            "355/355 [==============================] - 1s 3ms/step - loss: 0.0021\n",
            "Epoch 17/20\n",
            "355/355 [==============================] - 1s 3ms/step - loss: 0.0021\n",
            "Epoch 18/20\n",
            "355/355 [==============================] - 1s 4ms/step - loss: 0.0021\n",
            "Epoch 19/20\n",
            "355/355 [==============================] - 1s 3ms/step - loss: 0.0021\n",
            "Epoch 20/20\n",
            "355/355 [==============================] - 1s 3ms/step - loss: 0.0021\n"
          ]
        },
        {
          "output_type": "execute_result",
          "data": {
            "text/plain": [
              "<keras.src.callbacks.History at 0x7cfb0d526380>"
            ]
          },
          "metadata": {},
          "execution_count": 91
        }
      ]
    },
    {
      "cell_type": "code",
      "source": [
        "from sklearn.metrics import r2_score, mean_squared_error, mean_absolute_error\n",
        "\n",
        "# Make predictions on the test set\n",
        "y_pred = model.predict(val_generator)\n",
        "\n",
        "y_val_aligned = y_test_scaled[:len(y_pred)]\n",
        "\n",
        "# Calculate R^2 score\n",
        "r2 = r2_score(y_val_aligned, y_pred)\n",
        "\n",
        "# Calculate mean squared error\n",
        "mse = mean_squared_error(y_val_aligned, y_pred)\n",
        "\n",
        "# Calculate mean absolute error\n",
        "mae = mean_absolute_error(y_val_aligned, y_pred)\n",
        "\n",
        "print(\"R^2 Score:\", r2)\n",
        "print(\"Mean Squared Error:\", mse)\n",
        "print(\"Mean Absolute Error:\", mae)"
      ],
      "metadata": {
        "colab": {
          "base_uri": "https://localhost:8080/"
        },
        "id": "aHeDekDqpAp7",
        "outputId": "45f2c3e6-2bfb-4601-9305-f5aefb22ee34"
      },
      "execution_count": null,
      "outputs": [
        {
          "output_type": "stream",
          "name": "stdout",
          "text": [
            "230/230 [==============================] - 1s 4ms/step\n",
            "R^2 Score: -5.083036283021996\n",
            "Mean Squared Error: 0.01831114197090062\n",
            "Mean Absolute Error: 0.11834484958058814\n"
          ]
        }
      ]
    },
    {
      "cell_type": "markdown",
      "source": [
        "As we can see that Deep learning models are not working so well on the data, we will go forward with XGBOOST.\n",
        "The possible reason could be small amount of data and hence R2 value is coming out to be small whereas MAE and MSE are coming out to be fine. For us, Machine learning model worked fine without getting overfit on smaller data."
      ],
      "metadata": {
        "id": "k9zGsDKCskkM"
      }
    },
    {
      "cell_type": "markdown",
      "source": [
        "Now, we are trying monthly forecasting on the same model XGBOOST, because it gave good prediction on the previous model."
      ],
      "metadata": {
        "id": "KEZAhjirkIRJ"
      }
    },
    {
      "cell_type": "markdown",
      "source": [],
      "metadata": {
        "id": "62EZN1lezvYo"
      }
    },
    {
      "cell_type": "markdown",
      "source": [
        "#Monthly"
      ],
      "metadata": {
        "id": "RLHB7O8Pu-Jz"
      }
    },
    {
      "cell_type": "code",
      "source": [
        "#monthly\n",
        "import pandas as pd\n",
        "from sklearn.model_selection import train_test_split\n",
        "from xgboost import XGBRegressor\n",
        "from sklearn.metrics import mean_absolute_error\n",
        "\n",
        "# Load dataset\n",
        "df = pd.read_csv('/content/drive/MyDrive/aggregatedWholeHouse.csv')\n",
        "\n",
        "# Convert the 'unix' timestamp to datetime\n",
        "df['datetime'] = pd.to_datetime(df['unix'], unit='s')\n",
        "df.set_index('datetime', inplace=True)\n",
        "\n",
        "# Aggregate data to weekly totals\n",
        "weekly_data = df['flow'].resample('W').sum()\n",
        "\n",
        "weekly_data = weekly_data.reset_index()\n",
        "\n",
        "# Calculate rolling features\n",
        "weekly_data['rolling_mean'] = weekly_data['flow'].rolling(window=3).mean()\n",
        "weekly_data['rolling_std'] = weekly_data['flow'].rolling(window=3).std()\n",
        "\n",
        "# Lagged features\n",
        "for lag in range(1, 3):\n",
        "    weekly_data[f'lag_{lag}'] = weekly_data['flow'].shift(lag)\n",
        "\n",
        "weekly_data.dropna(inplace=True)\n",
        "\n",
        "# Extract datetime features\n",
        "weekly_data['week_of_month'] = (weekly_data['datetime'].dt.day - 1) // 7 + 1\n",
        "weekly_data['month'] = weekly_data['datetime'].dt.month\n",
        "weekly_data['year'] = weekly_data['datetime'].dt.year\n",
        "\n",
        "# dataset for training\n",
        "X_weekly = weekly_data.drop(['flow', 'datetime'], axis=1)\n",
        "y_weekly = weekly_data['flow']\n",
        "\n",
        "# Split into training and testing sets\n",
        "X_train_weekly, X_test_weekly, y_train_weekly, y_test_weekly = train_test_split(\n",
        "    X_weekly, y_weekly, test_size=0.2, random_state=42)\n",
        "\n",
        "# train the XGBoost model\n",
        "model_weekly = XGBRegressor(n_estimators=100, learning_rate=0.1, max_depth=5, random_state=42)\n",
        "model_weekly.fit(X_train_weekly, y_train_weekly)\n",
        "\n",
        "# Make predictions\n",
        "predictions_weekly = model_weekly.predict(X_test_weekly)"
      ],
      "metadata": {
        "id": "HEpFOjVpDDB9"
      },
      "execution_count": null,
      "outputs": []
    },
    {
      "cell_type": "code",
      "source": [
        "# Compute metrics\n",
        "from sklearn.metrics import mean_absolute_error, mean_squared_error, r2_score\n",
        "import numpy as np\n",
        "\n",
        "mae = mean_absolute_error(y_test_weekly, predictions_weekly)\n",
        "mse = mean_squared_error(y_test_weekly, predictions_weekly)\n",
        "rmse = np.sqrt(mse)\n",
        "r2 = r2_score(y_test_weekly, predictions_weekly)\n",
        "\n",
        "print(\"Mean Absolute Error:\", mae)\n",
        "print(\"Mean Squared Error:\", mse)\n",
        "print(\"Root Mean Squared Error:\", rmse)\n",
        "print(\"R-squared:\", r2)"
      ],
      "metadata": {
        "colab": {
          "base_uri": "https://localhost:8080/"
        },
        "id": "JZAb_fIsDOee",
        "outputId": "581b4ba6-4ba3-46d9-ac3c-7b991fab6596"
      },
      "execution_count": null,
      "outputs": [
        {
          "output_type": "stream",
          "name": "stdout",
          "text": [
            "Mean Absolute Error: 40764.04436074363\n",
            "Mean Squared Error: 4622669086.7126045\n",
            "Root Mean Squared Error: 67990.21316860688\n",
            "R-squared: 0.9188186785886215\n"
          ]
        }
      ]
    },
    {
      "cell_type": "code",
      "source": [
        "data_description = weekly_data['flow'].describe()\n",
        "print(data_description)"
      ],
      "metadata": {
        "colab": {
          "base_uri": "https://localhost:8080/"
        },
        "id": "Y37k-udmDwV4",
        "outputId": "822b6695-9437-41bb-b887-d333d05c7d2b"
      },
      "execution_count": null,
      "outputs": [
        {
          "output_type": "stream",
          "name": "stdout",
          "text": [
            "count    8.900000e+01\n",
            "mean     2.561924e+05\n",
            "std      2.720661e+05\n",
            "min      0.000000e+00\n",
            "25%      0.000000e+00\n",
            "50%      2.325042e+05\n",
            "75%      4.150682e+05\n",
            "max      1.059353e+06\n",
            "Name: flow, dtype: float64\n"
          ]
        }
      ]
    },
    {
      "cell_type": "markdown",
      "source": [
        "**Mean (Average) Value**: The average value in the dataset is approximately 256,192. A MAE of 40764.04, compared to this average, suggests that the average error made by the model is about 15.9% of the mean value. [(40764.04 / 256192) * 100 ≈ 15.9%]\n",
        "\n",
        "**Standard Deviation**: The standard deviation is approximately 272,066, which is a measure of the spread of the data. The MAE is smaller than the standard deviation, which is a good. However, considering the high variability in the data, a certain level of error is expected.\n",
        "\n",
        "**Range of Values**: Data ranges from 0 to 1,059,353. Given this wide range, a MAE of 40764.04 represents a relatively small error.\n",
        "\n",
        "Median and Quartiles: The 50% percentile (median) is approximately 232,504, and the 25% and 75% percentiles are 0 and 415,068, respectively. The MAE is smaller than the difference between the median and the upper quartile, which is good.\n"
      ],
      "metadata": {
        "id": "7E6bIroXEF-R"
      }
    },
    {
      "cell_type": "code",
      "source": [
        "import matplotlib.pyplot as plt\n",
        "\n",
        "actual_values = y_test_weekly.to_numpy()\n",
        "\n",
        "plt.figure(figsize=(12, 6))\n",
        "plt.plot(actual_values, label='Actual Flow', marker='o',color='blue')\n",
        "plt.plot(predictions_weekly, label='Predicted Flow', marker='x',color='red')\n",
        "\n",
        "plt.title('Comparison of Actual and Predicted Water Flow')\n",
        "plt.xlabel('Week Number')\n",
        "plt.ylabel('Flow')\n",
        "plt.legend()\n",
        "plt.show()"
      ],
      "metadata": {
        "colab": {
          "base_uri": "https://localhost:8080/",
          "height": 564
        },
        "id": "y9UJVRMuD9zj",
        "outputId": "4abd503a-d186-4edc-87ae-271c50b4fa74"
      },
      "execution_count": null,
      "outputs": [
        {
          "output_type": "display_data",
          "data": {
            "text/plain": [
              "<Figure size 1200x600 with 1 Axes>"
            ],
            "image/png": "[encoded data removed]"
          },
          "metadata": {}
        }
      ]
    },
    {
      "cell_type": "markdown",
      "source": [
        "In the visual comparison of predicted versus actual values, it is evident that the predicted values align closely with the actual values. This indicates a high degree of accuracy in the model's forecasts, as reflected in the proximity of the predicted data points to the real-world observations."
      ],
      "metadata": {
        "id": "YA-aHvgHJk7J"
      }
    },
    {
      "cell_type": "code",
      "source": [
        "# Sample input\n",
        "input = {\n",
        "    'rolling_mean': 451906.500000,   # Replace with an appropriate rolling mean value\n",
        "    'rolling_std': 537271.641795,     # Replace with an appropriate rolling std value\n",
        "    'lag_1': 39016.500000,          # Previous week's flow\n",
        "    'lag_2': 1.059353e+06,          # Flow from two weeks ago\n",
        "    'week_of_month': 4,    # Week number of the year\n",
        "    'month': 8,            # Month\n",
        "    'year': 2020           # Year\n",
        "}\n",
        "\n",
        "# Convert the sample input into a DataFrame\n",
        "input_df = pd.DataFrame([input])\n",
        "\n",
        "# Make a prediction\n",
        "predicted_flow = model_weekly.predict(input_df)\n",
        "\n",
        "# Display the predicted flow\n",
        "print(\"Predicted Flow:\", predicted_flow[0]/1000,\"Litres\")\n"
      ],
      "metadata": {
        "colab": {
          "base_uri": "https://localhost:8080/"
        },
        "id": "XFk865caGmed",
        "outputId": "f135509d-2f67-46d9-d4d7-316e8ce7c5d7"
      },
      "execution_count": null,
      "outputs": [
        {
          "output_type": "stream",
          "name": "stdout",
          "text": [
            "Predicted Flow: 80.35834375 Litres\n"
          ]
        }
      ]
    },
    {
      "cell_type": "markdown",
      "source": [
        "This sample prediction demonstrates the model's capability to assist users in forecasting weekly water usage. It offers a practical tool for anticipating consumption for a specified week, enhancing resource planning and management."
      ],
      "metadata": {
        "id": "W7ORlQrVKm2N"
      }
    }
  ]
}